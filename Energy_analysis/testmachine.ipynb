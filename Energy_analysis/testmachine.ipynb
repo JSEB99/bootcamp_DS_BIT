version https://git-lfs.github.com/spec/v1
oid sha256:28f74be03da484503554f84d08a818c9e88d705b1d7ba56988baccc7619eb270
size 341427
