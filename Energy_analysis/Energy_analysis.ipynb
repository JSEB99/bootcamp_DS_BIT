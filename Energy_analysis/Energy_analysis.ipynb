version https://git-lfs.github.com/spec/v1
oid sha256:e1f5a062ab3b4f7069294b4aff5d7548504d8f97495628b35308c3ac65c1f84c
size 83800657
