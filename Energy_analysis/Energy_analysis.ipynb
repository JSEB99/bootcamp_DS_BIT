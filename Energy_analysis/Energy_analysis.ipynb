version https://git-lfs.github.com/spec/v1
oid sha256:58e027c146470821133da9604ca12ffe987d73b3008148af3d8eb429a0d6f78a
size 84123218
