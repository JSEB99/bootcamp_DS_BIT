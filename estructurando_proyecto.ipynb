version https://git-lfs.github.com/spec/v1
oid sha256:46399c9d6ea777e26f38902a27c102e1c9aa500885d2b2cbd56f553d03b34252
size 2004445
