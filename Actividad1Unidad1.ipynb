{
 "cells": [
  {
   "cell_type": "markdown",
   "metadata": {},
   "source": [
    "# Listado de Ejercicios a realizar"
   ]
  },
  {
   "cell_type": "markdown",
   "metadata": {},
   "source": [
    "## 1. Sin usar el computador, evalúe las siguientes expresiones, y para cada una de ellas indique el resultado y su tipo (si la expresión es válida) o qué error ocurre:\n",
    "\n",
    "### Ejemplo\n",
    "- 2 + 3      # Respuesta: tipo int, valor 5\n",
    "- 4 / 0      # Respuesta: error de división por cero\n",
    "\n",
    "### Ejercicio\n",
    "\n",
    "- 5 + 3 * 4\n",
    "- '5' + '3' * 2\n",
    "- 2 ** 11 == 1000 or 2 ** 9 == 100\n",
    "- int(\"cincuenta\")\n",
    "- 16/16 + 384/24\n",
    "- 600 + 18%\n",
    "- 0 < (4096 % 10) < 6\n",
    "- 'Max' + 'Min'\n",
    "- ABC() * DEF()\n",
    "- float(-int('7') + int('90'))\n",
    "- abs(len('seis') - len('tres'))\n",
    "- bool(1210) or bool(-3465) \n",
    "- float(str(int('8' * 3) / 3)[3])"
   ]
  },
  {
   "cell_type": "code",
   "execution_count": null,
   "metadata": {},
   "outputs": [],
   "source": [
    "# Respuesta:\n",
    "5 + 3*4 #tipo int, valor 17\n",
    "'5'+'3'*2 #tipo str, valor 533\n",
    "2**11 == 1000 or 2**9==100 #tipo boolean, valor False\n",
    "int(\"cincuenta\") #error variable no es numerica, Value Error\n",
    "16/16 + 384/24 #tipo int, valor 17\n",
    "600 + 18%  #syntax error, el modulo al final no indica con que valor realizar la operación\n",
    "0 < (4096 % 10) <6 #tipo Boolean, valor False\n",
    "'Max' + 'Min' #tipo str, valor MaxMin\n",
    "ABC()*DEF() #NameError, ABC y DEF son funciones y no estan definidas\n",
    "float(-int('7')+int('90')) #tipo float, valor 83.0\n",
    "abs(len('seis')-len('tres')) #tipo int, valor 0\n",
    "bool(1210) or bool(-3465) #tipo boolean, valor True\n",
    "float(str(int('8' * 3)/3)[3]) #ValueError, se sale de rango en el string"
   ]
  },
  {
   "cell_type": "markdown",
   "metadata": {},
   "source": [
    "# 2. Imprima su nombre y fecha\n",
    "- Imprime: Jorge Alvarez - 20-04-2020"
   ]
  },
  {
   "cell_type": "code",
   "execution_count": 15,
   "metadata": {},
   "outputs": [
    {
     "name": "stdout",
     "output_type": "stream",
     "text": [
      "Juan Sebastian - 11 - 03 - 2023\n"
     ]
    }
   ],
   "source": [
    "# Respuesta:\n",
    "print(\"Juan Sebastian - 11 - 03 - 2023\")"
   ]
  },
  {
   "cell_type": "markdown",
   "metadata": {},
   "source": [
    "# 3. Solicite un nombre y que el programa salude\n",
    "### Ejemplo:\n",
    "- ingreso: 'Andres'\n",
    "- imprime: 'Hola Andres'"
   ]
  },
  {
   "cell_type": "code",
   "execution_count": 16,
   "metadata": {},
   "outputs": [
    {
     "name": "stdout",
     "output_type": "stream",
     "text": [
      "Hola Sebastian\n"
     ]
    }
   ],
   "source": [
    "# Respuesta:\n",
    "nombre = input(\"Digite un nombre a continuación: \")\n",
    "print(f\"Hola {nombre}\")"
   ]
  },
  {
   "cell_type": "markdown",
   "metadata": {},
   "source": [
    "# 4. Solicite el radio (un numero) de un círculo e imprima como salida su diámetro, perímetro y su área\n",
    "### Ejemplo\n",
    "- ingreso: 3 \n",
    "- imprime - Diametro: 6\n",
    "- imprime - Perimetro: 18.84\n",
    "- imprime - Area: 28.27"
   ]
  },
  {
   "cell_type": "code",
   "execution_count": 27,
   "metadata": {},
   "outputs": [
    {
     "name": "stdout",
     "output_type": "stream",
     "text": [
      "Diametro: 6.0\n",
      "Perimetro: 18.84\n",
      "Area: 28.26\n"
     ]
    }
   ],
   "source": [
    "# Respuesta:\n",
    "radio = float(input(\"Digite el radio de un circulo\"))\n",
    "pi = 3.14\n",
    "diametro = radio*2\n",
    "perimetro = 2*pi*radio\n",
    "area = pi*(radio**2)\n",
    "print(f\"Diametro: {diametro}\\nPerimetro: {perimetro}\\nArea: {area}\")\n"
   ]
  },
  {
   "cell_type": "markdown",
   "metadata": {},
   "source": [
    "# 5. Solicite 6 notas y calcule el promedio de ellas\n",
    "### Ejemplo\n",
    "- ingreso: 1 2 3 4 5 6\n",
    "- imprime: 3.5"
   ]
  },
  {
   "cell_type": "code",
   "execution_count": 28,
   "metadata": {},
   "outputs": [
    {
     "name": "stdout",
     "output_type": "stream",
     "text": [
      "3.5\n"
     ]
    }
   ],
   "source": [
    "# Respuesta:\n",
    "nota_1 = float(input(\"Digite nota 1\"))\n",
    "nota_3 = float(input(\"Digite nota 3\"))\n",
    "nota_2 = float(input(\"Digite nota 2\"))\n",
    "nota_4 = float(input(\"Digite nota 4\"))\n",
    "nota_5 = float(input(\"Digite nota 5\"))\n",
    "nota_6 = float(input(\"Digite nota 6\"))\n",
    "\n",
    "promedio = float((nota_1+nota_2+nota_3+nota_4+nota_5+nota_6)/6)\n",
    "\n",
    "print(promedio)\n"
   ]
  },
  {
   "cell_type": "markdown",
   "metadata": {},
   "source": [
    "# 6. Solicite un valor e imprima que tipo de dato es\n",
    "### Ejemplo\n",
    "- ingreso: 'A'\n",
    "- imprime: str\n",
    "- ingreso: 1\n",
    "- imprime: int"
   ]
  },
  {
   "cell_type": "code",
   "execution_count": 30,
   "metadata": {},
   "outputs": [
    {
     "name": "stdout",
     "output_type": "stream",
     "text": [
      "<class 'str'>\n",
      "<class 'int'>\n"
     ]
    }
   ],
   "source": [
    "# Respuesta:\n",
    "dato = 'A'\n",
    "print(type(dato))\n",
    "dato = 1\n",
    "print(type(dato))"
   ]
  },
  {
   "cell_type": "markdown",
   "metadata": {},
   "source": [
    "# 7. Escriba en código la siguiente ecuación\n",
    "$$ \\left(\\frac{5+3}{3-2}\\right)^2$$"
   ]
  },
  {
   "cell_type": "code",
   "execution_count": null,
   "metadata": {},
   "outputs": [],
   "source": [
    "# Respuesta\n",
    "ecuacion = ((5+3)/(3-2))**2"
   ]
  },
  {
   "cell_type": "markdown",
   "metadata": {},
   "source": [
    "# 8. Solicite número de horas trabajadas y coste por horas e imprima el valor\n",
    "### Ejemplo:\n",
    "- Ingreso: 4 (horas)\n",
    "- ingreso: 80.000 (precio x hora)\n",
    "- imprime: 320.000"
   ]
  },
  {
   "cell_type": "code",
   "execution_count": 31,
   "metadata": {},
   "outputs": [
    {
     "name": "stdout",
     "output_type": "stream",
     "text": [
      "salario = 320000.0\n"
     ]
    }
   ],
   "source": [
    "# Respuesta\n",
    "horas_trabajadas = float(input(\"horas trabajadas?\\n\"))\n",
    "coste_horas = float(input(\"coste por horas trabajadas?\\n\"))\n",
    "print(f\"salario = {horas_trabajadas*coste_horas}\")"
   ]
  },
  {
   "cell_type": "markdown",
   "metadata": {},
   "source": [
    "# 9. Solicite la temperatura en grados Celsius e imprima en grados Kelvin y Fahrenheit \n",
    "### Ejemplo:\n",
    "- ingreso: 38 (°C)\n",
    "- imprime: 311.15 °K\n",
    "- imprime: 100.4 °F"
   ]
  },
  {
   "cell_type": "code",
   "execution_count": 33,
   "metadata": {},
   "outputs": [
    {
     "name": "stdout",
     "output_type": "stream",
     "text": [
      "311.15 °K\n",
      "100.4 °F\n"
     ]
    }
   ],
   "source": [
    "# Respuesta\n",
    "Celsius = float(input(\"Digite una temperatura en °C: \"))\n",
    "Kelvin = Celsius + 273.15\n",
    "Fahrenheit = 1.8*(Celsius)+32\n",
    "\n",
    "print(f\"{Kelvin} °K\\n{Fahrenheit} °F\")"
   ]
  },
  {
   "cell_type": "markdown",
   "metadata": {},
   "source": [
    "# 10. Solicite 2 numeros e imprima si el segundo es mayor  \n",
    "### Ejemplo:\n",
    "- ingreso: 2\n",
    "- ingreso: 3\n",
    "- impmrime: True"
   ]
  },
  {
   "cell_type": "code",
   "execution_count": 34,
   "metadata": {},
   "outputs": [
    {
     "name": "stdout",
     "output_type": "stream",
     "text": [
      "True\n"
     ]
    }
   ],
   "source": [
    "# Respuesta\n",
    "numero_1 = int(input(\"Digite un número: \"))\n",
    "numero_2 = int(input(\"Digite un número: \"))\n",
    "\n",
    "print(numero_2>numero_1)"
   ]
  },
  {
   "cell_type": "markdown",
   "metadata": {},
   "source": [
    "# 11. Solicite 2 numeros e imprima si el segundo es menor  \n",
    "### Ejemplo:\n",
    "- ingreso: 2\n",
    "- ingreso: 3\n",
    "- impmrime: False"
   ]
  },
  {
   "cell_type": "code",
   "execution_count": 35,
   "metadata": {},
   "outputs": [
    {
     "name": "stdout",
     "output_type": "stream",
     "text": [
      "False\n"
     ]
    }
   ],
   "source": [
    "# Respuesta\n",
    "numero_1 = int(input(\"Digite un número: \"))\n",
    "numero_2 = int(input(\"Digite un número: \"))\n",
    "\n",
    "print(numero_2<numero_1)"
   ]
  },
  {
   "cell_type": "markdown",
   "metadata": {},
   "source": [
    "# 12. Solicite una distancia (metros) y la velocidad (metros/segundos) e imprima el tiempo que se demora el recorrido\n",
    "### Ejemplo:\n",
    "- ingreso: 150 (metros)\n",
    "- ingreso: 15 (metros/segundo)\n",
    "- Imprime: 10 segundos"
   ]
  },
  {
   "cell_type": "code",
   "execution_count": 37,
   "metadata": {},
   "outputs": [
    {
     "name": "stdout",
     "output_type": "stream",
     "text": [
      "10.0 segundos\n"
     ]
    }
   ],
   "source": [
    "# Respuesta\n",
    "distancia = int(input(\"Digite una distancia: \"))\n",
    "velocidad = int(input(\"Digite una velocidad: \"))\n",
    "print(f\"{distancia/velocidad} segundos\")"
   ]
  },
  {
   "cell_type": "markdown",
   "metadata": {},
   "source": [
    "# 13. Solicite al usuario tres valores y escriba en código la siguiente ecuación\n",
    "$$ \\left(\\frac{a+b}{c}\\right) ^2 + \\left(\\frac{a-b}{c}\\right) ^ 2 $$"
   ]
  },
  {
   "cell_type": "code",
   "execution_count": 39,
   "metadata": {},
   "outputs": [
    {
     "name": "stdout",
     "output_type": "stream",
     "text": [
      "2.49\n"
     ]
    }
   ],
   "source": [
    "# Respuesta\n",
    "a = float(input(\"digite un valor: \"))\n",
    "b = float(input(\"digite otro valor: \"))\n",
    "c = float(input(\"digite otro valor: \"))\n",
    "\n",
    "ecuacion = ((a+b)/c)**2+((a-b)/c)**2\n",
    "\n",
    "print(round(ecuacion,2))"
   ]
  },
  {
   "cell_type": "markdown",
   "metadata": {},
   "source": [
    "# 14. Investigue como se saca la raíz cuadrada de un número en Python y escriba la solución en el cuadro de abajo"
   ]
  },
  {
   "cell_type": "code",
   "execution_count": 41,
   "metadata": {},
   "outputs": [
    {
     "name": "stdout",
     "output_type": "stream",
     "text": [
      "5.0\n"
     ]
    }
   ],
   "source": [
    "# Respuesta\n",
    "import math\n",
    "#import numpy as np, falta instalar modulo\n",
    "\n",
    "numero = 25\n",
    "\n",
    "raiz_version_1 = math.sqrt(numero)\n",
    "#raiz_version_2 = np.sqrt(numero)\n",
    "print(raiz_version_1)"
   ]
  },
  {
   "cell_type": "markdown",
   "metadata": {},
   "source": [
    "# 15.  Con lo anterior solicite 2 numeros (Cateto a y Cateto b) e imprima la hipotenusa.\n",
    "### Ejemplo:\n",
    "- ingreso: 3 (Cateto a)\n",
    "- ingreso: 4 (Cateto b)\n",
    "- imprime: Hipotenusa = 5"
   ]
  },
  {
   "cell_type": "code",
   "execution_count": 42,
   "metadata": {},
   "outputs": [
    {
     "name": "stdout",
     "output_type": "stream",
     "text": [
      "Hipotenusa = 5.0\n"
     ]
    }
   ],
   "source": [
    "# Respuesta\n",
    "cateto_a = float(input(\"Cateto 1?\\n\"))\n",
    "cateto_b = float(input(\"Cateto 2?\\n\"))\n",
    "hipotenusa = math.sqrt(cateto_a**2 + cateto_b**2)\n",
    "print(f\"Hipotenusa = {hipotenusa}\")"
   ]
  }
 ],
 "metadata": {
  "kernelspec": {
   "display_name": "Python 3",
   "language": "python",
   "name": "python3"
  },
  "language_info": {
   "codemirror_mode": {
    "name": "ipython",
    "version": 3
   },
   "file_extension": ".py",
   "mimetype": "text/x-python",
   "name": "python",
   "nbconvert_exporter": "python",
   "pygments_lexer": "ipython3",
   "version": "3.7.4"
  }
 },
 "nbformat": 4,
 "nbformat_minor": 2
}
