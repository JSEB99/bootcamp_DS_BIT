{
 "cells": [
  {
   "attachments": {},
   "cell_type": "markdown",
   "metadata": {},
   "source": [
    "# **Actividad 4**\n",
    "## *Estructurando un proyecto de DS*\n",
    "\n",
    "### 1. Abstracto con motivación y audiencia.\n",
    "\n",
    "Se estan presentando fallas por la implementación de energías renovables en Colombia, y el gobierno a solicitado gestionar el asunto a las distribuidoras de energía, para ello se deberan realizar controles sobre el consumo para evitar las fallas en los consumos de energéticos.\n",
    "\n",
    "Una de las principales fallas presentadas es el continuo desfasamiento en la frecuencia debido a los cambios constantes en el consumo que hacen que la energía generada por grandes distribuidores energéticos ocasione inconvenientes en los sectores residenciales.\n",
    "\n",
    "El objetivo es con los controles llegar a acuerdos y leyes que permitan un paso a una transición energética mas estable que de paso a la inclusión de las energías renovables de una mejor manera sin inconvenientes.\n",
    "\n",
    "Se encuentra un dataset de pronósticos de consumo energético ofrecido por XM, este dataset nos permitira darnos una idea del consumo, tener presente que al ser un pronóstico contiene datos aproximados de los reales y en gran medida mayores, debido a que lo normal en un pronóstico es que sea mayor a la medida debido a que es indispensable que no se presente escacez en la entrega de energía.\n",
    "\n",
    "### 2. Preguntas/Hipotésis que queremos resolver mediante el análisis de datos\n",
    "\n",
    "La busqueda de una solución se dará respecto a como se registren los consumos y en la busqueda de las franjas donde se presentan mas inconvenientes en la energía.\n",
    "\n",
    "##### 1)¿En que horario se presenta el mayor consumo de energía?\n",
    "##### 2)¿Que sector es el que mas presenta consumo de energia?\n",
    "##### 3)¿Son diferentes los horarios de consumo de una gran Región a un pequeña?\n",
    "\n",
    "### 3. Análisis exploratorio de datos (EDA)"
   ]
  },
  {
   "cell_type": "code",
   "execution_count": 59,
   "metadata": {},
   "outputs": [],
   "source": [
    "# Se importan librerías de trabajo\n",
    "\n",
    "import matplotlib as mpl\n",
    "import matplotlib.pyplot as plt\n",
    "import seaborn as sns\n",
    "import pandas as pd\n",
    "import numpy as np\n",
    "import plotly\n",
    "import plotly.express as px\n",
    "import plotly.graph_objs as go\n",
    "from plotly.offline import download_plotlyjs, init_notebook_mode,plot,plot, iplot\n",
    "\n"
   ]
  },
  {
   "cell_type": "code",
   "execution_count": 2,
   "metadata": {},
   "outputs": [
    {
     "data": {
      "text/html": [
       "<div>\n",
       "<style scoped>\n",
       "    .dataframe tbody tr th:only-of-type {\n",
       "        vertical-align: middle;\n",
       "    }\n",
       "\n",
       "    .dataframe tbody tr th {\n",
       "        vertical-align: top;\n",
       "    }\n",
       "\n",
       "    .dataframe thead th {\n",
       "        text-align: right;\n",
       "    }\n",
       "</style>\n",
       "<table border=\"1\" class=\"dataframe\">\n",
       "  <thead>\n",
       "    <tr style=\"text-align: right;\">\n",
       "      <th></th>\n",
       "      <th>Operadores_de_red</th>\n",
       "      <th>hora</th>\n",
       "      <th>potencia</th>\n",
       "      <th>lunes</th>\n",
       "      <th>martes</th>\n",
       "      <th>miercoles</th>\n",
       "      <th>jueves</th>\n",
       "      <th>viernes</th>\n",
       "      <th>sabado</th>\n",
       "      <th>domingo</th>\n",
       "    </tr>\n",
       "  </thead>\n",
       "  <tbody>\n",
       "    <tr>\n",
       "      <th>0</th>\n",
       "      <td>MC-Antioquia</td>\n",
       "      <td>1</td>\n",
       "      <td>EN</td>\n",
       "      <td>883.0</td>\n",
       "      <td>923.0</td>\n",
       "      <td>924.0</td>\n",
       "      <td>921.0</td>\n",
       "      <td>938.0</td>\n",
       "      <td>956.0</td>\n",
       "      <td>907.0</td>\n",
       "    </tr>\n",
       "  </tbody>\n",
       "</table>\n",
       "</div>"
      ],
      "text/plain": [
       "  Operadores_de_red  hora potencia  lunes  martes  miercoles  jueves  viernes  \\\n",
       "0      MC-Antioquia     1       EN  883.0   923.0      924.0   921.0    938.0   \n",
       "\n",
       "   sabado  domingo  \n",
       "0   956.0    907.0  "
      ]
     },
     "execution_count": 2,
     "metadata": {},
     "output_type": "execute_result"
    }
   ],
   "source": [
    "# importando el archivo csv \n",
    "url=\"https://raw.githubusercontent.com/JSEB99/bootcamp_DS_BIT/main/pronosticos_consumo_semanal.csv\"\n",
    "dataset=pd.read_csv(url,sep=',')\n",
    "# Conozco que campos contiene el dataframe\n",
    "dataset.head(1)"
   ]
  },
  {
   "cell_type": "code",
   "execution_count": 3,
   "metadata": {},
   "outputs": [
    {
     "name": "stdout",
     "output_type": "stream",
     "text": [
      "<class 'pandas.core.frame.DataFrame'>\n",
      "RangeIndex: 2952 entries, 0 to 2951\n",
      "Data columns (total 10 columns):\n",
      " #   Column             Non-Null Count  Dtype  \n",
      "---  ------             --------------  -----  \n",
      " 0   Operadores_de_red  2952 non-null   object \n",
      " 1   hora               2952 non-null   int64  \n",
      " 2   potencia           2952 non-null   object \n",
      " 3   lunes              2952 non-null   float64\n",
      " 4   martes             2952 non-null   float64\n",
      " 5   miercoles          2952 non-null   float64\n",
      " 6   jueves             2952 non-null   float64\n",
      " 7   viernes            2952 non-null   float64\n",
      " 8   sabado             2952 non-null   float64\n",
      " 9   domingo            2952 non-null   float64\n",
      "dtypes: float64(7), int64(1), object(2)\n",
      "memory usage: 230.8+ KB\n"
     ]
    }
   ],
   "source": [
    "# Se revisa el contenido del dataset\n",
    "dataset.info()"
   ]
  },
  {
   "cell_type": "code",
   "execution_count": 4,
   "metadata": {},
   "outputs": [
    {
     "data": {
      "text/plain": [
       "Operadores_de_red    0\n",
       "hora                 0\n",
       "potencia             0\n",
       "lunes                0\n",
       "martes               0\n",
       "miercoles            0\n",
       "jueves               0\n",
       "viernes              0\n",
       "sabado               0\n",
       "domingo              0\n",
       "dtype: int64"
      ]
     },
     "execution_count": 4,
     "metadata": {},
     "output_type": "execute_result"
    }
   ],
   "source": [
    "# se revisan valores nulos en el dataset\n",
    "dataset.isnull().sum()"
   ]
  },
  {
   "attachments": {},
   "cell_type": "markdown",
   "metadata": {},
   "source": [
    "Se observa que el dataset maneja columnas respecto a los distribuidores de red en los diferentes sectores, hora, medida y dias de la semana.\n",
    "\n",
    "No se observan valores nulos\n",
    "\n",
    "De acuerdo a la información de los campos no se evidencian alteraciones en los datos por lo cual el dataset esta listo para trabajarse"
   ]
  },
  {
   "cell_type": "code",
   "execution_count": 5,
   "metadata": {},
   "outputs": [
    {
     "name": "stdout",
     "output_type": "stream",
     "text": [
      "['MC-Antioquia' 'MC-Arauca' 'MC-Atlantico' 'MC-BajoPutumayo' 'MC-Bolivar'\n",
      " 'MC-Boyaca' 'MC-Caldas' 'MC-Cali' 'MC-Caqueta' 'MC-Cartago' 'MC-Casanare'\n",
      " 'MC-Cauca' 'MC-Celsia' 'MC-Cerromatoso' 'MC-Cesar' 'MC-Choco'\n",
      " 'MC-CiraInfanta' 'MC-Codensa' 'MC-CordobaSucre' 'MC-Drummond'\n",
      " 'MC-DrummondLoma' 'MC-Emec' 'MC-GM' 'MC-Guaviare' 'MC-Huila'\n",
      " 'MC-Intercor' 'MC-Meta' 'MC-Nariño' 'MC-NorSantander' 'MC-Oxy'\n",
      " 'MC-Pereira' 'MC-Planeta' 'MC-PSTN' 'MC-Putumayo' 'MC-Quindio'\n",
      " 'MC-Rubiales' 'MC-SanFernando' 'MC-Santander' 'MC-Tolima'\n",
      " 'MC-TubosCaribe' 'MC-Tulua'] 41\n"
     ]
    }
   ],
   "source": [
    "#Visualizo que operadores de red existen con su longitud\n",
    "operators_list=dataset['Operadores_de_red'].unique()\n",
    "print(operators_list,len(operators_list))"
   ]
  },
  {
   "attachments": {
    "image.png": {
     "image/png": "[encoded data removed]"
    }
   },
   "cell_type": "markdown",
   "metadata": {},
   "source": [
    "### CONTEXTUALIZACIÓN\n",
    "Antes de resolver las préguntas, el consumo energético ideal sería uno donde no se presenten cambios tan grandes, donde las distribuidores de energía puedan controlar de mejor manera su suministro sin presentarse cambios que puedan desbalancear la red energética nacional. \n",
    "En la Teoría la curva de consumo actual se le llama \"curva de pato\", la cual tiene la siguiente forma:\n",
    "\n",
    "![image.png](attachment:image.png)\n",
    "\n",
    "De acuerdo a lo anterior primero se evidenciarán esta curva con un centro de gran consumo, que es la distribuidora de Codensa, que suministra en algunos municipios de Boyacá (8), Cundinamarca, uno del Tolima, uno de Caldas, uno del Meta y Bogotá. La cual es la de mayor operatividad en Colombia."
   ]
  },
  {
   "cell_type": "code",
   "execution_count": 6,
   "metadata": {},
   "outputs": [
    {
     "data": {
      "image/png": "[encoded data removed]",
      "text/plain": [
       "<Figure size 1500x700 with 1 Axes>"
      ]
     },
     "metadata": {},
     "output_type": "display_data"
    }
   ],
   "source": [
    "# Obtengo los consumos de Codensa\n",
    "consumo_codensa = dataset[dataset['Operadores_de_red']=='MC-Codensa']\n",
    "# elimino la columna de Operadores de red\n",
    "consumo_codensa = consumo_codensa.drop('Operadores_de_red',axis='columns')\n",
    "# averiguo el consumo según las 3 semanas por hora del día\n",
    "promedio_consumo_codensa = consumo_codensa.groupby('hora').mean(numeric_only=True)\n",
    "# Graficando la curva según los días y las horas de la semana promedio, según las 3 primeras semanas de Marzo\n",
    "sns.set(rc={\"figure.figsize\":(15, 7)})\n",
    "ax3=sns.lineplot(data=promedio_consumo_codensa[['lunes','martes','miercoles','jueves','viernes','sabado','domingo']])\n",
    "ax3.set_xlim(promedio_consumo_codensa.index[0], promedio_consumo_codensa.index[-1])\n",
    "ax3.set_ylim(1150,2300)\n",
    "ax3.set_xlabel('Hora')  \n",
    "ax3.set_ylabel('Potencia (MW)') \n",
    "ax3.set_title('Consumo primeras 3 semanas de marzo 2023 en Codensa')\n",
    "ax3.set_xticks(np.arange(1, len(promedio_consumo_codensa.index)+1, 1))\n",
    "ax3.set_yticks(np.arange(1150, max(promedio_consumo_codensa['miercoles']), 50))\n",
    "sns.move_legend(ax3,\"upper left\")"
   ]
  },
  {
   "attachments": {},
   "cell_type": "markdown",
   "metadata": {},
   "source": [
    "#### Observaciones\n",
    "De lo anterior no es tan notorio la llamada curva de pato, sin embargo sigue la misma tendencia. Mencionar que dependiendo del día se tienen más consumos que otros como se puede evidenciar que los fines de semana que es donde las personas abandonan las principales Ciudades en su mayoria y no se tienen jornadas laborales que requieran grandes usos energéticos, se presenta un declive en el consumo energético. Ademas que en los días habiles de la semana no se presentan cambios tan notorios en la curva, en el rango de 10 a 21 horas, concluyendose que en ese rango es donde las personas estan más activas digitalmente como laboralmente. "
   ]
  },
  {
   "cell_type": "code",
   "execution_count": 69,
   "metadata": {},
   "outputs": [
    {
     "data": {
      "text/html": [
       "<div>\n",
       "<style scoped>\n",
       "    .dataframe tbody tr th:only-of-type {\n",
       "        vertical-align: middle;\n",
       "    }\n",
       "\n",
       "    .dataframe tbody tr th {\n",
       "        vertical-align: top;\n",
       "    }\n",
       "\n",
       "    .dataframe thead th {\n",
       "        text-align: right;\n",
       "    }\n",
       "</style>\n",
       "<table border=\"1\" class=\"dataframe\">\n",
       "  <thead>\n",
       "    <tr style=\"text-align: right;\">\n",
       "      <th></th>\n",
       "      <th>Operadores_de_red</th>\n",
       "      <th>hora</th>\n",
       "      <th>lunes</th>\n",
       "      <th>martes</th>\n",
       "      <th>miercoles</th>\n",
       "      <th>jueves</th>\n",
       "      <th>viernes</th>\n",
       "      <th>sabado</th>\n",
       "      <th>domingo</th>\n",
       "      <th>promedio_semanal_por_dia</th>\n",
       "      <th>Operador/Hora</th>\n",
       "    </tr>\n",
       "  </thead>\n",
       "  <tbody>\n",
       "    <tr>\n",
       "      <th>14</th>\n",
       "      <td>MC-Cerromatoso</td>\n",
       "      <td>6</td>\n",
       "      <td>108.242903</td>\n",
       "      <td>103.432903</td>\n",
       "      <td>106.271417</td>\n",
       "      <td>111.080750</td>\n",
       "      <td>147.837500</td>\n",
       "      <td>147.837167</td>\n",
       "      <td>147.836833</td>\n",
       "      <td>124.648496</td>\n",
       "      <td>MC-Cerromatoso/6</td>\n",
       "    </tr>\n",
       "    <tr>\n",
       "      <th>15</th>\n",
       "      <td>MC-Cerromatoso</td>\n",
       "      <td>7</td>\n",
       "      <td>108.242903</td>\n",
       "      <td>103.432903</td>\n",
       "      <td>106.271417</td>\n",
       "      <td>111.080750</td>\n",
       "      <td>147.837500</td>\n",
       "      <td>147.837167</td>\n",
       "      <td>147.836833</td>\n",
       "      <td>124.648496</td>\n",
       "      <td>MC-Cerromatoso/7</td>\n",
       "    </tr>\n",
       "    <tr>\n",
       "      <th>16</th>\n",
       "      <td>MC-Cerromatoso</td>\n",
       "      <td>8</td>\n",
       "      <td>108.242903</td>\n",
       "      <td>103.432903</td>\n",
       "      <td>106.271417</td>\n",
       "      <td>111.080750</td>\n",
       "      <td>147.837500</td>\n",
       "      <td>147.837167</td>\n",
       "      <td>147.836833</td>\n",
       "      <td>124.648496</td>\n",
       "      <td>MC-Cerromatoso/8</td>\n",
       "    </tr>\n",
       "    <tr>\n",
       "      <th>17</th>\n",
       "      <td>MC-Cerromatoso</td>\n",
       "      <td>9</td>\n",
       "      <td>108.242903</td>\n",
       "      <td>103.432903</td>\n",
       "      <td>106.271417</td>\n",
       "      <td>111.080750</td>\n",
       "      <td>147.837500</td>\n",
       "      <td>147.837167</td>\n",
       "      <td>147.836833</td>\n",
       "      <td>124.648496</td>\n",
       "      <td>MC-Cerromatoso/9</td>\n",
       "    </tr>\n",
       "    <tr>\n",
       "      <th>21</th>\n",
       "      <td>MC-CiraInfanta</td>\n",
       "      <td>20</td>\n",
       "      <td>51.333333</td>\n",
       "      <td>51.333333</td>\n",
       "      <td>51.333333</td>\n",
       "      <td>51.333333</td>\n",
       "      <td>51.333333</td>\n",
       "      <td>51.000000</td>\n",
       "      <td>51.000000</td>\n",
       "      <td>51.238095</td>\n",
       "      <td>MC-CiraInfanta/20</td>\n",
       "    </tr>\n",
       "    <tr>\n",
       "      <th>22</th>\n",
       "      <td>MC-CiraInfanta</td>\n",
       "      <td>21</td>\n",
       "      <td>51.333333</td>\n",
       "      <td>51.333333</td>\n",
       "      <td>51.333333</td>\n",
       "      <td>51.333333</td>\n",
       "      <td>51.333333</td>\n",
       "      <td>51.000000</td>\n",
       "      <td>51.000000</td>\n",
       "      <td>51.238095</td>\n",
       "      <td>MC-CiraInfanta/21</td>\n",
       "    </tr>\n",
       "    <tr>\n",
       "      <th>26</th>\n",
       "      <td>MC-Drummond</td>\n",
       "      <td>20</td>\n",
       "      <td>8.236667</td>\n",
       "      <td>9.003333</td>\n",
       "      <td>5.723333</td>\n",
       "      <td>5.073333</td>\n",
       "      <td>6.550129</td>\n",
       "      <td>6.693333</td>\n",
       "      <td>7.196667</td>\n",
       "      <td>6.925257</td>\n",
       "      <td>MC-Drummond/20</td>\n",
       "    </tr>\n",
       "    <tr>\n",
       "      <th>27</th>\n",
       "      <td>MC-Drummond</td>\n",
       "      <td>21</td>\n",
       "      <td>8.236667</td>\n",
       "      <td>9.003333</td>\n",
       "      <td>5.723333</td>\n",
       "      <td>5.073333</td>\n",
       "      <td>6.550129</td>\n",
       "      <td>6.693333</td>\n",
       "      <td>7.196667</td>\n",
       "      <td>6.925257</td>\n",
       "      <td>MC-Drummond/21</td>\n",
       "    </tr>\n",
       "    <tr>\n",
       "      <th>38</th>\n",
       "      <td>MC-Oxy</td>\n",
       "      <td>20</td>\n",
       "      <td>91.000000</td>\n",
       "      <td>91.000000</td>\n",
       "      <td>91.000000</td>\n",
       "      <td>91.000000</td>\n",
       "      <td>91.000000</td>\n",
       "      <td>91.000000</td>\n",
       "      <td>91.000000</td>\n",
       "      <td>91.000000</td>\n",
       "      <td>MC-Oxy/20</td>\n",
       "    </tr>\n",
       "    <tr>\n",
       "      <th>39</th>\n",
       "      <td>MC-Oxy</td>\n",
       "      <td>21</td>\n",
       "      <td>91.000000</td>\n",
       "      <td>91.000000</td>\n",
       "      <td>91.000000</td>\n",
       "      <td>91.000000</td>\n",
       "      <td>91.000000</td>\n",
       "      <td>91.000000</td>\n",
       "      <td>91.000000</td>\n",
       "      <td>91.000000</td>\n",
       "      <td>MC-Oxy/21</td>\n",
       "    </tr>\n",
       "    <tr>\n",
       "      <th>41</th>\n",
       "      <td>MC-PSTN</td>\n",
       "      <td>20</td>\n",
       "      <td>163.230241</td>\n",
       "      <td>163.230241</td>\n",
       "      <td>163.230241</td>\n",
       "      <td>163.230241</td>\n",
       "      <td>163.230241</td>\n",
       "      <td>163.104882</td>\n",
       "      <td>163.104882</td>\n",
       "      <td>163.194424</td>\n",
       "      <td>MC-PSTN/20</td>\n",
       "    </tr>\n",
       "    <tr>\n",
       "      <th>42</th>\n",
       "      <td>MC-PSTN</td>\n",
       "      <td>21</td>\n",
       "      <td>163.230241</td>\n",
       "      <td>163.230241</td>\n",
       "      <td>163.230241</td>\n",
       "      <td>163.230241</td>\n",
       "      <td>163.230241</td>\n",
       "      <td>163.104882</td>\n",
       "      <td>163.104882</td>\n",
       "      <td>163.194424</td>\n",
       "      <td>MC-PSTN/21</td>\n",
       "    </tr>\n",
       "    <tr>\n",
       "      <th>52</th>\n",
       "      <td>MC-TubosCaribe</td>\n",
       "      <td>20</td>\n",
       "      <td>4.404750</td>\n",
       "      <td>4.405013</td>\n",
       "      <td>4.209107</td>\n",
       "      <td>4.219477</td>\n",
       "      <td>4.120920</td>\n",
       "      <td>4.160783</td>\n",
       "      <td>3.891333</td>\n",
       "      <td>4.201626</td>\n",
       "      <td>MC-TubosCaribe/20</td>\n",
       "    </tr>\n",
       "    <tr>\n",
       "      <th>53</th>\n",
       "      <td>MC-TubosCaribe</td>\n",
       "      <td>21</td>\n",
       "      <td>4.404750</td>\n",
       "      <td>4.405013</td>\n",
       "      <td>4.209107</td>\n",
       "      <td>4.219477</td>\n",
       "      <td>4.120920</td>\n",
       "      <td>4.160783</td>\n",
       "      <td>3.891333</td>\n",
       "      <td>4.201626</td>\n",
       "      <td>MC-TubosCaribe/21</td>\n",
       "    </tr>\n",
       "  </tbody>\n",
       "</table>\n",
       "</div>"
      ],
      "text/plain": [
       "   Operadores_de_red  hora       lunes      martes   miercoles      jueves  \\\n",
       "14    MC-Cerromatoso     6  108.242903  103.432903  106.271417  111.080750   \n",
       "15    MC-Cerromatoso     7  108.242903  103.432903  106.271417  111.080750   \n",
       "16    MC-Cerromatoso     8  108.242903  103.432903  106.271417  111.080750   \n",
       "17    MC-Cerromatoso     9  108.242903  103.432903  106.271417  111.080750   \n",
       "21    MC-CiraInfanta    20   51.333333   51.333333   51.333333   51.333333   \n",
       "22    MC-CiraInfanta    21   51.333333   51.333333   51.333333   51.333333   \n",
       "26       MC-Drummond    20    8.236667    9.003333    5.723333    5.073333   \n",
       "27       MC-Drummond    21    8.236667    9.003333    5.723333    5.073333   \n",
       "38            MC-Oxy    20   91.000000   91.000000   91.000000   91.000000   \n",
       "39            MC-Oxy    21   91.000000   91.000000   91.000000   91.000000   \n",
       "41           MC-PSTN    20  163.230241  163.230241  163.230241  163.230241   \n",
       "42           MC-PSTN    21  163.230241  163.230241  163.230241  163.230241   \n",
       "52    MC-TubosCaribe    20    4.404750    4.405013    4.209107    4.219477   \n",
       "53    MC-TubosCaribe    21    4.404750    4.405013    4.209107    4.219477   \n",
       "\n",
       "       viernes      sabado     domingo  promedio_semanal_por_dia  \\\n",
       "14  147.837500  147.837167  147.836833                124.648496   \n",
       "15  147.837500  147.837167  147.836833                124.648496   \n",
       "16  147.837500  147.837167  147.836833                124.648496   \n",
       "17  147.837500  147.837167  147.836833                124.648496   \n",
       "21   51.333333   51.000000   51.000000                 51.238095   \n",
       "22   51.333333   51.000000   51.000000                 51.238095   \n",
       "26    6.550129    6.693333    7.196667                  6.925257   \n",
       "27    6.550129    6.693333    7.196667                  6.925257   \n",
       "38   91.000000   91.000000   91.000000                 91.000000   \n",
       "39   91.000000   91.000000   91.000000                 91.000000   \n",
       "41  163.230241  163.104882  163.104882                163.194424   \n",
       "42  163.230241  163.104882  163.104882                163.194424   \n",
       "52    4.120920    4.160783    3.891333                  4.201626   \n",
       "53    4.120920    4.160783    3.891333                  4.201626   \n",
       "\n",
       "        Operador/Hora  \n",
       "14   MC-Cerromatoso/6  \n",
       "15   MC-Cerromatoso/7  \n",
       "16   MC-Cerromatoso/8  \n",
       "17   MC-Cerromatoso/9  \n",
       "21  MC-CiraInfanta/20  \n",
       "22  MC-CiraInfanta/21  \n",
       "26     MC-Drummond/20  \n",
       "27     MC-Drummond/21  \n",
       "38          MC-Oxy/20  \n",
       "39          MC-Oxy/21  \n",
       "41         MC-PSTN/20  \n",
       "42         MC-PSTN/21  \n",
       "52  MC-TubosCaribe/20  \n",
       "53  MC-TubosCaribe/21  "
      ]
     },
     "execution_count": 69,
     "metadata": {},
     "output_type": "execute_result"
    }
   ],
   "source": [
    "# Elimino campo innecesario\n",
    "dataset_sin_potencia=dataset.drop('potencia',axis='columns')\n",
    "# promedio segun hora\n",
    "dataset_horario = dataset.groupby(['Operadores_de_red','hora']).mean(numeric_only=True)\n",
    "# agrego columna de promedio en semana segun hora\n",
    "dataset_horario['promedio_semanal_por_dia']=dataset_horario.mean(axis=1)\n",
    "# averiguo hora maxima de consumo según consumo\n",
    "dataset_hora_max = dataset_horario.reset_index()\n",
    "dataset_hora_max_2 = dataset_hora_max[['Operadores_de_red','promedio_semanal_por_dia']].groupby('Operadores_de_red').max()\n",
    "# intersección entre los dataset para averiguar la hora en que se produjo el consumo máximo\n",
    "dataset_max = pd.merge(dataset_hora_max,dataset_hora_max_2,how='inner',on = 'promedio_semanal_por_dia')\n",
    "# agrego columna para gráficar resultados\n",
    "dataset_max['Operador/Hora'] = dataset_max['Operadores_de_red']+'/'+dataset_max['hora'].astype(str)\n",
    "dataset_max[dataset_max['promedio_semanal_por_dia'].duplicated()== True]"
   ]
  },
  {
   "cell_type": "code",
   "execution_count": 140,
   "metadata": {},
   "outputs": [
    {
     "data": {
      "text/html": [
       "<div>\n",
       "<style scoped>\n",
       "    .dataframe tbody tr th:only-of-type {\n",
       "        vertical-align: middle;\n",
       "    }\n",
       "\n",
       "    .dataframe tbody tr th {\n",
       "        vertical-align: top;\n",
       "    }\n",
       "\n",
       "    .dataframe thead th {\n",
       "        text-align: right;\n",
       "    }\n",
       "</style>\n",
       "<table border=\"1\" class=\"dataframe\">\n",
       "  <thead>\n",
       "    <tr style=\"text-align: right;\">\n",
       "      <th></th>\n",
       "      <th>Operadores_de_red</th>\n",
       "      <th>hora</th>\n",
       "      <th>lunes</th>\n",
       "      <th>martes</th>\n",
       "      <th>miercoles</th>\n",
       "      <th>jueves</th>\n",
       "      <th>viernes</th>\n",
       "      <th>sabado</th>\n",
       "      <th>domingo</th>\n",
       "      <th>promedio_semanal_por_dia</th>\n",
       "      <th>Operador/Hora</th>\n",
       "    </tr>\n",
       "  </thead>\n",
       "  <tbody>\n",
       "  </tbody>\n",
       "</table>\n",
       "</div>"
      ],
      "text/plain": [
       "Empty DataFrame\n",
       "Columns: [Operadores_de_red, hora, lunes, martes, miercoles, jueves, viernes, sabado, domingo, promedio_semanal_por_dia, Operador/Hora]\n",
       "Index: []"
      ]
     },
     "execution_count": 140,
     "metadata": {},
     "output_type": "execute_result"
    }
   ],
   "source": [
    "# Se evidencian registros de promedio semanal por día repetidos por lo cual se eliminarán los valores repetidos\n",
    "dataset_max_new = dataset_max.drop_duplicates(['promedio_semanal_por_dia'],keep='first')\n",
    "dataset_max_new[dataset_max_new['promedio_semanal_por_dia'].duplicated()== True]"
   ]
  },
  {
   "attachments": {},
   "cell_type": "markdown",
   "metadata": {},
   "source": [
    "**No se repite ninguno**"
   ]
  },
  {
   "cell_type": "code",
   "execution_count": 141,
   "metadata": {},
   "outputs": [
    {
     "data": {
      "text/html": [
       "<div>\n",
       "<style scoped>\n",
       "    .dataframe tbody tr th:only-of-type {\n",
       "        vertical-align: middle;\n",
       "    }\n",
       "\n",
       "    .dataframe tbody tr th {\n",
       "        vertical-align: top;\n",
       "    }\n",
       "\n",
       "    .dataframe thead th {\n",
       "        text-align: right;\n",
       "    }\n",
       "</style>\n",
       "<table border=\"1\" class=\"dataframe\">\n",
       "  <thead>\n",
       "    <tr style=\"text-align: right;\">\n",
       "      <th></th>\n",
       "      <th>Operadores_de_red</th>\n",
       "      <th>hora</th>\n",
       "      <th>lunes</th>\n",
       "      <th>martes</th>\n",
       "      <th>miercoles</th>\n",
       "      <th>jueves</th>\n",
       "      <th>viernes</th>\n",
       "      <th>sabado</th>\n",
       "      <th>domingo</th>\n",
       "      <th>promedio_semanal_por_dia</th>\n",
       "      <th>Operador/Hora</th>\n",
       "    </tr>\n",
       "  </thead>\n",
       "  <tbody>\n",
       "    <tr>\n",
       "      <th>0</th>\n",
       "      <td>MC-Antioquia</td>\n",
       "      <td>20</td>\n",
       "      <td>1529.333333</td>\n",
       "      <td>1534.666667</td>\n",
       "      <td>1525.0</td>\n",
       "      <td>1529.0</td>\n",
       "      <td>1525.666667</td>\n",
       "      <td>1413.333333</td>\n",
       "      <td>1280.333333</td>\n",
       "      <td>1476.761905</td>\n",
       "      <td>MC-Antioquia/20</td>\n",
       "    </tr>\n",
       "  </tbody>\n",
       "</table>\n",
       "</div>"
      ],
      "text/plain": [
       "  Operadores_de_red  hora        lunes       martes  miercoles  jueves  \\\n",
       "0      MC-Antioquia    20  1529.333333  1534.666667     1525.0  1529.0   \n",
       "\n",
       "       viernes       sabado      domingo  promedio_semanal_por_dia  \\\n",
       "0  1525.666667  1413.333333  1280.333333               1476.761905   \n",
       "\n",
       "     Operador/Hora  \n",
       "0  MC-Antioquia/20  "
      ]
     },
     "execution_count": 141,
     "metadata": {},
     "output_type": "execute_result"
    }
   ],
   "source": [
    "dataset_max_new.head(1)"
   ]
  },
  {
   "cell_type": "code",
   "execution_count": 92,
   "metadata": {},
   "outputs": [
    {
     "data": {
      "application/vnd.plotly.v1+json": {
       "config": {
        "plotlyServerURL": "https://plot.ly"
       },
       "data": [
        {
         "alignmentgroup": "True",
         "hoverlabel": {
          "namelength": 0
         },
         "hovertemplate": "Promedio semanal por día=%{marker.color}<br>Operador y hora=%{y}",
         "legendgroup": "",
         "marker": {
          "color": [
           1476.7619047619048,
           41.491493,
           747.2619047619048,
           13.970335761904762,
           451.94723971428573,
           308.88620780952385,
           244.71428571428572,
           547.2471291428571,
           46.42788242857143,
           28.712251666666663,
           92.23648566666665,
           158.71100661904762,
           357.3470344285714,
           124.6484960952381,
           256.9595465714286,
           36.19047619047619,
           51.23809523809524,
           2131.6399999523805,
           505.85647314285717,
           6.925256571428571,
           79,
           1.2124574285714285,
           423.7619047619047,
           10.432195238095238,
           179.98957666666664,
           24.81504480952381,
           222.9757149047619,
           131.91772376190477,
           265.7888858571429,
           91,
           163.1944238261381,
           100.14285714285714,
           52.93678514285715,
           15.84730719047619,
           77.46566599999998,
           190.76217238095236,
           102.62194757142856,
           407.6533463333334,
           260.99199957142855,
           4.20162619047619,
           36.228836333333334
          ],
          "coloraxis": "coloraxis",
          "opacity": 0.9
         },
         "name": "",
         "offsetgroup": "",
         "orientation": "h",
         "showlegend": false,
         "text": [
          1476.7619047619048,
          41.491493,
          747.2619047619048,
          13.970335761904762,
          451.94723971428573,
          308.88620780952385,
          244.71428571428572,
          547.2471291428571,
          46.42788242857143,
          28.712251666666663,
          92.23648566666665,
          158.71100661904762,
          357.3470344285714,
          124.6484960952381,
          256.9595465714286,
          36.19047619047619,
          51.23809523809524,
          2131.6399999523805,
          505.85647314285717,
          6.925256571428571,
          79,
          1.2124574285714285,
          423.7619047619047,
          10.432195238095238,
          179.98957666666664,
          24.81504480952381,
          222.9757149047619,
          131.91772376190477,
          265.7888858571429,
          91,
          163.1944238261381,
          100.14285714285714,
          52.93678514285715,
          15.84730719047619,
          77.46566599999998,
          190.76217238095236,
          102.62194757142856,
          407.6533463333334,
          260.99199957142855,
          4.20162619047619,
          36.228836333333334
         ],
         "textposition": "auto",
         "texttemplate": "%{text:.2s}",
         "type": "bar",
         "x": [
          1476.7619047619048,
          41.491493,
          747.2619047619048,
          13.970335761904762,
          451.94723971428573,
          308.88620780952385,
          244.71428571428572,
          547.2471291428571,
          46.42788242857143,
          28.712251666666663,
          92.23648566666665,
          158.71100661904762,
          357.3470344285714,
          124.6484960952381,
          256.9595465714286,
          36.19047619047619,
          51.23809523809524,
          2131.6399999523805,
          505.85647314285717,
          6.925256571428571,
          79,
          1.2124574285714285,
          423.7619047619047,
          10.432195238095238,
          179.98957666666664,
          24.81504480952381,
          222.9757149047619,
          131.91772376190477,
          265.7888858571429,
          91,
          163.1944238261381,
          100.14285714285714,
          52.93678514285715,
          15.84730719047619,
          77.46566599999998,
          190.76217238095236,
          102.62194757142856,
          407.6533463333334,
          260.99199957142855,
          4.20162619047619,
          36.228836333333334
         ],
         "xaxis": "x",
         "y": [
          "MC-Antioquia/20",
          "MC-Arauca/20",
          "MC-Atlantico/21",
          "MC-BajoPutumayo/20",
          "MC-Bolivar/21",
          "MC-Boyaca/20",
          "MC-Caldas/20",
          "MC-Cali/13",
          "MC-Caqueta/20",
          "MC-Cartago/20",
          "MC-Casanare/20",
          "MC-Cauca/20",
          "MC-Celsia/20",
          "MC-Cerromatoso/4",
          "MC-Cesar/21",
          "MC-Choco/20",
          "MC-CiraInfanta/19",
          "MC-Codensa/20",
          "MC-CordobaSucre/21",
          "MC-Drummond/19",
          "MC-DrummondLoma/19",
          "MC-Emec/20",
          "MC-GM/21",
          "MC-Guaviare/20",
          "MC-Huila/20",
          "MC-Intercor/20",
          "MC-Meta/20",
          "MC-Nariño/20",
          "MC-NorSantander/19",
          "MC-Oxy/19",
          "MC-PSTN/19",
          "MC-Pereira/20",
          "MC-Planeta/21",
          "MC-Putumayo/20",
          "MC-Quindio/20",
          "MC-Rubiales/19",
          "MC-SanFernando/5",
          "MC-Santander/19",
          "MC-Tolima/20",
          "MC-TubosCaribe/19",
          "MC-Tulua/20"
         ],
         "yaxis": "y"
        }
       ],
       "layout": {
        "barmode": "relative",
        "coloraxis": {
         "cmax": 2500,
         "cmin": 1,
         "colorbar": {
          "title": {
           "text": "Promedio semanal por día"
          }
         },
         "colorscale": [
          [
           0,
           "rgb(0,0,255)"
          ],
          [
           0.1,
           "rgb(51,153,255)"
          ],
          [
           0.2,
           "rgb(102,204,255)"
          ],
          [
           0.3,
           "rgb(153,204,255)"
          ],
          [
           0.4,
           "rgb(204,204,255)"
          ],
          [
           0.5,
           "rgb(255,255,255)"
          ],
          [
           0.6,
           "rgb(255,204,255)"
          ],
          [
           0.7,
           "rgb(255,153,255)"
          ],
          [
           0.8,
           "rgb(255,102,204)"
          ],
          [
           0.9,
           "rgb(255,102,102)"
          ],
          [
           1,
           "rgb(255,0,0)"
          ]
         ],
         "showscale": false
        },
        "height": 1200,
        "legend": {
         "tracegroupgap": 0
        },
        "template": {
         "data": {
          "bar": [
           {
            "error_x": {
             "color": "#f2f5fa"
            },
            "error_y": {
             "color": "#f2f5fa"
            },
            "marker": {
             "line": {
              "color": "rgb(17,17,17)",
              "width": 0.5
             }
            },
            "type": "bar"
           }
          ],
          "barpolar": [
           {
            "marker": {
             "line": {
              "color": "rgb(17,17,17)",
              "width": 0.5
             }
            },
            "type": "barpolar"
           }
          ],
          "carpet": [
           {
            "aaxis": {
             "endlinecolor": "#A2B1C6",
             "gridcolor": "#506784",
             "linecolor": "#506784",
             "minorgridcolor": "#506784",
             "startlinecolor": "#A2B1C6"
            },
            "baxis": {
             "endlinecolor": "#A2B1C6",
             "gridcolor": "#506784",
             "linecolor": "#506784",
             "minorgridcolor": "#506784",
             "startlinecolor": "#A2B1C6"
            },
            "type": "carpet"
           }
          ],
          "choropleth": [
           {
            "colorbar": {
             "outlinewidth": 0,
             "ticks": ""
            },
            "type": "choropleth"
           }
          ],
          "contour": [
           {
            "colorbar": {
             "outlinewidth": 0,
             "ticks": ""
            },
            "colorscale": [
             [
              0,
              "#0d0887"
             ],
             [
              0.1111111111111111,
              "#46039f"
             ],
             [
              0.2222222222222222,
              "#7201a8"
             ],
             [
              0.3333333333333333,
              "#9c179e"
             ],
             [
              0.4444444444444444,
              "#bd3786"
             ],
             [
              0.5555555555555556,
              "#d8576b"
             ],
             [
              0.6666666666666666,
              "#ed7953"
             ],
             [
              0.7777777777777778,
              "#fb9f3a"
             ],
             [
              0.8888888888888888,
              "#fdca26"
             ],
             [
              1,
              "#f0f921"
             ]
            ],
            "type": "contour"
           }
          ],
          "contourcarpet": [
           {
            "colorbar": {
             "outlinewidth": 0,
             "ticks": ""
            },
            "type": "contourcarpet"
           }
          ],
          "heatmap": [
           {
            "colorbar": {
             "outlinewidth": 0,
             "ticks": ""
            },
            "colorscale": [
             [
              0,
              "#0d0887"
             ],
             [
              0.1111111111111111,
              "#46039f"
             ],
             [
              0.2222222222222222,
              "#7201a8"
             ],
             [
              0.3333333333333333,
              "#9c179e"
             ],
             [
              0.4444444444444444,
              "#bd3786"
             ],
             [
              0.5555555555555556,
              "#d8576b"
             ],
             [
              0.6666666666666666,
              "#ed7953"
             ],
             [
              0.7777777777777778,
              "#fb9f3a"
             ],
             [
              0.8888888888888888,
              "#fdca26"
             ],
             [
              1,
              "#f0f921"
             ]
            ],
            "type": "heatmap"
           }
          ],
          "heatmapgl": [
           {
            "colorbar": {
             "outlinewidth": 0,
             "ticks": ""
            },
            "colorscale": [
             [
              0,
              "#0d0887"
             ],
             [
              0.1111111111111111,
              "#46039f"
             ],
             [
              0.2222222222222222,
              "#7201a8"
             ],
             [
              0.3333333333333333,
              "#9c179e"
             ],
             [
              0.4444444444444444,
              "#bd3786"
             ],
             [
              0.5555555555555556,
              "#d8576b"
             ],
             [
              0.6666666666666666,
              "#ed7953"
             ],
             [
              0.7777777777777778,
              "#fb9f3a"
             ],
             [
              0.8888888888888888,
              "#fdca26"
             ],
             [
              1,
              "#f0f921"
             ]
            ],
            "type": "heatmapgl"
           }
          ],
          "histogram": [
           {
            "marker": {
             "colorbar": {
              "outlinewidth": 0,
              "ticks": ""
             }
            },
            "type": "histogram"
           }
          ],
          "histogram2d": [
           {
            "colorbar": {
             "outlinewidth": 0,
             "ticks": ""
            },
            "colorscale": [
             [
              0,
              "#0d0887"
             ],
             [
              0.1111111111111111,
              "#46039f"
             ],
             [
              0.2222222222222222,
              "#7201a8"
             ],
             [
              0.3333333333333333,
              "#9c179e"
             ],
             [
              0.4444444444444444,
              "#bd3786"
             ],
             [
              0.5555555555555556,
              "#d8576b"
             ],
             [
              0.6666666666666666,
              "#ed7953"
             ],
             [
              0.7777777777777778,
              "#fb9f3a"
             ],
             [
              0.8888888888888888,
              "#fdca26"
             ],
             [
              1,
              "#f0f921"
             ]
            ],
            "type": "histogram2d"
           }
          ],
          "histogram2dcontour": [
           {
            "colorbar": {
             "outlinewidth": 0,
             "ticks": ""
            },
            "colorscale": [
             [
              0,
              "#0d0887"
             ],
             [
              0.1111111111111111,
              "#46039f"
             ],
             [
              0.2222222222222222,
              "#7201a8"
             ],
             [
              0.3333333333333333,
              "#9c179e"
             ],
             [
              0.4444444444444444,
              "#bd3786"
             ],
             [
              0.5555555555555556,
              "#d8576b"
             ],
             [
              0.6666666666666666,
              "#ed7953"
             ],
             [
              0.7777777777777778,
              "#fb9f3a"
             ],
             [
              0.8888888888888888,
              "#fdca26"
             ],
             [
              1,
              "#f0f921"
             ]
            ],
            "type": "histogram2dcontour"
           }
          ],
          "mesh3d": [
           {
            "colorbar": {
             "outlinewidth": 0,
             "ticks": ""
            },
            "type": "mesh3d"
           }
          ],
          "parcoords": [
           {
            "line": {
             "colorbar": {
              "outlinewidth": 0,
              "ticks": ""
             }
            },
            "type": "parcoords"
           }
          ],
          "pie": [
           {
            "automargin": true,
            "type": "pie"
           }
          ],
          "scatter": [
           {
            "marker": {
             "line": {
              "color": "#283442"
             }
            },
            "type": "scatter"
           }
          ],
          "scatter3d": [
           {
            "line": {
             "colorbar": {
              "outlinewidth": 0,
              "ticks": ""
             }
            },
            "marker": {
             "colorbar": {
              "outlinewidth": 0,
              "ticks": ""
             }
            },
            "type": "scatter3d"
           }
          ],
          "scattercarpet": [
           {
            "marker": {
             "colorbar": {
              "outlinewidth": 0,
              "ticks": ""
             }
            },
            "type": "scattercarpet"
           }
          ],
          "scattergeo": [
           {
            "marker": {
             "colorbar": {
              "outlinewidth": 0,
              "ticks": ""
             }
            },
            "type": "scattergeo"
           }
          ],
          "scattergl": [
           {
            "marker": {
             "line": {
              "color": "#283442"
             }
            },
            "type": "scattergl"
           }
          ],
          "scattermapbox": [
           {
            "marker": {
             "colorbar": {
              "outlinewidth": 0,
              "ticks": ""
             }
            },
            "type": "scattermapbox"
           }
          ],
          "scatterpolar": [
           {
            "marker": {
             "colorbar": {
              "outlinewidth": 0,
              "ticks": ""
             }
            },
            "type": "scatterpolar"
           }
          ],
          "scatterpolargl": [
           {
            "marker": {
             "colorbar": {
              "outlinewidth": 0,
              "ticks": ""
             }
            },
            "type": "scatterpolargl"
           }
          ],
          "scatterternary": [
           {
            "marker": {
             "colorbar": {
              "outlinewidth": 0,
              "ticks": ""
             }
            },
            "type": "scatterternary"
           }
          ],
          "surface": [
           {
            "colorbar": {
             "outlinewidth": 0,
             "ticks": ""
            },
            "colorscale": [
             [
              0,
              "#0d0887"
             ],
             [
              0.1111111111111111,
              "#46039f"
             ],
             [
              0.2222222222222222,
              "#7201a8"
             ],
             [
              0.3333333333333333,
              "#9c179e"
             ],
             [
              0.4444444444444444,
              "#bd3786"
             ],
             [
              0.5555555555555556,
              "#d8576b"
             ],
             [
              0.6666666666666666,
              "#ed7953"
             ],
             [
              0.7777777777777778,
              "#fb9f3a"
             ],
             [
              0.8888888888888888,
              "#fdca26"
             ],
             [
              1,
              "#f0f921"
             ]
            ],
            "type": "surface"
           }
          ],
          "table": [
           {
            "cells": {
             "fill": {
              "color": "#506784"
             },
             "line": {
              "color": "rgb(17,17,17)"
             }
            },
            "header": {
             "fill": {
              "color": "#2a3f5f"
             },
             "line": {
              "color": "rgb(17,17,17)"
             }
            },
            "type": "table"
           }
          ]
         },
         "layout": {
          "annotationdefaults": {
           "arrowcolor": "#f2f5fa",
           "arrowhead": 0,
           "arrowwidth": 1
          },
          "coloraxis": {
           "colorbar": {
            "outlinewidth": 0,
            "ticks": ""
           }
          },
          "colorscale": {
           "diverging": [
            [
             0,
             "#8e0152"
            ],
            [
             0.1,
             "#c51b7d"
            ],
            [
             0.2,
             "#de77ae"
            ],
            [
             0.3,
             "#f1b6da"
            ],
            [
             0.4,
             "#fde0ef"
            ],
            [
             0.5,
             "#f7f7f7"
            ],
            [
             0.6,
             "#e6f5d0"
            ],
            [
             0.7,
             "#b8e186"
            ],
            [
             0.8,
             "#7fbc41"
            ],
            [
             0.9,
             "#4d9221"
            ],
            [
             1,
             "#276419"
            ]
           ],
           "sequential": [
            [
             0,
             "#0d0887"
            ],
            [
             0.1111111111111111,
             "#46039f"
            ],
            [
             0.2222222222222222,
             "#7201a8"
            ],
            [
             0.3333333333333333,
             "#9c179e"
            ],
            [
             0.4444444444444444,
             "#bd3786"
            ],
            [
             0.5555555555555556,
             "#d8576b"
            ],
            [
             0.6666666666666666,
             "#ed7953"
            ],
            [
             0.7777777777777778,
             "#fb9f3a"
            ],
            [
             0.8888888888888888,
             "#fdca26"
            ],
            [
             1,
             "#f0f921"
            ]
           ],
           "sequentialminus": [
            [
             0,
             "#0d0887"
            ],
            [
             0.1111111111111111,
             "#46039f"
            ],
            [
             0.2222222222222222,
             "#7201a8"
            ],
            [
             0.3333333333333333,
             "#9c179e"
            ],
            [
             0.4444444444444444,
             "#bd3786"
            ],
            [
             0.5555555555555556,
             "#d8576b"
            ],
            [
             0.6666666666666666,
             "#ed7953"
            ],
            [
             0.7777777777777778,
             "#fb9f3a"
            ],
            [
             0.8888888888888888,
             "#fdca26"
            ],
            [
             1,
             "#f0f921"
            ]
           ]
          },
          "colorway": [
           "#636efa",
           "#EF553B",
           "#00cc96",
           "#ab63fa",
           "#FFA15A",
           "#19d3f3",
           "#FF6692",
           "#B6E880",
           "#FF97FF",
           "#FECB52"
          ],
          "font": {
           "color": "#f2f5fa"
          },
          "geo": {
           "bgcolor": "rgb(17,17,17)",
           "lakecolor": "rgb(17,17,17)",
           "landcolor": "rgb(17,17,17)",
           "showlakes": true,
           "showland": true,
           "subunitcolor": "#506784"
          },
          "hoverlabel": {
           "align": "left"
          },
          "hovermode": "closest",
          "mapbox": {
           "style": "dark"
          },
          "paper_bgcolor": "rgb(17,17,17)",
          "plot_bgcolor": "rgb(17,17,17)",
          "polar": {
           "angularaxis": {
            "gridcolor": "#506784",
            "linecolor": "#506784",
            "ticks": ""
           },
           "bgcolor": "rgb(17,17,17)",
           "radialaxis": {
            "gridcolor": "#506784",
            "linecolor": "#506784",
            "ticks": ""
           }
          },
          "scene": {
           "xaxis": {
            "backgroundcolor": "rgb(17,17,17)",
            "gridcolor": "#506784",
            "gridwidth": 2,
            "linecolor": "#506784",
            "showbackground": true,
            "ticks": "",
            "zerolinecolor": "#C8D4E3"
           },
           "yaxis": {
            "backgroundcolor": "rgb(17,17,17)",
            "gridcolor": "#506784",
            "gridwidth": 2,
            "linecolor": "#506784",
            "showbackground": true,
            "ticks": "",
            "zerolinecolor": "#C8D4E3"
           },
           "zaxis": {
            "backgroundcolor": "rgb(17,17,17)",
            "gridcolor": "#506784",
            "gridwidth": 2,
            "linecolor": "#506784",
            "showbackground": true,
            "ticks": "",
            "zerolinecolor": "#C8D4E3"
           }
          },
          "shapedefaults": {
           "line": {
            "color": "#f2f5fa"
           }
          },
          "sliderdefaults": {
           "bgcolor": "#C8D4E3",
           "bordercolor": "rgb(17,17,17)",
           "borderwidth": 1,
           "tickwidth": 0
          },
          "ternary": {
           "aaxis": {
            "gridcolor": "#506784",
            "linecolor": "#506784",
            "ticks": ""
           },
           "baxis": {
            "gridcolor": "#506784",
            "linecolor": "#506784",
            "ticks": ""
           },
           "bgcolor": "rgb(17,17,17)",
           "caxis": {
            "gridcolor": "#506784",
            "linecolor": "#506784",
            "ticks": ""
           }
          },
          "title": {
           "x": 0.05
          },
          "updatemenudefaults": {
           "bgcolor": "#506784",
           "borderwidth": 0
          },
          "xaxis": {
           "automargin": true,
           "gridcolor": "#283442",
           "linecolor": "#506784",
           "ticks": "",
           "title": {
            "standoff": 15
           },
           "zerolinecolor": "#283442",
           "zerolinewidth": 2
          },
          "yaxis": {
           "automargin": true,
           "gridcolor": "#283442",
           "linecolor": "#506784",
           "ticks": "",
           "title": {
            "standoff": 15
           },
           "zerolinecolor": "#283442",
           "zerolinewidth": 2
          }
         }
        },
        "title": {
         "font": {
          "family": "JetBrains Mono",
          "size": 30
         },
         "text": "Operador / Hora máxima y Potencia promedio máxima"
        },
        "width": 1200,
        "xaxis": {
         "anchor": "y",
         "domain": [
          0,
          1
         ],
         "title": {
          "text": "Promedio semanal por día"
         }
        },
        "yaxis": {
         "anchor": "x",
         "domain": [
          0,
          1
         ],
         "title": {
          "text": "Operador y hora"
         }
        }
       }
      },
      "text/html": [
       "<div>\n",
       "        \n",
       "        \n",
       "            <div id=\"4dc5f2a6-c042-406d-8fa5-51532310b831\" class=\"plotly-graph-div\" style=\"height:1200px; width:1200px;\"></div>\n",
       "            <script type=\"text/javascript\">\n",
       "                require([\"plotly\"], function(Plotly) {\n",
       "                    window.PLOTLYENV=window.PLOTLYENV || {};\n",
       "                    \n",
       "                if (document.getElementById(\"4dc5f2a6-c042-406d-8fa5-51532310b831\")) {\n",
       "                    Plotly.newPlot(\n",
       "                        '4dc5f2a6-c042-406d-8fa5-51532310b831',\n",
       "                        [{\"alignmentgroup\": \"True\", \"hoverlabel\": {\"namelength\": 0}, \"hovertemplate\": \"Promedio semanal por d\\u00eda=%{marker.color}<br>Operador y hora=%{y}\", \"legendgroup\": \"\", \"marker\": {\"color\": [1476.7619047619048, 41.491493, 747.2619047619048, 13.970335761904762, 451.94723971428573, 308.88620780952385, 244.71428571428572, 547.2471291428571, 46.42788242857143, 28.712251666666663, 92.23648566666665, 158.71100661904762, 357.3470344285714, 124.6484960952381, 256.9595465714286, 36.19047619047619, 51.23809523809524, 2131.6399999523805, 505.85647314285717, 6.925256571428571, 79.0, 1.2124574285714285, 423.7619047619047, 10.432195238095238, 179.98957666666664, 24.81504480952381, 222.9757149047619, 131.91772376190477, 265.7888858571429, 91.0, 163.1944238261381, 100.14285714285714, 52.93678514285715, 15.84730719047619, 77.46566599999998, 190.76217238095236, 102.62194757142856, 407.6533463333334, 260.99199957142855, 4.20162619047619, 36.228836333333334], \"coloraxis\": \"coloraxis\", \"opacity\": 0.9}, \"name\": \"\", \"offsetgroup\": \"\", \"orientation\": \"h\", \"showlegend\": false, \"text\": [1476.7619047619048, 41.491493, 747.2619047619048, 13.970335761904762, 451.94723971428573, 308.88620780952385, 244.71428571428572, 547.2471291428571, 46.42788242857143, 28.712251666666663, 92.23648566666665, 158.71100661904762, 357.3470344285714, 124.6484960952381, 256.9595465714286, 36.19047619047619, 51.23809523809524, 2131.6399999523805, 505.85647314285717, 6.925256571428571, 79.0, 1.2124574285714285, 423.7619047619047, 10.432195238095238, 179.98957666666664, 24.81504480952381, 222.9757149047619, 131.91772376190477, 265.7888858571429, 91.0, 163.1944238261381, 100.14285714285714, 52.93678514285715, 15.84730719047619, 77.46566599999998, 190.76217238095236, 102.62194757142856, 407.6533463333334, 260.99199957142855, 4.20162619047619, 36.228836333333334], \"textposition\": \"auto\", \"texttemplate\": \"%{text:.2s}\", \"type\": \"bar\", \"x\": [1476.7619047619048, 41.491493, 747.2619047619048, 13.970335761904762, 451.94723971428573, 308.88620780952385, 244.71428571428572, 547.2471291428571, 46.42788242857143, 28.712251666666663, 92.23648566666665, 158.71100661904762, 357.3470344285714, 124.6484960952381, 256.9595465714286, 36.19047619047619, 51.23809523809524, 2131.6399999523805, 505.85647314285717, 6.925256571428571, 79.0, 1.2124574285714285, 423.7619047619047, 10.432195238095238, 179.98957666666664, 24.81504480952381, 222.9757149047619, 131.91772376190477, 265.7888858571429, 91.0, 163.1944238261381, 100.14285714285714, 52.93678514285715, 15.84730719047619, 77.46566599999998, 190.76217238095236, 102.62194757142856, 407.6533463333334, 260.99199957142855, 4.20162619047619, 36.228836333333334], \"xaxis\": \"x\", \"y\": [\"MC-Antioquia/20\", \"MC-Arauca/20\", \"MC-Atlantico/21\", \"MC-BajoPutumayo/20\", \"MC-Bolivar/21\", \"MC-Boyaca/20\", \"MC-Caldas/20\", \"MC-Cali/13\", \"MC-Caqueta/20\", \"MC-Cartago/20\", \"MC-Casanare/20\", \"MC-Cauca/20\", \"MC-Celsia/20\", \"MC-Cerromatoso/4\", \"MC-Cesar/21\", \"MC-Choco/20\", \"MC-CiraInfanta/19\", \"MC-Codensa/20\", \"MC-CordobaSucre/21\", \"MC-Drummond/19\", \"MC-DrummondLoma/19\", \"MC-Emec/20\", \"MC-GM/21\", \"MC-Guaviare/20\", \"MC-Huila/20\", \"MC-Intercor/20\", \"MC-Meta/20\", \"MC-Nari\\u00f1o/20\", \"MC-NorSantander/19\", \"MC-Oxy/19\", \"MC-PSTN/19\", \"MC-Pereira/20\", \"MC-Planeta/21\", \"MC-Putumayo/20\", \"MC-Quindio/20\", \"MC-Rubiales/19\", \"MC-SanFernando/5\", \"MC-Santander/19\", \"MC-Tolima/20\", \"MC-TubosCaribe/19\", \"MC-Tulua/20\"], \"yaxis\": \"y\"}],\n",
       "                        {\"barmode\": \"relative\", \"coloraxis\": {\"cmax\": 2500, \"cmin\": 1, \"colorbar\": {\"title\": {\"text\": \"Promedio semanal por d\\u00eda\"}}, \"colorscale\": [[0.0, \"rgb(0,0,255)\"], [0.1, \"rgb(51,153,255)\"], [0.2, \"rgb(102,204,255)\"], [0.3, \"rgb(153,204,255)\"], [0.4, \"rgb(204,204,255)\"], [0.5, \"rgb(255,255,255)\"], [0.6, \"rgb(255,204,255)\"], [0.7, \"rgb(255,153,255)\"], [0.8, \"rgb(255,102,204)\"], [0.9, \"rgb(255,102,102)\"], [1.0, \"rgb(255,0,0)\"]], \"showscale\": false}, \"height\": 1200, \"legend\": {\"tracegroupgap\": 0}, \"template\": {\"data\": {\"bar\": [{\"error_x\": {\"color\": \"#f2f5fa\"}, \"error_y\": {\"color\": \"#f2f5fa\"}, \"marker\": {\"line\": {\"color\": \"rgb(17,17,17)\", \"width\": 0.5}}, \"type\": \"bar\"}], \"barpolar\": [{\"marker\": {\"line\": {\"color\": \"rgb(17,17,17)\", \"width\": 0.5}}, \"type\": \"barpolar\"}], \"carpet\": [{\"aaxis\": {\"endlinecolor\": \"#A2B1C6\", \"gridcolor\": \"#506784\", \"linecolor\": \"#506784\", \"minorgridcolor\": \"#506784\", \"startlinecolor\": \"#A2B1C6\"}, \"baxis\": {\"endlinecolor\": \"#A2B1C6\", \"gridcolor\": \"#506784\", \"linecolor\": \"#506784\", \"minorgridcolor\": \"#506784\", \"startlinecolor\": \"#A2B1C6\"}, \"type\": \"carpet\"}], \"choropleth\": [{\"colorbar\": {\"outlinewidth\": 0, \"ticks\": \"\"}, \"type\": \"choropleth\"}], \"contour\": [{\"colorbar\": {\"outlinewidth\": 0, \"ticks\": \"\"}, \"colorscale\": [[0.0, \"#0d0887\"], [0.1111111111111111, \"#46039f\"], [0.2222222222222222, \"#7201a8\"], [0.3333333333333333, \"#9c179e\"], [0.4444444444444444, \"#bd3786\"], [0.5555555555555556, \"#d8576b\"], [0.6666666666666666, \"#ed7953\"], [0.7777777777777778, \"#fb9f3a\"], [0.8888888888888888, \"#fdca26\"], [1.0, \"#f0f921\"]], \"type\": \"contour\"}], \"contourcarpet\": [{\"colorbar\": {\"outlinewidth\": 0, \"ticks\": \"\"}, \"type\": \"contourcarpet\"}], \"heatmap\": [{\"colorbar\": {\"outlinewidth\": 0, \"ticks\": \"\"}, \"colorscale\": [[0.0, \"#0d0887\"], [0.1111111111111111, \"#46039f\"], [0.2222222222222222, \"#7201a8\"], [0.3333333333333333, \"#9c179e\"], [0.4444444444444444, \"#bd3786\"], [0.5555555555555556, \"#d8576b\"], [0.6666666666666666, \"#ed7953\"], [0.7777777777777778, \"#fb9f3a\"], [0.8888888888888888, \"#fdca26\"], [1.0, \"#f0f921\"]], \"type\": \"heatmap\"}], \"heatmapgl\": [{\"colorbar\": {\"outlinewidth\": 0, \"ticks\": \"\"}, \"colorscale\": [[0.0, \"#0d0887\"], [0.1111111111111111, \"#46039f\"], [0.2222222222222222, \"#7201a8\"], [0.3333333333333333, \"#9c179e\"], [0.4444444444444444, \"#bd3786\"], [0.5555555555555556, \"#d8576b\"], [0.6666666666666666, \"#ed7953\"], [0.7777777777777778, \"#fb9f3a\"], [0.8888888888888888, \"#fdca26\"], [1.0, \"#f0f921\"]], \"type\": \"heatmapgl\"}], \"histogram\": [{\"marker\": {\"colorbar\": {\"outlinewidth\": 0, \"ticks\": \"\"}}, \"type\": \"histogram\"}], \"histogram2d\": [{\"colorbar\": {\"outlinewidth\": 0, \"ticks\": \"\"}, \"colorscale\": [[0.0, \"#0d0887\"], [0.1111111111111111, \"#46039f\"], [0.2222222222222222, \"#7201a8\"], [0.3333333333333333, \"#9c179e\"], [0.4444444444444444, \"#bd3786\"], [0.5555555555555556, \"#d8576b\"], [0.6666666666666666, \"#ed7953\"], [0.7777777777777778, \"#fb9f3a\"], [0.8888888888888888, \"#fdca26\"], [1.0, \"#f0f921\"]], \"type\": \"histogram2d\"}], \"histogram2dcontour\": [{\"colorbar\": {\"outlinewidth\": 0, \"ticks\": \"\"}, \"colorscale\": [[0.0, \"#0d0887\"], [0.1111111111111111, \"#46039f\"], [0.2222222222222222, \"#7201a8\"], [0.3333333333333333, \"#9c179e\"], [0.4444444444444444, \"#bd3786\"], [0.5555555555555556, \"#d8576b\"], [0.6666666666666666, \"#ed7953\"], [0.7777777777777778, \"#fb9f3a\"], [0.8888888888888888, \"#fdca26\"], [1.0, \"#f0f921\"]], \"type\": \"histogram2dcontour\"}], \"mesh3d\": [{\"colorbar\": {\"outlinewidth\": 0, \"ticks\": \"\"}, \"type\": \"mesh3d\"}], \"parcoords\": [{\"line\": {\"colorbar\": {\"outlinewidth\": 0, \"ticks\": \"\"}}, \"type\": \"parcoords\"}], \"pie\": [{\"automargin\": true, \"type\": \"pie\"}], \"scatter\": [{\"marker\": {\"line\": {\"color\": \"#283442\"}}, \"type\": \"scatter\"}], \"scatter3d\": [{\"line\": {\"colorbar\": {\"outlinewidth\": 0, \"ticks\": \"\"}}, \"marker\": {\"colorbar\": {\"outlinewidth\": 0, \"ticks\": \"\"}}, \"type\": \"scatter3d\"}], \"scattercarpet\": [{\"marker\": {\"colorbar\": {\"outlinewidth\": 0, \"ticks\": \"\"}}, \"type\": \"scattercarpet\"}], \"scattergeo\": [{\"marker\": {\"colorbar\": {\"outlinewidth\": 0, \"ticks\": \"\"}}, \"type\": \"scattergeo\"}], \"scattergl\": [{\"marker\": {\"line\": {\"color\": \"#283442\"}}, \"type\": \"scattergl\"}], \"scattermapbox\": [{\"marker\": {\"colorbar\": {\"outlinewidth\": 0, \"ticks\": \"\"}}, \"type\": \"scattermapbox\"}], \"scatterpolar\": [{\"marker\": {\"colorbar\": {\"outlinewidth\": 0, \"ticks\": \"\"}}, \"type\": \"scatterpolar\"}], \"scatterpolargl\": [{\"marker\": {\"colorbar\": {\"outlinewidth\": 0, \"ticks\": \"\"}}, \"type\": \"scatterpolargl\"}], \"scatterternary\": [{\"marker\": {\"colorbar\": {\"outlinewidth\": 0, \"ticks\": \"\"}}, \"type\": \"scatterternary\"}], \"surface\": [{\"colorbar\": {\"outlinewidth\": 0, \"ticks\": \"\"}, \"colorscale\": [[0.0, \"#0d0887\"], [0.1111111111111111, \"#46039f\"], [0.2222222222222222, \"#7201a8\"], [0.3333333333333333, \"#9c179e\"], [0.4444444444444444, \"#bd3786\"], [0.5555555555555556, \"#d8576b\"], [0.6666666666666666, \"#ed7953\"], [0.7777777777777778, \"#fb9f3a\"], [0.8888888888888888, \"#fdca26\"], [1.0, \"#f0f921\"]], \"type\": \"surface\"}], \"table\": [{\"cells\": {\"fill\": {\"color\": \"#506784\"}, \"line\": {\"color\": \"rgb(17,17,17)\"}}, \"header\": {\"fill\": {\"color\": \"#2a3f5f\"}, \"line\": {\"color\": \"rgb(17,17,17)\"}}, \"type\": \"table\"}]}, \"layout\": {\"annotationdefaults\": {\"arrowcolor\": \"#f2f5fa\", \"arrowhead\": 0, \"arrowwidth\": 1}, \"coloraxis\": {\"colorbar\": {\"outlinewidth\": 0, \"ticks\": \"\"}}, \"colorscale\": {\"diverging\": [[0, \"#8e0152\"], [0.1, \"#c51b7d\"], [0.2, \"#de77ae\"], [0.3, \"#f1b6da\"], [0.4, \"#fde0ef\"], [0.5, \"#f7f7f7\"], [0.6, \"#e6f5d0\"], [0.7, \"#b8e186\"], [0.8, \"#7fbc41\"], [0.9, \"#4d9221\"], [1, \"#276419\"]], \"sequential\": [[0.0, \"#0d0887\"], [0.1111111111111111, \"#46039f\"], [0.2222222222222222, \"#7201a8\"], [0.3333333333333333, \"#9c179e\"], [0.4444444444444444, \"#bd3786\"], [0.5555555555555556, \"#d8576b\"], [0.6666666666666666, \"#ed7953\"], [0.7777777777777778, \"#fb9f3a\"], [0.8888888888888888, \"#fdca26\"], [1.0, \"#f0f921\"]], \"sequentialminus\": [[0.0, \"#0d0887\"], [0.1111111111111111, \"#46039f\"], [0.2222222222222222, \"#7201a8\"], [0.3333333333333333, \"#9c179e\"], [0.4444444444444444, \"#bd3786\"], [0.5555555555555556, \"#d8576b\"], [0.6666666666666666, \"#ed7953\"], [0.7777777777777778, \"#fb9f3a\"], [0.8888888888888888, \"#fdca26\"], [1.0, \"#f0f921\"]]}, \"colorway\": [\"#636efa\", \"#EF553B\", \"#00cc96\", \"#ab63fa\", \"#FFA15A\", \"#19d3f3\", \"#FF6692\", \"#B6E880\", \"#FF97FF\", \"#FECB52\"], \"font\": {\"color\": \"#f2f5fa\"}, \"geo\": {\"bgcolor\": \"rgb(17,17,17)\", \"lakecolor\": \"rgb(17,17,17)\", \"landcolor\": \"rgb(17,17,17)\", \"showlakes\": true, \"showland\": true, \"subunitcolor\": \"#506784\"}, \"hoverlabel\": {\"align\": \"left\"}, \"hovermode\": \"closest\", \"mapbox\": {\"style\": \"dark\"}, \"paper_bgcolor\": \"rgb(17,17,17)\", \"plot_bgcolor\": \"rgb(17,17,17)\", \"polar\": {\"angularaxis\": {\"gridcolor\": \"#506784\", \"linecolor\": \"#506784\", \"ticks\": \"\"}, \"bgcolor\": \"rgb(17,17,17)\", \"radialaxis\": {\"gridcolor\": \"#506784\", \"linecolor\": \"#506784\", \"ticks\": \"\"}}, \"scene\": {\"xaxis\": {\"backgroundcolor\": \"rgb(17,17,17)\", \"gridcolor\": \"#506784\", \"gridwidth\": 2, \"linecolor\": \"#506784\", \"showbackground\": true, \"ticks\": \"\", \"zerolinecolor\": \"#C8D4E3\"}, \"yaxis\": {\"backgroundcolor\": \"rgb(17,17,17)\", \"gridcolor\": \"#506784\", \"gridwidth\": 2, \"linecolor\": \"#506784\", \"showbackground\": true, \"ticks\": \"\", \"zerolinecolor\": \"#C8D4E3\"}, \"zaxis\": {\"backgroundcolor\": \"rgb(17,17,17)\", \"gridcolor\": \"#506784\", \"gridwidth\": 2, \"linecolor\": \"#506784\", \"showbackground\": true, \"ticks\": \"\", \"zerolinecolor\": \"#C8D4E3\"}}, \"shapedefaults\": {\"line\": {\"color\": \"#f2f5fa\"}}, \"sliderdefaults\": {\"bgcolor\": \"#C8D4E3\", \"bordercolor\": \"rgb(17,17,17)\", \"borderwidth\": 1, \"tickwidth\": 0}, \"ternary\": {\"aaxis\": {\"gridcolor\": \"#506784\", \"linecolor\": \"#506784\", \"ticks\": \"\"}, \"baxis\": {\"gridcolor\": \"#506784\", \"linecolor\": \"#506784\", \"ticks\": \"\"}, \"bgcolor\": \"rgb(17,17,17)\", \"caxis\": {\"gridcolor\": \"#506784\", \"linecolor\": \"#506784\", \"ticks\": \"\"}}, \"title\": {\"x\": 0.05}, \"updatemenudefaults\": {\"bgcolor\": \"#506784\", \"borderwidth\": 0}, \"xaxis\": {\"automargin\": true, \"gridcolor\": \"#283442\", \"linecolor\": \"#506784\", \"ticks\": \"\", \"title\": {\"standoff\": 15}, \"zerolinecolor\": \"#283442\", \"zerolinewidth\": 2}, \"yaxis\": {\"automargin\": true, \"gridcolor\": \"#283442\", \"linecolor\": \"#506784\", \"ticks\": \"\", \"title\": {\"standoff\": 15}, \"zerolinecolor\": \"#283442\", \"zerolinewidth\": 2}}}, \"title\": {\"font\": {\"family\": \"JetBrains Mono\", \"size\": 30}, \"text\": \"Operador / Hora m\\u00e1xima y Potencia promedio m\\u00e1xima\"}, \"width\": 1200, \"xaxis\": {\"anchor\": \"y\", \"domain\": [0.0, 1.0], \"title\": {\"text\": \"Promedio semanal por d\\u00eda\"}}, \"yaxis\": {\"anchor\": \"x\", \"domain\": [0.0, 1.0], \"title\": {\"text\": \"Operador y hora\"}}},\n",
       "                        {\"responsive\": true}\n",
       "                    ).then(function(){\n",
       "                            \n",
       "var gd = document.getElementById('4dc5f2a6-c042-406d-8fa5-51532310b831');\n",
       "var x = new MutationObserver(function (mutations, observer) {{\n",
       "        var display = window.getComputedStyle(gd).display;\n",
       "        if (!display || display === 'none') {{\n",
       "            console.log([gd, 'removed!']);\n",
       "            Plotly.purge(gd);\n",
       "            observer.disconnect();\n",
       "        }}\n",
       "}});\n",
       "\n",
       "// Listen for the removal of the full notebook cells\n",
       "var notebookContainer = gd.closest('#notebook-container');\n",
       "if (notebookContainer) {{\n",
       "    x.observe(notebookContainer, {childList: true});\n",
       "}}\n",
       "\n",
       "// Listen for the clearing of the current output cell\n",
       "var outputEl = gd.closest('.output');\n",
       "if (outputEl) {{\n",
       "    x.observe(outputEl, {childList: true});\n",
       "}}\n",
       "\n",
       "                        })\n",
       "                };\n",
       "                });\n",
       "            </script>\n",
       "        </div>"
      ]
     },
     "metadata": {},
     "output_type": "display_data"
    }
   ],
   "source": [
    "barchart = px.bar(\n",
    "    data_frame = dataset_max_new,\n",
    "    x = 'promedio_semanal_por_dia',\n",
    "    y = 'Operador/Hora',\n",
    "    color = 'promedio_semanal_por_dia',\n",
    "    opacity = 0.9,\n",
    "    orientation = 'h',\n",
    "    barmode = 'relative',\n",
    "\n",
    "    color_continuous_scale=px.colors.diverging.Picnic,\n",
    "    range_color = [1,2500],\n",
    "\n",
    "    text = 'promedio_semanal_por_dia',\n",
    "\n",
    "    labels = {\"promedio_semanal_por_dia\":\"Promedio semanal por día\",\n",
    "    \"Operador/Hora\":\"Operador y hora\"},           # map the labels of the figure\n",
    "    title = 'Operador / Hora máxima y Potencia promedio máxima', # figure title\n",
    "    width=1200,                   # figure width in pixels\n",
    "    height=1200,                   # figure height in pixels\n",
    "    template = 'plotly_dark',\n",
    ")\n",
    "barchart.update_traces(texttemplate='%{text:.2s}')\n",
    "barchart.update_coloraxes(showscale=False)\n",
    "barchart.update_layout(title=dict(font=dict(family='JetBrains Mono',size=30)))\n",
    "barchart.show()"
   ]
  },
  {
   "attachments": {},
   "cell_type": "markdown",
   "metadata": {},
   "source": [
    "Se evidencia donde se concentra el mayor consumo en Colombia, en este caso es en **la distribuidora de Bogotá y Antioquia**"
   ]
  },
  {
   "cell_type": "code",
   "execution_count": 139,
   "metadata": {},
   "outputs": [
    {
     "data": {
      "application/vnd.plotly.v1+json": {
       "config": {
        "plotlyServerURL": "https://plot.ly"
       },
       "data": [
        {
         "alignmentgroup": "True",
         "hoverlabel": {
          "namelength": 0
         },
         "hovertemplate": "Hora (24 h)=%{marker.color}<br>Distribuidores de red=%{y}<br>promedio_semanal_por_dia=%{text}",
         "ids": [
          "MC-Atlantico",
          "MC-Bolivar",
          "MC-Cesar",
          "MC-CiraInfanta",
          "MC-CordobaSucre",
          "MC-Drummond",
          "MC-GM",
          "MC-Oxy",
          "MC-PSTN",
          "MC-Planeta",
          "MC-TubosCaribe"
         ],
         "legendgroup": "",
         "marker": {
          "color": [
           21,
           21,
           21,
           21,
           21,
           21,
           21,
           21,
           21,
           21,
           21
          ],
          "coloraxis": "coloraxis",
          "opacity": 0.9
         },
         "name": "",
         "offsetgroup": "",
         "orientation": "h",
         "showlegend": false,
         "text": [
          747.2619047619048,
          451.94723971428573,
          256.9595465714286,
          51.23809523809524,
          505.85647314285717,
          6.925256571428571,
          423.7619047619047,
          91,
          163.1944238261381,
          52.93678514285715,
          4.20162619047619
         ],
         "textposition": "auto",
         "type": "bar",
         "x": [
          21,
          21,
          21,
          21,
          21,
          21,
          21,
          21,
          21,
          21,
          21
         ],
         "xaxis": "x",
         "y": [
          "MC-Atlantico",
          "MC-Bolivar",
          "MC-Cesar",
          "MC-CiraInfanta",
          "MC-CordobaSucre",
          "MC-Drummond",
          "MC-GM",
          "MC-Oxy",
          "MC-PSTN",
          "MC-Planeta",
          "MC-TubosCaribe"
         ],
         "yaxis": "y"
        }
       ],
       "frames": [
        {
         "data": [
          {
           "alignmentgroup": "True",
           "hoverlabel": {
            "namelength": 0
           },
           "hovertemplate": "Hora (24 h)=%{marker.color}<br>Distribuidores de red=%{y}<br>promedio_semanal_por_dia=%{text}",
           "ids": [
            "MC-Atlantico",
            "MC-Bolivar",
            "MC-Cesar",
            "MC-CiraInfanta",
            "MC-CordobaSucre",
            "MC-Drummond",
            "MC-GM",
            "MC-Oxy",
            "MC-PSTN",
            "MC-Planeta",
            "MC-TubosCaribe"
           ],
           "legendgroup": "",
           "marker": {
            "color": [
             21,
             21,
             21,
             21,
             21,
             21,
             21,
             21,
             21,
             21,
             21
            ],
            "coloraxis": "coloraxis",
            "opacity": 0.9
           },
           "name": "",
           "offsetgroup": "",
           "orientation": "h",
           "showlegend": false,
           "text": [
            747.2619047619048,
            451.94723971428573,
            256.9595465714286,
            51.23809523809524,
            505.85647314285717,
            6.925256571428571,
            423.7619047619047,
            91,
            163.1944238261381,
            52.93678514285715,
            4.20162619047619
           ],
           "textposition": "auto",
           "type": "bar",
           "x": [
            21,
            21,
            21,
            21,
            21,
            21,
            21,
            21,
            21,
            21,
            21
           ],
           "xaxis": "x",
           "y": [
            "MC-Atlantico",
            "MC-Bolivar",
            "MC-Cesar",
            "MC-CiraInfanta",
            "MC-CordobaSucre",
            "MC-Drummond",
            "MC-GM",
            "MC-Oxy",
            "MC-PSTN",
            "MC-Planeta",
            "MC-TubosCaribe"
           ],
           "yaxis": "y"
          }
         ],
         "name": "21"
        },
        {
         "data": [
          {
           "alignmentgroup": "True",
           "hoverlabel": {
            "namelength": 0
           },
           "hovertemplate": "Hora (24 h)=%{marker.color}<br>Distribuidores de red=%{y}<br>promedio_semanal_por_dia=%{text}",
           "ids": [
            "MC-Antioquia",
            "MC-Arauca",
            "MC-BajoPutumayo",
            "MC-Boyaca",
            "MC-Caldas",
            "MC-Caqueta",
            "MC-Cartago",
            "MC-Casanare",
            "MC-Cauca",
            "MC-Celsia",
            "MC-Choco",
            "MC-CiraInfanta",
            "MC-Codensa",
            "MC-Drummond",
            "MC-Emec",
            "MC-Guaviare",
            "MC-Huila",
            "MC-Intercor",
            "MC-Meta",
            "MC-Nariño",
            "MC-Oxy",
            "MC-PSTN",
            "MC-Pereira",
            "MC-Putumayo",
            "MC-Quindio",
            "MC-Tolima",
            "MC-TubosCaribe",
            "MC-Tulua"
           ],
           "legendgroup": "",
           "marker": {
            "color": [
             20,
             20,
             20,
             20,
             20,
             20,
             20,
             20,
             20,
             20,
             20,
             20,
             20,
             20,
             20,
             20,
             20,
             20,
             20,
             20,
             20,
             20,
             20,
             20,
             20,
             20,
             20,
             20
            ],
            "coloraxis": "coloraxis",
            "opacity": 0.9
           },
           "name": "",
           "offsetgroup": "",
           "orientation": "h",
           "showlegend": false,
           "text": [
            1476.7619047619048,
            41.491493,
            13.970335761904762,
            308.88620780952385,
            244.71428571428572,
            46.42788242857143,
            28.712251666666663,
            92.23648566666665,
            158.71100661904762,
            357.3470344285714,
            36.19047619047619,
            51.23809523809524,
            2131.6399999523805,
            6.925256571428571,
            1.2124574285714285,
            10.432195238095238,
            179.98957666666664,
            24.81504480952381,
            222.9757149047619,
            131.91772376190477,
            91,
            163.1944238261381,
            100.14285714285714,
            15.84730719047619,
            77.46566599999998,
            260.99199957142855,
            4.20162619047619,
            36.228836333333334
           ],
           "textposition": "auto",
           "type": "bar",
           "x": [
            20,
            20,
            20,
            20,
            20,
            20,
            20,
            20,
            20,
            20,
            20,
            20,
            20,
            20,
            20,
            20,
            20,
            20,
            20,
            20,
            20,
            20,
            20,
            20,
            20,
            20,
            20,
            20
           ],
           "xaxis": "x",
           "y": [
            "MC-Antioquia",
            "MC-Arauca",
            "MC-BajoPutumayo",
            "MC-Boyaca",
            "MC-Caldas",
            "MC-Caqueta",
            "MC-Cartago",
            "MC-Casanare",
            "MC-Cauca",
            "MC-Celsia",
            "MC-Choco",
            "MC-CiraInfanta",
            "MC-Codensa",
            "MC-Drummond",
            "MC-Emec",
            "MC-Guaviare",
            "MC-Huila",
            "MC-Intercor",
            "MC-Meta",
            "MC-Nariño",
            "MC-Oxy",
            "MC-PSTN",
            "MC-Pereira",
            "MC-Putumayo",
            "MC-Quindio",
            "MC-Tolima",
            "MC-TubosCaribe",
            "MC-Tulua"
           ],
           "yaxis": "y"
          }
         ],
         "name": "20"
        },
        {
         "data": [
          {
           "alignmentgroup": "True",
           "hoverlabel": {
            "namelength": 0
           },
           "hovertemplate": "Hora (24 h)=%{marker.color}<br>Distribuidores de red=%{y}<br>promedio_semanal_por_dia=%{text}",
           "ids": [
            "MC-CiraInfanta",
            "MC-Drummond",
            "MC-DrummondLoma",
            "MC-NorSantander",
            "MC-Oxy",
            "MC-PSTN",
            "MC-Rubiales",
            "MC-Santander",
            "MC-TubosCaribe"
           ],
           "legendgroup": "",
           "marker": {
            "color": [
             19,
             19,
             19,
             19,
             19,
             19,
             19,
             19,
             19
            ],
            "coloraxis": "coloraxis",
            "opacity": 0.9
           },
           "name": "",
           "offsetgroup": "",
           "orientation": "h",
           "showlegend": false,
           "text": [
            51.23809523809524,
            6.925256571428571,
            79,
            265.7888858571429,
            91,
            163.1944238261381,
            190.76217238095236,
            407.6533463333334,
            4.20162619047619
           ],
           "textposition": "auto",
           "type": "bar",
           "x": [
            19,
            19,
            19,
            19,
            19,
            19,
            19,
            19,
            19
           ],
           "xaxis": "x",
           "y": [
            "MC-CiraInfanta",
            "MC-Drummond",
            "MC-DrummondLoma",
            "MC-NorSantander",
            "MC-Oxy",
            "MC-PSTN",
            "MC-Rubiales",
            "MC-Santander",
            "MC-TubosCaribe"
           ],
           "yaxis": "y"
          }
         ],
         "name": "19"
        },
        {
         "data": [
          {
           "alignmentgroup": "True",
           "hoverlabel": {
            "namelength": 0
           },
           "hovertemplate": "Hora (24 h)=%{marker.color}<br>Distribuidores de red=%{y}<br>promedio_semanal_por_dia=%{text}",
           "ids": [
            "MC-Cali"
           ],
           "legendgroup": "",
           "marker": {
            "color": [
             13
            ],
            "coloraxis": "coloraxis",
            "opacity": 0.9
           },
           "name": "",
           "offsetgroup": "",
           "orientation": "h",
           "showlegend": false,
           "text": [
            547.2471291428571
           ],
           "textposition": "auto",
           "type": "bar",
           "x": [
            13
           ],
           "xaxis": "x",
           "y": [
            "MC-Cali"
           ],
           "yaxis": "y"
          }
         ],
         "name": "13"
        },
        {
         "data": [
          {
           "alignmentgroup": "True",
           "hoverlabel": {
            "namelength": 0
           },
           "hovertemplate": "Hora (24 h)=%{marker.color}<br>Distribuidores de red=%{y}<br>promedio_semanal_por_dia=%{text}",
           "ids": [
            "MC-SanFernando"
           ],
           "legendgroup": "",
           "marker": {
            "color": [
             5
            ],
            "coloraxis": "coloraxis",
            "opacity": 0.9
           },
           "name": "",
           "offsetgroup": "",
           "orientation": "h",
           "showlegend": false,
           "text": [
            102.62194757142856
           ],
           "textposition": "auto",
           "type": "bar",
           "x": [
            5
           ],
           "xaxis": "x",
           "y": [
            "MC-SanFernando"
           ],
           "yaxis": "y"
          }
         ],
         "name": "5"
        },
        {
         "data": [
          {
           "alignmentgroup": "True",
           "hoverlabel": {
            "namelength": 0
           },
           "hovertemplate": "Hora (24 h)=%{marker.color}<br>Distribuidores de red=%{y}<br>promedio_semanal_por_dia=%{text}",
           "ids": [
            "MC-Cerromatoso"
           ],
           "legendgroup": "",
           "marker": {
            "color": [
             4
            ],
            "coloraxis": "coloraxis",
            "opacity": 0.9
           },
           "name": "",
           "offsetgroup": "",
           "orientation": "h",
           "showlegend": false,
           "text": [
            124.6484960952381
           ],
           "textposition": "auto",
           "type": "bar",
           "x": [
            4
           ],
           "xaxis": "x",
           "y": [
            "MC-Cerromatoso"
           ],
           "yaxis": "y"
          }
         ],
         "name": "4"
        },
        {
         "data": [
          {
           "alignmentgroup": "True",
           "hoverlabel": {
            "namelength": 0
           },
           "hovertemplate": "Hora (24 h)=%{marker.color}<br>Distribuidores de red=%{y}<br>promedio_semanal_por_dia=%{text}",
           "ids": [
            "MC-Cerromatoso"
           ],
           "legendgroup": "",
           "marker": {
            "color": [
             6
            ],
            "coloraxis": "coloraxis",
            "opacity": 0.9
           },
           "name": "",
           "offsetgroup": "",
           "orientation": "h",
           "showlegend": false,
           "text": [
            124.6484960952381
           ],
           "textposition": "auto",
           "type": "bar",
           "x": [
            6
           ],
           "xaxis": "x",
           "y": [
            "MC-Cerromatoso"
           ],
           "yaxis": "y"
          }
         ],
         "name": "6"
        },
        {
         "data": [
          {
           "alignmentgroup": "True",
           "hoverlabel": {
            "namelength": 0
           },
           "hovertemplate": "Hora (24 h)=%{marker.color}<br>Distribuidores de red=%{y}<br>promedio_semanal_por_dia=%{text}",
           "ids": [
            "MC-Cerromatoso"
           ],
           "legendgroup": "",
           "marker": {
            "color": [
             7
            ],
            "coloraxis": "coloraxis",
            "opacity": 0.9
           },
           "name": "",
           "offsetgroup": "",
           "orientation": "h",
           "showlegend": false,
           "text": [
            124.6484960952381
           ],
           "textposition": "auto",
           "type": "bar",
           "x": [
            7
           ],
           "xaxis": "x",
           "y": [
            "MC-Cerromatoso"
           ],
           "yaxis": "y"
          }
         ],
         "name": "7"
        },
        {
         "data": [
          {
           "alignmentgroup": "True",
           "hoverlabel": {
            "namelength": 0
           },
           "hovertemplate": "Hora (24 h)=%{marker.color}<br>Distribuidores de red=%{y}<br>promedio_semanal_por_dia=%{text}",
           "ids": [
            "MC-Cerromatoso"
           ],
           "legendgroup": "",
           "marker": {
            "color": [
             8
            ],
            "coloraxis": "coloraxis",
            "opacity": 0.9
           },
           "name": "",
           "offsetgroup": "",
           "orientation": "h",
           "showlegend": false,
           "text": [
            124.6484960952381
           ],
           "textposition": "auto",
           "type": "bar",
           "x": [
            8
           ],
           "xaxis": "x",
           "y": [
            "MC-Cerromatoso"
           ],
           "yaxis": "y"
          }
         ],
         "name": "8"
        },
        {
         "data": [
          {
           "alignmentgroup": "True",
           "hoverlabel": {
            "namelength": 0
           },
           "hovertemplate": "Hora (24 h)=%{marker.color}<br>Distribuidores de red=%{y}<br>promedio_semanal_por_dia=%{text}",
           "ids": [
            "MC-Cerromatoso"
           ],
           "legendgroup": "",
           "marker": {
            "color": [
             9
            ],
            "coloraxis": "coloraxis",
            "opacity": 0.9
           },
           "name": "",
           "offsetgroup": "",
           "orientation": "h",
           "showlegend": false,
           "text": [
            124.6484960952381
           ],
           "textposition": "auto",
           "type": "bar",
           "x": [
            9
           ],
           "xaxis": "x",
           "y": [
            "MC-Cerromatoso"
           ],
           "yaxis": "y"
          }
         ],
         "name": "9"
        }
       ],
       "layout": {
        "barmode": "overlay",
        "coloraxis": {
         "cmax": 22,
         "cmin": 0,
         "colorbar": {
          "title": {
           "text": "Hora (24 h)"
          }
         },
         "colorscale": [
          [
           0,
           "rgb(158,1,66)"
          ],
          [
           0.1,
           "rgb(213,62,79)"
          ],
          [
           0.2,
           "rgb(244,109,67)"
          ],
          [
           0.3,
           "rgb(253,174,97)"
          ],
          [
           0.4,
           "rgb(254,224,139)"
          ],
          [
           0.5,
           "rgb(255,255,191)"
          ],
          [
           0.6,
           "rgb(230,245,152)"
          ],
          [
           0.7,
           "rgb(171,221,164)"
          ],
          [
           0.8,
           "rgb(102,194,165)"
          ],
          [
           0.9,
           "rgb(50,136,189)"
          ],
          [
           1,
           "rgb(94,79,162)"
          ]
         ],
         "showscale": false
        },
        "height": 600,
        "legend": {
         "tracegroupgap": 0
        },
        "sliders": [
         {
          "active": 0,
          "currentvalue": {
           "prefix": "Hora (24 h)="
          },
          "len": 0.9,
          "pad": {
           "b": 10,
           "t": 60
          },
          "steps": [
           {
            "args": [
             [
              "21"
             ],
             {
              "frame": {
               "duration": 0,
               "redraw": true
              },
              "fromcurrent": true,
              "mode": "immediate",
              "transition": {
               "duration": 0,
               "easing": "linear"
              }
             }
            ],
            "label": "21",
            "method": "animate"
           },
           {
            "args": [
             [
              "20"
             ],
             {
              "frame": {
               "duration": 0,
               "redraw": true
              },
              "fromcurrent": true,
              "mode": "immediate",
              "transition": {
               "duration": 0,
               "easing": "linear"
              }
             }
            ],
            "label": "20",
            "method": "animate"
           },
           {
            "args": [
             [
              "19"
             ],
             {
              "frame": {
               "duration": 0,
               "redraw": true
              },
              "fromcurrent": true,
              "mode": "immediate",
              "transition": {
               "duration": 0,
               "easing": "linear"
              }
             }
            ],
            "label": "19",
            "method": "animate"
           },
           {
            "args": [
             [
              "13"
             ],
             {
              "frame": {
               "duration": 0,
               "redraw": true
              },
              "fromcurrent": true,
              "mode": "immediate",
              "transition": {
               "duration": 0,
               "easing": "linear"
              }
             }
            ],
            "label": "13",
            "method": "animate"
           },
           {
            "args": [
             [
              "5"
             ],
             {
              "frame": {
               "duration": 0,
               "redraw": true
              },
              "fromcurrent": true,
              "mode": "immediate",
              "transition": {
               "duration": 0,
               "easing": "linear"
              }
             }
            ],
            "label": "5",
            "method": "animate"
           },
           {
            "args": [
             [
              "4"
             ],
             {
              "frame": {
               "duration": 0,
               "redraw": true
              },
              "fromcurrent": true,
              "mode": "immediate",
              "transition": {
               "duration": 0,
               "easing": "linear"
              }
             }
            ],
            "label": "4",
            "method": "animate"
           },
           {
            "args": [
             [
              "6"
             ],
             {
              "frame": {
               "duration": 0,
               "redraw": true
              },
              "fromcurrent": true,
              "mode": "immediate",
              "transition": {
               "duration": 0,
               "easing": "linear"
              }
             }
            ],
            "label": "6",
            "method": "animate"
           },
           {
            "args": [
             [
              "7"
             ],
             {
              "frame": {
               "duration": 0,
               "redraw": true
              },
              "fromcurrent": true,
              "mode": "immediate",
              "transition": {
               "duration": 0,
               "easing": "linear"
              }
             }
            ],
            "label": "7",
            "method": "animate"
           },
           {
            "args": [
             [
              "8"
             ],
             {
              "frame": {
               "duration": 0,
               "redraw": true
              },
              "fromcurrent": true,
              "mode": "immediate",
              "transition": {
               "duration": 0,
               "easing": "linear"
              }
             }
            ],
            "label": "8",
            "method": "animate"
           },
           {
            "args": [
             [
              "9"
             ],
             {
              "frame": {
               "duration": 0,
               "redraw": true
              },
              "fromcurrent": true,
              "mode": "immediate",
              "transition": {
               "duration": 0,
               "easing": "linear"
              }
             }
            ],
            "label": "9",
            "method": "animate"
           }
          ],
          "x": 0.1,
          "xanchor": "left",
          "y": 0,
          "yanchor": "top"
         }
        ],
        "template": {
         "data": {
          "bar": [
           {
            "error_x": {
             "color": "#2a3f5f"
            },
            "error_y": {
             "color": "#2a3f5f"
            },
            "marker": {
             "line": {
              "color": "white",
              "width": 0.5
             }
            },
            "type": "bar"
           }
          ],
          "barpolar": [
           {
            "marker": {
             "line": {
              "color": "white",
              "width": 0.5
             }
            },
            "type": "barpolar"
           }
          ],
          "carpet": [
           {
            "aaxis": {
             "endlinecolor": "#2a3f5f",
             "gridcolor": "#C8D4E3",
             "linecolor": "#C8D4E3",
             "minorgridcolor": "#C8D4E3",
             "startlinecolor": "#2a3f5f"
            },
            "baxis": {
             "endlinecolor": "#2a3f5f",
             "gridcolor": "#C8D4E3",
             "linecolor": "#C8D4E3",
             "minorgridcolor": "#C8D4E3",
             "startlinecolor": "#2a3f5f"
            },
            "type": "carpet"
           }
          ],
          "choropleth": [
           {
            "colorbar": {
             "outlinewidth": 0,
             "ticks": ""
            },
            "type": "choropleth"
           }
          ],
          "contour": [
           {
            "colorbar": {
             "outlinewidth": 0,
             "ticks": ""
            },
            "colorscale": [
             [
              0,
              "#0d0887"
             ],
             [
              0.1111111111111111,
              "#46039f"
             ],
             [
              0.2222222222222222,
              "#7201a8"
             ],
             [
              0.3333333333333333,
              "#9c179e"
             ],
             [
              0.4444444444444444,
              "#bd3786"
             ],
             [
              0.5555555555555556,
              "#d8576b"
             ],
             [
              0.6666666666666666,
              "#ed7953"
             ],
             [
              0.7777777777777778,
              "#fb9f3a"
             ],
             [
              0.8888888888888888,
              "#fdca26"
             ],
             [
              1,
              "#f0f921"
             ]
            ],
            "type": "contour"
           }
          ],
          "contourcarpet": [
           {
            "colorbar": {
             "outlinewidth": 0,
             "ticks": ""
            },
            "type": "contourcarpet"
           }
          ],
          "heatmap": [
           {
            "colorbar": {
             "outlinewidth": 0,
             "ticks": ""
            },
            "colorscale": [
             [
              0,
              "#0d0887"
             ],
             [
              0.1111111111111111,
              "#46039f"
             ],
             [
              0.2222222222222222,
              "#7201a8"
             ],
             [
              0.3333333333333333,
              "#9c179e"
             ],
             [
              0.4444444444444444,
              "#bd3786"
             ],
             [
              0.5555555555555556,
              "#d8576b"
             ],
             [
              0.6666666666666666,
              "#ed7953"
             ],
             [
              0.7777777777777778,
              "#fb9f3a"
             ],
             [
              0.8888888888888888,
              "#fdca26"
             ],
             [
              1,
              "#f0f921"
             ]
            ],
            "type": "heatmap"
           }
          ],
          "heatmapgl": [
           {
            "colorbar": {
             "outlinewidth": 0,
             "ticks": ""
            },
            "colorscale": [
             [
              0,
              "#0d0887"
             ],
             [
              0.1111111111111111,
              "#46039f"
             ],
             [
              0.2222222222222222,
              "#7201a8"
             ],
             [
              0.3333333333333333,
              "#9c179e"
             ],
             [
              0.4444444444444444,
              "#bd3786"
             ],
             [
              0.5555555555555556,
              "#d8576b"
             ],
             [
              0.6666666666666666,
              "#ed7953"
             ],
             [
              0.7777777777777778,
              "#fb9f3a"
             ],
             [
              0.8888888888888888,
              "#fdca26"
             ],
             [
              1,
              "#f0f921"
             ]
            ],
            "type": "heatmapgl"
           }
          ],
          "histogram": [
           {
            "marker": {
             "colorbar": {
              "outlinewidth": 0,
              "ticks": ""
             }
            },
            "type": "histogram"
           }
          ],
          "histogram2d": [
           {
            "colorbar": {
             "outlinewidth": 0,
             "ticks": ""
            },
            "colorscale": [
             [
              0,
              "#0d0887"
             ],
             [
              0.1111111111111111,
              "#46039f"
             ],
             [
              0.2222222222222222,
              "#7201a8"
             ],
             [
              0.3333333333333333,
              "#9c179e"
             ],
             [
              0.4444444444444444,
              "#bd3786"
             ],
             [
              0.5555555555555556,
              "#d8576b"
             ],
             [
              0.6666666666666666,
              "#ed7953"
             ],
             [
              0.7777777777777778,
              "#fb9f3a"
             ],
             [
              0.8888888888888888,
              "#fdca26"
             ],
             [
              1,
              "#f0f921"
             ]
            ],
            "type": "histogram2d"
           }
          ],
          "histogram2dcontour": [
           {
            "colorbar": {
             "outlinewidth": 0,
             "ticks": ""
            },
            "colorscale": [
             [
              0,
              "#0d0887"
             ],
             [
              0.1111111111111111,
              "#46039f"
             ],
             [
              0.2222222222222222,
              "#7201a8"
             ],
             [
              0.3333333333333333,
              "#9c179e"
             ],
             [
              0.4444444444444444,
              "#bd3786"
             ],
             [
              0.5555555555555556,
              "#d8576b"
             ],
             [
              0.6666666666666666,
              "#ed7953"
             ],
             [
              0.7777777777777778,
              "#fb9f3a"
             ],
             [
              0.8888888888888888,
              "#fdca26"
             ],
             [
              1,
              "#f0f921"
             ]
            ],
            "type": "histogram2dcontour"
           }
          ],
          "mesh3d": [
           {
            "colorbar": {
             "outlinewidth": 0,
             "ticks": ""
            },
            "type": "mesh3d"
           }
          ],
          "parcoords": [
           {
            "line": {
             "colorbar": {
              "outlinewidth": 0,
              "ticks": ""
             }
            },
            "type": "parcoords"
           }
          ],
          "pie": [
           {
            "automargin": true,
            "type": "pie"
           }
          ],
          "scatter": [
           {
            "marker": {
             "colorbar": {
              "outlinewidth": 0,
              "ticks": ""
             }
            },
            "type": "scatter"
           }
          ],
          "scatter3d": [
           {
            "line": {
             "colorbar": {
              "outlinewidth": 0,
              "ticks": ""
             }
            },
            "marker": {
             "colorbar": {
              "outlinewidth": 0,
              "ticks": ""
             }
            },
            "type": "scatter3d"
           }
          ],
          "scattercarpet": [
           {
            "marker": {
             "colorbar": {
              "outlinewidth": 0,
              "ticks": ""
             }
            },
            "type": "scattercarpet"
           }
          ],
          "scattergeo": [
           {
            "marker": {
             "colorbar": {
              "outlinewidth": 0,
              "ticks": ""
             }
            },
            "type": "scattergeo"
           }
          ],
          "scattergl": [
           {
            "marker": {
             "colorbar": {
              "outlinewidth": 0,
              "ticks": ""
             }
            },
            "type": "scattergl"
           }
          ],
          "scattermapbox": [
           {
            "marker": {
             "colorbar": {
              "outlinewidth": 0,
              "ticks": ""
             }
            },
            "type": "scattermapbox"
           }
          ],
          "scatterpolar": [
           {
            "marker": {
             "colorbar": {
              "outlinewidth": 0,
              "ticks": ""
             }
            },
            "type": "scatterpolar"
           }
          ],
          "scatterpolargl": [
           {
            "marker": {
             "colorbar": {
              "outlinewidth": 0,
              "ticks": ""
             }
            },
            "type": "scatterpolargl"
           }
          ],
          "scatterternary": [
           {
            "marker": {
             "colorbar": {
              "outlinewidth": 0,
              "ticks": ""
             }
            },
            "type": "scatterternary"
           }
          ],
          "surface": [
           {
            "colorbar": {
             "outlinewidth": 0,
             "ticks": ""
            },
            "colorscale": [
             [
              0,
              "#0d0887"
             ],
             [
              0.1111111111111111,
              "#46039f"
             ],
             [
              0.2222222222222222,
              "#7201a8"
             ],
             [
              0.3333333333333333,
              "#9c179e"
             ],
             [
              0.4444444444444444,
              "#bd3786"
             ],
             [
              0.5555555555555556,
              "#d8576b"
             ],
             [
              0.6666666666666666,
              "#ed7953"
             ],
             [
              0.7777777777777778,
              "#fb9f3a"
             ],
             [
              0.8888888888888888,
              "#fdca26"
             ],
             [
              1,
              "#f0f921"
             ]
            ],
            "type": "surface"
           }
          ],
          "table": [
           {
            "cells": {
             "fill": {
              "color": "#EBF0F8"
             },
             "line": {
              "color": "white"
             }
            },
            "header": {
             "fill": {
              "color": "#C8D4E3"
             },
             "line": {
              "color": "white"
             }
            },
            "type": "table"
           }
          ]
         },
         "layout": {
          "annotationdefaults": {
           "arrowcolor": "#2a3f5f",
           "arrowhead": 0,
           "arrowwidth": 1
          },
          "coloraxis": {
           "colorbar": {
            "outlinewidth": 0,
            "ticks": ""
           }
          },
          "colorscale": {
           "diverging": [
            [
             0,
             "#8e0152"
            ],
            [
             0.1,
             "#c51b7d"
            ],
            [
             0.2,
             "#de77ae"
            ],
            [
             0.3,
             "#f1b6da"
            ],
            [
             0.4,
             "#fde0ef"
            ],
            [
             0.5,
             "#f7f7f7"
            ],
            [
             0.6,
             "#e6f5d0"
            ],
            [
             0.7,
             "#b8e186"
            ],
            [
             0.8,
             "#7fbc41"
            ],
            [
             0.9,
             "#4d9221"
            ],
            [
             1,
             "#276419"
            ]
           ],
           "sequential": [
            [
             0,
             "#0d0887"
            ],
            [
             0.1111111111111111,
             "#46039f"
            ],
            [
             0.2222222222222222,
             "#7201a8"
            ],
            [
             0.3333333333333333,
             "#9c179e"
            ],
            [
             0.4444444444444444,
             "#bd3786"
            ],
            [
             0.5555555555555556,
             "#d8576b"
            ],
            [
             0.6666666666666666,
             "#ed7953"
            ],
            [
             0.7777777777777778,
             "#fb9f3a"
            ],
            [
             0.8888888888888888,
             "#fdca26"
            ],
            [
             1,
             "#f0f921"
            ]
           ],
           "sequentialminus": [
            [
             0,
             "#0d0887"
            ],
            [
             0.1111111111111111,
             "#46039f"
            ],
            [
             0.2222222222222222,
             "#7201a8"
            ],
            [
             0.3333333333333333,
             "#9c179e"
            ],
            [
             0.4444444444444444,
             "#bd3786"
            ],
            [
             0.5555555555555556,
             "#d8576b"
            ],
            [
             0.6666666666666666,
             "#ed7953"
            ],
            [
             0.7777777777777778,
             "#fb9f3a"
            ],
            [
             0.8888888888888888,
             "#fdca26"
            ],
            [
             1,
             "#f0f921"
            ]
           ]
          },
          "colorway": [
           "#636efa",
           "#EF553B",
           "#00cc96",
           "#ab63fa",
           "#FFA15A",
           "#19d3f3",
           "#FF6692",
           "#B6E880",
           "#FF97FF",
           "#FECB52"
          ],
          "font": {
           "color": "#2a3f5f"
          },
          "geo": {
           "bgcolor": "white",
           "lakecolor": "white",
           "landcolor": "white",
           "showlakes": true,
           "showland": true,
           "subunitcolor": "#C8D4E3"
          },
          "hoverlabel": {
           "align": "left"
          },
          "hovermode": "closest",
          "mapbox": {
           "style": "light"
          },
          "paper_bgcolor": "white",
          "plot_bgcolor": "white",
          "polar": {
           "angularaxis": {
            "gridcolor": "#EBF0F8",
            "linecolor": "#EBF0F8",
            "ticks": ""
           },
           "bgcolor": "white",
           "radialaxis": {
            "gridcolor": "#EBF0F8",
            "linecolor": "#EBF0F8",
            "ticks": ""
           }
          },
          "scene": {
           "xaxis": {
            "backgroundcolor": "white",
            "gridcolor": "#DFE8F3",
            "gridwidth": 2,
            "linecolor": "#EBF0F8",
            "showbackground": true,
            "ticks": "",
            "zerolinecolor": "#EBF0F8"
           },
           "yaxis": {
            "backgroundcolor": "white",
            "gridcolor": "#DFE8F3",
            "gridwidth": 2,
            "linecolor": "#EBF0F8",
            "showbackground": true,
            "ticks": "",
            "zerolinecolor": "#EBF0F8"
           },
           "zaxis": {
            "backgroundcolor": "white",
            "gridcolor": "#DFE8F3",
            "gridwidth": 2,
            "linecolor": "#EBF0F8",
            "showbackground": true,
            "ticks": "",
            "zerolinecolor": "#EBF0F8"
           }
          },
          "shapedefaults": {
           "line": {
            "color": "#2a3f5f"
           }
          },
          "ternary": {
           "aaxis": {
            "gridcolor": "#DFE8F3",
            "linecolor": "#A2B1C6",
            "ticks": ""
           },
           "baxis": {
            "gridcolor": "#DFE8F3",
            "linecolor": "#A2B1C6",
            "ticks": ""
           },
           "bgcolor": "white",
           "caxis": {
            "gridcolor": "#DFE8F3",
            "linecolor": "#A2B1C6",
            "ticks": ""
           }
          },
          "title": {
           "x": 0.05
          },
          "xaxis": {
           "automargin": true,
           "gridcolor": "#EBF0F8",
           "linecolor": "#EBF0F8",
           "ticks": "",
           "title": {
            "standoff": 15
           },
           "zerolinecolor": "#EBF0F8",
           "zerolinewidth": 2
          },
          "yaxis": {
           "automargin": true,
           "gridcolor": "#EBF0F8",
           "linecolor": "#EBF0F8",
           "ticks": "",
           "title": {
            "standoff": 15
           },
           "zerolinecolor": "#EBF0F8",
           "zerolinewidth": 2
          }
         }
        },
        "title": {
         "font": {
          "family": "JetBrains Mono",
          "size": 15
         },
         "text": "Hora donde se presenta el mayor consumo por distribuidora"
        },
        "updatemenus": [
         {
          "buttons": [
           {
            "args": [
             null,
             {
              "frame": {
               "duration": 3000,
               "redraw": true
              },
              "fromcurrent": true,
              "mode": "immediate",
              "transition": {
               "duration": 1000,
               "easing": "linear"
              }
             }
            ],
            "label": "&#9654;",
            "method": "animate"
           },
           {
            "args": [
             [
              null
             ],
             {
              "frame": {
               "duration": 0,
               "redraw": true
              },
              "fromcurrent": true,
              "mode": "immediate",
              "transition": {
               "duration": 0,
               "easing": "linear"
              }
             }
            ],
            "label": "&#9724;",
            "method": "animate"
           }
          ],
          "direction": "left",
          "pad": {
           "r": 10,
           "t": 70
          },
          "showactive": false,
          "type": "buttons",
          "x": 0.1,
          "xanchor": "right",
          "y": 0,
          "yanchor": "top"
         }
        ],
        "width": 600,
        "xaxis": {
         "anchor": "y",
         "categoryarray": [
          21,
          20,
          19,
          13,
          5,
          4,
          6,
          7,
          8,
          9
         ],
         "categoryorder": "array",
         "domain": [
          0,
          1
         ],
         "range": [
          0,
          22
         ],
         "title": {
          "text": "Hora (24 h)"
         }
        },
        "yaxis": {
         "anchor": "x",
         "domain": [
          0,
          1
         ],
         "title": {
          "text": "Distribuidores de red"
         }
        }
       }
      },
      "text/html": [
       "<div>\n",
       "        \n",
       "        \n",
       "            <div id=\"bbe68ab8-7e28-4747-9752-6c1090e6e8ab\" class=\"plotly-graph-div\" style=\"height:600px; width:600px;\"></div>\n",
       "            <script type=\"text/javascript\">\n",
       "                require([\"plotly\"], function(Plotly) {\n",
       "                    window.PLOTLYENV=window.PLOTLYENV || {};\n",
       "                    \n",
       "                if (document.getElementById(\"bbe68ab8-7e28-4747-9752-6c1090e6e8ab\")) {\n",
       "                    Plotly.newPlot(\n",
       "                        'bbe68ab8-7e28-4747-9752-6c1090e6e8ab',\n",
       "                        [{\"alignmentgroup\": \"True\", \"hoverlabel\": {\"namelength\": 0}, \"hovertemplate\": \"Hora (24 h)=%{marker.color}<br>Distribuidores de red=%{y}<br>promedio_semanal_por_dia=%{text}\", \"ids\": [\"MC-Atlantico\", \"MC-Bolivar\", \"MC-Cesar\", \"MC-CiraInfanta\", \"MC-CordobaSucre\", \"MC-Drummond\", \"MC-GM\", \"MC-Oxy\", \"MC-PSTN\", \"MC-Planeta\", \"MC-TubosCaribe\"], \"legendgroup\": \"\", \"marker\": {\"color\": [21, 21, 21, 21, 21, 21, 21, 21, 21, 21, 21], \"coloraxis\": \"coloraxis\", \"opacity\": 0.9}, \"name\": \"\", \"offsetgroup\": \"\", \"orientation\": \"h\", \"showlegend\": false, \"text\": [747.2619047619048, 451.94723971428573, 256.9595465714286, 51.23809523809524, 505.85647314285717, 6.925256571428571, 423.7619047619047, 91.0, 163.1944238261381, 52.93678514285715, 4.20162619047619], \"textposition\": \"auto\", \"type\": \"bar\", \"x\": [21, 21, 21, 21, 21, 21, 21, 21, 21, 21, 21], \"xaxis\": \"x\", \"y\": [\"MC-Atlantico\", \"MC-Bolivar\", \"MC-Cesar\", \"MC-CiraInfanta\", \"MC-CordobaSucre\", \"MC-Drummond\", \"MC-GM\", \"MC-Oxy\", \"MC-PSTN\", \"MC-Planeta\", \"MC-TubosCaribe\"], \"yaxis\": \"y\"}],\n",
       "                        {\"barmode\": \"overlay\", \"coloraxis\": {\"cmax\": 22, \"cmin\": 0, \"colorbar\": {\"title\": {\"text\": \"Hora (24 h)\"}}, \"colorscale\": [[0.0, \"rgb(158,1,66)\"], [0.1, \"rgb(213,62,79)\"], [0.2, \"rgb(244,109,67)\"], [0.3, \"rgb(253,174,97)\"], [0.4, \"rgb(254,224,139)\"], [0.5, \"rgb(255,255,191)\"], [0.6, \"rgb(230,245,152)\"], [0.7, \"rgb(171,221,164)\"], [0.8, \"rgb(102,194,165)\"], [0.9, \"rgb(50,136,189)\"], [1.0, \"rgb(94,79,162)\"]], \"showscale\": false}, \"height\": 600, \"legend\": {\"tracegroupgap\": 0}, \"sliders\": [{\"active\": 0, \"currentvalue\": {\"prefix\": \"Hora (24 h)=\"}, \"len\": 0.9, \"pad\": {\"b\": 10, \"t\": 60}, \"steps\": [{\"args\": [[\"21\"], {\"frame\": {\"duration\": 0, \"redraw\": true}, \"fromcurrent\": true, \"mode\": \"immediate\", \"transition\": {\"duration\": 0, \"easing\": \"linear\"}}], \"label\": \"21\", \"method\": \"animate\"}, {\"args\": [[\"20\"], {\"frame\": {\"duration\": 0, \"redraw\": true}, \"fromcurrent\": true, \"mode\": \"immediate\", \"transition\": {\"duration\": 0, \"easing\": \"linear\"}}], \"label\": \"20\", \"method\": \"animate\"}, {\"args\": [[\"19\"], {\"frame\": {\"duration\": 0, \"redraw\": true}, \"fromcurrent\": true, \"mode\": \"immediate\", \"transition\": {\"duration\": 0, \"easing\": \"linear\"}}], \"label\": \"19\", \"method\": \"animate\"}, {\"args\": [[\"13\"], {\"frame\": {\"duration\": 0, \"redraw\": true}, \"fromcurrent\": true, \"mode\": \"immediate\", \"transition\": {\"duration\": 0, \"easing\": \"linear\"}}], \"label\": \"13\", \"method\": \"animate\"}, {\"args\": [[\"5\"], {\"frame\": {\"duration\": 0, \"redraw\": true}, \"fromcurrent\": true, \"mode\": \"immediate\", \"transition\": {\"duration\": 0, \"easing\": \"linear\"}}], \"label\": \"5\", \"method\": \"animate\"}, {\"args\": [[\"4\"], {\"frame\": {\"duration\": 0, \"redraw\": true}, \"fromcurrent\": true, \"mode\": \"immediate\", \"transition\": {\"duration\": 0, \"easing\": \"linear\"}}], \"label\": \"4\", \"method\": \"animate\"}, {\"args\": [[\"6\"], {\"frame\": {\"duration\": 0, \"redraw\": true}, \"fromcurrent\": true, \"mode\": \"immediate\", \"transition\": {\"duration\": 0, \"easing\": \"linear\"}}], \"label\": \"6\", \"method\": \"animate\"}, {\"args\": [[\"7\"], {\"frame\": {\"duration\": 0, \"redraw\": true}, \"fromcurrent\": true, \"mode\": \"immediate\", \"transition\": {\"duration\": 0, \"easing\": \"linear\"}}], \"label\": \"7\", \"method\": \"animate\"}, {\"args\": [[\"8\"], {\"frame\": {\"duration\": 0, \"redraw\": true}, \"fromcurrent\": true, \"mode\": \"immediate\", \"transition\": {\"duration\": 0, \"easing\": \"linear\"}}], \"label\": \"8\", \"method\": \"animate\"}, {\"args\": [[\"9\"], {\"frame\": {\"duration\": 0, \"redraw\": true}, \"fromcurrent\": true, \"mode\": \"immediate\", \"transition\": {\"duration\": 0, \"easing\": \"linear\"}}], \"label\": \"9\", \"method\": \"animate\"}], \"x\": 0.1, \"xanchor\": \"left\", \"y\": 0, \"yanchor\": \"top\"}], \"template\": {\"data\": {\"bar\": [{\"error_x\": {\"color\": \"#2a3f5f\"}, \"error_y\": {\"color\": \"#2a3f5f\"}, \"marker\": {\"line\": {\"color\": \"white\", \"width\": 0.5}}, \"type\": \"bar\"}], \"barpolar\": [{\"marker\": {\"line\": {\"color\": \"white\", \"width\": 0.5}}, \"type\": \"barpolar\"}], \"carpet\": [{\"aaxis\": {\"endlinecolor\": \"#2a3f5f\", \"gridcolor\": \"#C8D4E3\", \"linecolor\": \"#C8D4E3\", \"minorgridcolor\": \"#C8D4E3\", \"startlinecolor\": \"#2a3f5f\"}, \"baxis\": {\"endlinecolor\": \"#2a3f5f\", \"gridcolor\": \"#C8D4E3\", \"linecolor\": \"#C8D4E3\", \"minorgridcolor\": \"#C8D4E3\", \"startlinecolor\": \"#2a3f5f\"}, \"type\": \"carpet\"}], \"choropleth\": [{\"colorbar\": {\"outlinewidth\": 0, \"ticks\": \"\"}, \"type\": \"choropleth\"}], \"contour\": [{\"colorbar\": {\"outlinewidth\": 0, \"ticks\": \"\"}, \"colorscale\": [[0.0, \"#0d0887\"], [0.1111111111111111, \"#46039f\"], [0.2222222222222222, \"#7201a8\"], [0.3333333333333333, \"#9c179e\"], [0.4444444444444444, \"#bd3786\"], [0.5555555555555556, \"#d8576b\"], [0.6666666666666666, \"#ed7953\"], [0.7777777777777778, \"#fb9f3a\"], [0.8888888888888888, \"#fdca26\"], [1.0, \"#f0f921\"]], \"type\": \"contour\"}], \"contourcarpet\": [{\"colorbar\": {\"outlinewidth\": 0, \"ticks\": \"\"}, \"type\": \"contourcarpet\"}], \"heatmap\": [{\"colorbar\": {\"outlinewidth\": 0, \"ticks\": \"\"}, \"colorscale\": [[0.0, \"#0d0887\"], [0.1111111111111111, \"#46039f\"], [0.2222222222222222, \"#7201a8\"], [0.3333333333333333, \"#9c179e\"], [0.4444444444444444, \"#bd3786\"], [0.5555555555555556, \"#d8576b\"], [0.6666666666666666, \"#ed7953\"], [0.7777777777777778, \"#fb9f3a\"], [0.8888888888888888, \"#fdca26\"], [1.0, \"#f0f921\"]], \"type\": \"heatmap\"}], \"heatmapgl\": [{\"colorbar\": {\"outlinewidth\": 0, \"ticks\": \"\"}, \"colorscale\": [[0.0, \"#0d0887\"], [0.1111111111111111, \"#46039f\"], [0.2222222222222222, \"#7201a8\"], [0.3333333333333333, \"#9c179e\"], [0.4444444444444444, \"#bd3786\"], [0.5555555555555556, \"#d8576b\"], [0.6666666666666666, \"#ed7953\"], [0.7777777777777778, \"#fb9f3a\"], [0.8888888888888888, \"#fdca26\"], [1.0, \"#f0f921\"]], \"type\": \"heatmapgl\"}], \"histogram\": [{\"marker\": {\"colorbar\": {\"outlinewidth\": 0, \"ticks\": \"\"}}, \"type\": \"histogram\"}], \"histogram2d\": [{\"colorbar\": {\"outlinewidth\": 0, \"ticks\": \"\"}, \"colorscale\": [[0.0, \"#0d0887\"], [0.1111111111111111, \"#46039f\"], [0.2222222222222222, \"#7201a8\"], [0.3333333333333333, \"#9c179e\"], [0.4444444444444444, \"#bd3786\"], [0.5555555555555556, \"#d8576b\"], [0.6666666666666666, \"#ed7953\"], [0.7777777777777778, \"#fb9f3a\"], [0.8888888888888888, \"#fdca26\"], [1.0, \"#f0f921\"]], \"type\": \"histogram2d\"}], \"histogram2dcontour\": [{\"colorbar\": {\"outlinewidth\": 0, \"ticks\": \"\"}, \"colorscale\": [[0.0, \"#0d0887\"], [0.1111111111111111, \"#46039f\"], [0.2222222222222222, \"#7201a8\"], [0.3333333333333333, \"#9c179e\"], [0.4444444444444444, \"#bd3786\"], [0.5555555555555556, \"#d8576b\"], [0.6666666666666666, \"#ed7953\"], [0.7777777777777778, \"#fb9f3a\"], [0.8888888888888888, \"#fdca26\"], [1.0, \"#f0f921\"]], \"type\": \"histogram2dcontour\"}], \"mesh3d\": [{\"colorbar\": {\"outlinewidth\": 0, \"ticks\": \"\"}, \"type\": \"mesh3d\"}], \"parcoords\": [{\"line\": {\"colorbar\": {\"outlinewidth\": 0, \"ticks\": \"\"}}, \"type\": \"parcoords\"}], \"pie\": [{\"automargin\": true, \"type\": \"pie\"}], \"scatter\": [{\"marker\": {\"colorbar\": {\"outlinewidth\": 0, \"ticks\": \"\"}}, \"type\": \"scatter\"}], \"scatter3d\": [{\"line\": {\"colorbar\": {\"outlinewidth\": 0, \"ticks\": \"\"}}, \"marker\": {\"colorbar\": {\"outlinewidth\": 0, \"ticks\": \"\"}}, \"type\": \"scatter3d\"}], \"scattercarpet\": [{\"marker\": {\"colorbar\": {\"outlinewidth\": 0, \"ticks\": \"\"}}, \"type\": \"scattercarpet\"}], \"scattergeo\": [{\"marker\": {\"colorbar\": {\"outlinewidth\": 0, \"ticks\": \"\"}}, \"type\": \"scattergeo\"}], \"scattergl\": [{\"marker\": {\"colorbar\": {\"outlinewidth\": 0, \"ticks\": \"\"}}, \"type\": \"scattergl\"}], \"scattermapbox\": [{\"marker\": {\"colorbar\": {\"outlinewidth\": 0, \"ticks\": \"\"}}, \"type\": \"scattermapbox\"}], \"scatterpolar\": [{\"marker\": {\"colorbar\": {\"outlinewidth\": 0, \"ticks\": \"\"}}, \"type\": \"scatterpolar\"}], \"scatterpolargl\": [{\"marker\": {\"colorbar\": {\"outlinewidth\": 0, \"ticks\": \"\"}}, \"type\": \"scatterpolargl\"}], \"scatterternary\": [{\"marker\": {\"colorbar\": {\"outlinewidth\": 0, \"ticks\": \"\"}}, \"type\": \"scatterternary\"}], \"surface\": [{\"colorbar\": {\"outlinewidth\": 0, \"ticks\": \"\"}, \"colorscale\": [[0.0, \"#0d0887\"], [0.1111111111111111, \"#46039f\"], [0.2222222222222222, \"#7201a8\"], [0.3333333333333333, \"#9c179e\"], [0.4444444444444444, \"#bd3786\"], [0.5555555555555556, \"#d8576b\"], [0.6666666666666666, \"#ed7953\"], [0.7777777777777778, \"#fb9f3a\"], [0.8888888888888888, \"#fdca26\"], [1.0, \"#f0f921\"]], \"type\": \"surface\"}], \"table\": [{\"cells\": {\"fill\": {\"color\": \"#EBF0F8\"}, \"line\": {\"color\": \"white\"}}, \"header\": {\"fill\": {\"color\": \"#C8D4E3\"}, \"line\": {\"color\": \"white\"}}, \"type\": \"table\"}]}, \"layout\": {\"annotationdefaults\": {\"arrowcolor\": \"#2a3f5f\", \"arrowhead\": 0, \"arrowwidth\": 1}, \"coloraxis\": {\"colorbar\": {\"outlinewidth\": 0, \"ticks\": \"\"}}, \"colorscale\": {\"diverging\": [[0, \"#8e0152\"], [0.1, \"#c51b7d\"], [0.2, \"#de77ae\"], [0.3, \"#f1b6da\"], [0.4, \"#fde0ef\"], [0.5, \"#f7f7f7\"], [0.6, \"#e6f5d0\"], [0.7, \"#b8e186\"], [0.8, \"#7fbc41\"], [0.9, \"#4d9221\"], [1, \"#276419\"]], \"sequential\": [[0.0, \"#0d0887\"], [0.1111111111111111, \"#46039f\"], [0.2222222222222222, \"#7201a8\"], [0.3333333333333333, \"#9c179e\"], [0.4444444444444444, \"#bd3786\"], [0.5555555555555556, \"#d8576b\"], [0.6666666666666666, \"#ed7953\"], [0.7777777777777778, \"#fb9f3a\"], [0.8888888888888888, \"#fdca26\"], [1.0, \"#f0f921\"]], \"sequentialminus\": [[0.0, \"#0d0887\"], [0.1111111111111111, \"#46039f\"], [0.2222222222222222, \"#7201a8\"], [0.3333333333333333, \"#9c179e\"], [0.4444444444444444, \"#bd3786\"], [0.5555555555555556, \"#d8576b\"], [0.6666666666666666, \"#ed7953\"], [0.7777777777777778, \"#fb9f3a\"], [0.8888888888888888, \"#fdca26\"], [1.0, \"#f0f921\"]]}, \"colorway\": [\"#636efa\", \"#EF553B\", \"#00cc96\", \"#ab63fa\", \"#FFA15A\", \"#19d3f3\", \"#FF6692\", \"#B6E880\", \"#FF97FF\", \"#FECB52\"], \"font\": {\"color\": \"#2a3f5f\"}, \"geo\": {\"bgcolor\": \"white\", \"lakecolor\": \"white\", \"landcolor\": \"white\", \"showlakes\": true, \"showland\": true, \"subunitcolor\": \"#C8D4E3\"}, \"hoverlabel\": {\"align\": \"left\"}, \"hovermode\": \"closest\", \"mapbox\": {\"style\": \"light\"}, \"paper_bgcolor\": \"white\", \"plot_bgcolor\": \"white\", \"polar\": {\"angularaxis\": {\"gridcolor\": \"#EBF0F8\", \"linecolor\": \"#EBF0F8\", \"ticks\": \"\"}, \"bgcolor\": \"white\", \"radialaxis\": {\"gridcolor\": \"#EBF0F8\", \"linecolor\": \"#EBF0F8\", \"ticks\": \"\"}}, \"scene\": {\"xaxis\": {\"backgroundcolor\": \"white\", \"gridcolor\": \"#DFE8F3\", \"gridwidth\": 2, \"linecolor\": \"#EBF0F8\", \"showbackground\": true, \"ticks\": \"\", \"zerolinecolor\": \"#EBF0F8\"}, \"yaxis\": {\"backgroundcolor\": \"white\", \"gridcolor\": \"#DFE8F3\", \"gridwidth\": 2, \"linecolor\": \"#EBF0F8\", \"showbackground\": true, \"ticks\": \"\", \"zerolinecolor\": \"#EBF0F8\"}, \"zaxis\": {\"backgroundcolor\": \"white\", \"gridcolor\": \"#DFE8F3\", \"gridwidth\": 2, \"linecolor\": \"#EBF0F8\", \"showbackground\": true, \"ticks\": \"\", \"zerolinecolor\": \"#EBF0F8\"}}, \"shapedefaults\": {\"line\": {\"color\": \"#2a3f5f\"}}, \"ternary\": {\"aaxis\": {\"gridcolor\": \"#DFE8F3\", \"linecolor\": \"#A2B1C6\", \"ticks\": \"\"}, \"baxis\": {\"gridcolor\": \"#DFE8F3\", \"linecolor\": \"#A2B1C6\", \"ticks\": \"\"}, \"bgcolor\": \"white\", \"caxis\": {\"gridcolor\": \"#DFE8F3\", \"linecolor\": \"#A2B1C6\", \"ticks\": \"\"}}, \"title\": {\"x\": 0.05}, \"xaxis\": {\"automargin\": true, \"gridcolor\": \"#EBF0F8\", \"linecolor\": \"#EBF0F8\", \"ticks\": \"\", \"title\": {\"standoff\": 15}, \"zerolinecolor\": \"#EBF0F8\", \"zerolinewidth\": 2}, \"yaxis\": {\"automargin\": true, \"gridcolor\": \"#EBF0F8\", \"linecolor\": \"#EBF0F8\", \"ticks\": \"\", \"title\": {\"standoff\": 15}, \"zerolinecolor\": \"#EBF0F8\", \"zerolinewidth\": 2}}}, \"title\": {\"font\": {\"family\": \"JetBrains Mono\", \"size\": 15}, \"text\": \"Hora donde se presenta el mayor consumo por distribuidora\"}, \"updatemenus\": [{\"buttons\": [{\"args\": [null, {\"frame\": {\"duration\": 3000, \"redraw\": true}, \"fromcurrent\": true, \"mode\": \"immediate\", \"transition\": {\"duration\": 1000, \"easing\": \"linear\"}}], \"label\": \"&#9654;\", \"method\": \"animate\"}, {\"args\": [[null], {\"frame\": {\"duration\": 0, \"redraw\": true}, \"fromcurrent\": true, \"mode\": \"immediate\", \"transition\": {\"duration\": 0, \"easing\": \"linear\"}}], \"label\": \"&#9724;\", \"method\": \"animate\"}], \"direction\": \"left\", \"pad\": {\"r\": 10, \"t\": 70}, \"showactive\": false, \"type\": \"buttons\", \"x\": 0.1, \"xanchor\": \"right\", \"y\": 0, \"yanchor\": \"top\"}], \"width\": 600, \"xaxis\": {\"anchor\": \"y\", \"categoryarray\": [21, 20, 19, 13, 5, 4, 6, 7, 8, 9], \"categoryorder\": \"array\", \"domain\": [0.0, 1.0], \"range\": [0, 22], \"title\": {\"text\": \"Hora (24 h)\"}}, \"yaxis\": {\"anchor\": \"x\", \"domain\": [0.0, 1.0], \"title\": {\"text\": \"Distribuidores de red\"}}},\n",
       "                        {\"responsive\": true}\n",
       "                    ).then(function(){\n",
       "                            Plotly.addFrames('bbe68ab8-7e28-4747-9752-6c1090e6e8ab', [{\"data\": [{\"alignmentgroup\": \"True\", \"hoverlabel\": {\"namelength\": 0}, \"hovertemplate\": \"Hora (24 h)=%{marker.color}<br>Distribuidores de red=%{y}<br>promedio_semanal_por_dia=%{text}\", \"ids\": [\"MC-Atlantico\", \"MC-Bolivar\", \"MC-Cesar\", \"MC-CiraInfanta\", \"MC-CordobaSucre\", \"MC-Drummond\", \"MC-GM\", \"MC-Oxy\", \"MC-PSTN\", \"MC-Planeta\", \"MC-TubosCaribe\"], \"legendgroup\": \"\", \"marker\": {\"color\": [21, 21, 21, 21, 21, 21, 21, 21, 21, 21, 21], \"coloraxis\": \"coloraxis\", \"opacity\": 0.9}, \"name\": \"\", \"offsetgroup\": \"\", \"orientation\": \"h\", \"showlegend\": false, \"text\": [747.2619047619048, 451.94723971428573, 256.9595465714286, 51.23809523809524, 505.85647314285717, 6.925256571428571, 423.7619047619047, 91.0, 163.1944238261381, 52.93678514285715, 4.20162619047619], \"textposition\": \"auto\", \"x\": [21, 21, 21, 21, 21, 21, 21, 21, 21, 21, 21], \"xaxis\": \"x\", \"y\": [\"MC-Atlantico\", \"MC-Bolivar\", \"MC-Cesar\", \"MC-CiraInfanta\", \"MC-CordobaSucre\", \"MC-Drummond\", \"MC-GM\", \"MC-Oxy\", \"MC-PSTN\", \"MC-Planeta\", \"MC-TubosCaribe\"], \"yaxis\": \"y\", \"type\": \"bar\"}], \"name\": \"21\"}, {\"data\": [{\"alignmentgroup\": \"True\", \"hoverlabel\": {\"namelength\": 0}, \"hovertemplate\": \"Hora (24 h)=%{marker.color}<br>Distribuidores de red=%{y}<br>promedio_semanal_por_dia=%{text}\", \"ids\": [\"MC-Antioquia\", \"MC-Arauca\", \"MC-BajoPutumayo\", \"MC-Boyaca\", \"MC-Caldas\", \"MC-Caqueta\", \"MC-Cartago\", \"MC-Casanare\", \"MC-Cauca\", \"MC-Celsia\", \"MC-Choco\", \"MC-CiraInfanta\", \"MC-Codensa\", \"MC-Drummond\", \"MC-Emec\", \"MC-Guaviare\", \"MC-Huila\", \"MC-Intercor\", \"MC-Meta\", \"MC-Nari\\u00f1o\", \"MC-Oxy\", \"MC-PSTN\", \"MC-Pereira\", \"MC-Putumayo\", \"MC-Quindio\", \"MC-Tolima\", \"MC-TubosCaribe\", \"MC-Tulua\"], \"legendgroup\": \"\", \"marker\": {\"color\": [20, 20, 20, 20, 20, 20, 20, 20, 20, 20, 20, 20, 20, 20, 20, 20, 20, 20, 20, 20, 20, 20, 20, 20, 20, 20, 20, 20], \"coloraxis\": \"coloraxis\", \"opacity\": 0.9}, \"name\": \"\", \"offsetgroup\": \"\", \"orientation\": \"h\", \"showlegend\": false, \"text\": [1476.7619047619048, 41.491493, 13.970335761904762, 308.88620780952385, 244.71428571428572, 46.42788242857143, 28.712251666666663, 92.23648566666665, 158.71100661904762, 357.3470344285714, 36.19047619047619, 51.23809523809524, 2131.6399999523805, 6.925256571428571, 1.2124574285714285, 10.432195238095238, 179.98957666666664, 24.81504480952381, 222.9757149047619, 131.91772376190477, 91.0, 163.1944238261381, 100.14285714285714, 15.84730719047619, 77.46566599999998, 260.99199957142855, 4.20162619047619, 36.228836333333334], \"textposition\": \"auto\", \"x\": [20, 20, 20, 20, 20, 20, 20, 20, 20, 20, 20, 20, 20, 20, 20, 20, 20, 20, 20, 20, 20, 20, 20, 20, 20, 20, 20, 20], \"xaxis\": \"x\", \"y\": [\"MC-Antioquia\", \"MC-Arauca\", \"MC-BajoPutumayo\", \"MC-Boyaca\", \"MC-Caldas\", \"MC-Caqueta\", \"MC-Cartago\", \"MC-Casanare\", \"MC-Cauca\", \"MC-Celsia\", \"MC-Choco\", \"MC-CiraInfanta\", \"MC-Codensa\", \"MC-Drummond\", \"MC-Emec\", \"MC-Guaviare\", \"MC-Huila\", \"MC-Intercor\", \"MC-Meta\", \"MC-Nari\\u00f1o\", \"MC-Oxy\", \"MC-PSTN\", \"MC-Pereira\", \"MC-Putumayo\", \"MC-Quindio\", \"MC-Tolima\", \"MC-TubosCaribe\", \"MC-Tulua\"], \"yaxis\": \"y\", \"type\": \"bar\"}], \"name\": \"20\"}, {\"data\": [{\"alignmentgroup\": \"True\", \"hoverlabel\": {\"namelength\": 0}, \"hovertemplate\": \"Hora (24 h)=%{marker.color}<br>Distribuidores de red=%{y}<br>promedio_semanal_por_dia=%{text}\", \"ids\": [\"MC-CiraInfanta\", \"MC-Drummond\", \"MC-DrummondLoma\", \"MC-NorSantander\", \"MC-Oxy\", \"MC-PSTN\", \"MC-Rubiales\", \"MC-Santander\", \"MC-TubosCaribe\"], \"legendgroup\": \"\", \"marker\": {\"color\": [19, 19, 19, 19, 19, 19, 19, 19, 19], \"coloraxis\": \"coloraxis\", \"opacity\": 0.9}, \"name\": \"\", \"offsetgroup\": \"\", \"orientation\": \"h\", \"showlegend\": false, \"text\": [51.23809523809524, 6.925256571428571, 79.0, 265.7888858571429, 91.0, 163.1944238261381, 190.76217238095236, 407.6533463333334, 4.20162619047619], \"textposition\": \"auto\", \"x\": [19, 19, 19, 19, 19, 19, 19, 19, 19], \"xaxis\": \"x\", \"y\": [\"MC-CiraInfanta\", \"MC-Drummond\", \"MC-DrummondLoma\", \"MC-NorSantander\", \"MC-Oxy\", \"MC-PSTN\", \"MC-Rubiales\", \"MC-Santander\", \"MC-TubosCaribe\"], \"yaxis\": \"y\", \"type\": \"bar\"}], \"name\": \"19\"}, {\"data\": [{\"alignmentgroup\": \"True\", \"hoverlabel\": {\"namelength\": 0}, \"hovertemplate\": \"Hora (24 h)=%{marker.color}<br>Distribuidores de red=%{y}<br>promedio_semanal_por_dia=%{text}\", \"ids\": [\"MC-Cali\"], \"legendgroup\": \"\", \"marker\": {\"color\": [13], \"coloraxis\": \"coloraxis\", \"opacity\": 0.9}, \"name\": \"\", \"offsetgroup\": \"\", \"orientation\": \"h\", \"showlegend\": false, \"text\": [547.2471291428571], \"textposition\": \"auto\", \"x\": [13], \"xaxis\": \"x\", \"y\": [\"MC-Cali\"], \"yaxis\": \"y\", \"type\": \"bar\"}], \"name\": \"13\"}, {\"data\": [{\"alignmentgroup\": \"True\", \"hoverlabel\": {\"namelength\": 0}, \"hovertemplate\": \"Hora (24 h)=%{marker.color}<br>Distribuidores de red=%{y}<br>promedio_semanal_por_dia=%{text}\", \"ids\": [\"MC-SanFernando\"], \"legendgroup\": \"\", \"marker\": {\"color\": [5], \"coloraxis\": \"coloraxis\", \"opacity\": 0.9}, \"name\": \"\", \"offsetgroup\": \"\", \"orientation\": \"h\", \"showlegend\": false, \"text\": [102.62194757142856], \"textposition\": \"auto\", \"x\": [5], \"xaxis\": \"x\", \"y\": [\"MC-SanFernando\"], \"yaxis\": \"y\", \"type\": \"bar\"}], \"name\": \"5\"}, {\"data\": [{\"alignmentgroup\": \"True\", \"hoverlabel\": {\"namelength\": 0}, \"hovertemplate\": \"Hora (24 h)=%{marker.color}<br>Distribuidores de red=%{y}<br>promedio_semanal_por_dia=%{text}\", \"ids\": [\"MC-Cerromatoso\"], \"legendgroup\": \"\", \"marker\": {\"color\": [4], \"coloraxis\": \"coloraxis\", \"opacity\": 0.9}, \"name\": \"\", \"offsetgroup\": \"\", \"orientation\": \"h\", \"showlegend\": false, \"text\": [124.6484960952381], \"textposition\": \"auto\", \"x\": [4], \"xaxis\": \"x\", \"y\": [\"MC-Cerromatoso\"], \"yaxis\": \"y\", \"type\": \"bar\"}], \"name\": \"4\"}, {\"data\": [{\"alignmentgroup\": \"True\", \"hoverlabel\": {\"namelength\": 0}, \"hovertemplate\": \"Hora (24 h)=%{marker.color}<br>Distribuidores de red=%{y}<br>promedio_semanal_por_dia=%{text}\", \"ids\": [\"MC-Cerromatoso\"], \"legendgroup\": \"\", \"marker\": {\"color\": [6], \"coloraxis\": \"coloraxis\", \"opacity\": 0.9}, \"name\": \"\", \"offsetgroup\": \"\", \"orientation\": \"h\", \"showlegend\": false, \"text\": [124.6484960952381], \"textposition\": \"auto\", \"x\": [6], \"xaxis\": \"x\", \"y\": [\"MC-Cerromatoso\"], \"yaxis\": \"y\", \"type\": \"bar\"}], \"name\": \"6\"}, {\"data\": [{\"alignmentgroup\": \"True\", \"hoverlabel\": {\"namelength\": 0}, \"hovertemplate\": \"Hora (24 h)=%{marker.color}<br>Distribuidores de red=%{y}<br>promedio_semanal_por_dia=%{text}\", \"ids\": [\"MC-Cerromatoso\"], \"legendgroup\": \"\", \"marker\": {\"color\": [7], \"coloraxis\": \"coloraxis\", \"opacity\": 0.9}, \"name\": \"\", \"offsetgroup\": \"\", \"orientation\": \"h\", \"showlegend\": false, \"text\": [124.6484960952381], \"textposition\": \"auto\", \"x\": [7], \"xaxis\": \"x\", \"y\": [\"MC-Cerromatoso\"], \"yaxis\": \"y\", \"type\": \"bar\"}], \"name\": \"7\"}, {\"data\": [{\"alignmentgroup\": \"True\", \"hoverlabel\": {\"namelength\": 0}, \"hovertemplate\": \"Hora (24 h)=%{marker.color}<br>Distribuidores de red=%{y}<br>promedio_semanal_por_dia=%{text}\", \"ids\": [\"MC-Cerromatoso\"], \"legendgroup\": \"\", \"marker\": {\"color\": [8], \"coloraxis\": \"coloraxis\", \"opacity\": 0.9}, \"name\": \"\", \"offsetgroup\": \"\", \"orientation\": \"h\", \"showlegend\": false, \"text\": [124.6484960952381], \"textposition\": \"auto\", \"x\": [8], \"xaxis\": \"x\", \"y\": [\"MC-Cerromatoso\"], \"yaxis\": \"y\", \"type\": \"bar\"}], \"name\": \"8\"}, {\"data\": [{\"alignmentgroup\": \"True\", \"hoverlabel\": {\"namelength\": 0}, \"hovertemplate\": \"Hora (24 h)=%{marker.color}<br>Distribuidores de red=%{y}<br>promedio_semanal_por_dia=%{text}\", \"ids\": [\"MC-Cerromatoso\"], \"legendgroup\": \"\", \"marker\": {\"color\": [9], \"coloraxis\": \"coloraxis\", \"opacity\": 0.9}, \"name\": \"\", \"offsetgroup\": \"\", \"orientation\": \"h\", \"showlegend\": false, \"text\": [124.6484960952381], \"textposition\": \"auto\", \"x\": [9], \"xaxis\": \"x\", \"y\": [\"MC-Cerromatoso\"], \"yaxis\": \"y\", \"type\": \"bar\"}], \"name\": \"9\"}]);\n",
       "                        }).then(function(){\n",
       "                            \n",
       "var gd = document.getElementById('bbe68ab8-7e28-4747-9752-6c1090e6e8ab');\n",
       "var x = new MutationObserver(function (mutations, observer) {{\n",
       "        var display = window.getComputedStyle(gd).display;\n",
       "        if (!display || display === 'none') {{\n",
       "            console.log([gd, 'removed!']);\n",
       "            Plotly.purge(gd);\n",
       "            observer.disconnect();\n",
       "        }}\n",
       "}});\n",
       "\n",
       "// Listen for the removal of the full notebook cells\n",
       "var notebookContainer = gd.closest('#notebook-container');\n",
       "if (notebookContainer) {{\n",
       "    x.observe(notebookContainer, {childList: true});\n",
       "}}\n",
       "\n",
       "// Listen for the clearing of the current output cell\n",
       "var outputEl = gd.closest('.output');\n",
       "if (outputEl) {{\n",
       "    x.observe(outputEl, {childList: true});\n",
       "}}\n",
       "\n",
       "                        })\n",
       "                };\n",
       "                });\n",
       "            </script>\n",
       "        </div>"
      ]
     },
     "metadata": {},
     "output_type": "display_data"
    }
   ],
   "source": [
    "barchart_2 = px.bar(\n",
    "    data_frame=dataset_max,\n",
    "    x = 'hora',\n",
    "    y = 'Operadores_de_red',\n",
    "    color = 'hora',\n",
    "    opacity = 0.9,\n",
    "    orientation = 'h',\n",
    "    barmode = 'overlay',\n",
    "\n",
    "    color_continuous_scale=px.colors.diverging.Spectral,\n",
    "    range_color = [0,22],\n",
    "\n",
    "    text = 'promedio_semanal_por_dia',\n",
    "\n",
    "    labels = {\"Operadores_de_red\":\"Distribuidores de red\",\n",
    "    \"hora\":\"Hora (24 h)\"},           # map the labels of the figure\n",
    "    title = 'Hora donde se presenta el mayor consumo por distribuidora', # figure title\n",
    "    width=600,                   # figure width in pixels\n",
    "    height=600,                   # figure height in pixels\n",
    "    template = 'plotly_white',\n",
    "\n",
    "    animation_frame='hora',     # assign marks to animation frames\n",
    "    animation_group='Operadores_de_red',\n",
    "    range_x=[0,22],\n",
    "    category_orders={'hora':[21,20,19,13,5]}\n",
    ")\n",
    "barchart_2.update_coloraxes(showscale=False)\n",
    "barchart_2.layout.updatemenus[0].buttons[0].args[1]['frame']['duration'] = 3000\n",
    "barchart_2.layout.updatemenus[0].buttons[0].args[1]['transition']['duration'] =1000\n",
    "barchart_2.update_layout(title=dict(font=dict(family='JetBrains Mono',size=15)))\n",
    "\n",
    "barchart_2.show()"
   ]
  },
  {
   "attachments": {},
   "cell_type": "markdown",
   "metadata": {},
   "source": [
    "Se evidencia en que horarios es donde se presentan los mayores consumos, es decir, donde mas se presentaron distribuidoras, en los rangos de **19 a 21 horas**"
   ]
  },
  {
   "cell_type": "code",
   "execution_count": 10,
   "metadata": {},
   "outputs": [
    {
     "name": "stdout",
     "output_type": "stream",
     "text": [
      "Hora promedio de más consumo según dataset: 18:26 h\n"
     ]
    }
   ],
   "source": [
    "# El promedio total es:\n",
    "from math import trunc\n",
    "hora_promedio_mas_consumo = dataset_max['hora'].mean()\n",
    "hora_prom = trunc(hora_promedio_mas_consumo)\n",
    "minutos_prom = trunc((hora_promedio_mas_consumo-hora_prom)*60)\n",
    "print(f\"Hora promedio de más consumo según dataset: {hora_prom}:{minutos_prom} h\")"
   ]
  },
  {
   "attachments": {},
   "cell_type": "markdown",
   "metadata": {},
   "source": [
    "### 18:26 Horas"
   ]
  },
  {
   "cell_type": "code",
   "execution_count": 165,
   "metadata": {},
   "outputs": [
    {
     "data": {
      "text/html": [
       "<div>\n",
       "<style scoped>\n",
       "    .dataframe tbody tr th:only-of-type {\n",
       "        vertical-align: middle;\n",
       "    }\n",
       "\n",
       "    .dataframe tbody tr th {\n",
       "        vertical-align: top;\n",
       "    }\n",
       "\n",
       "    .dataframe thead th {\n",
       "        text-align: right;\n",
       "    }\n",
       "</style>\n",
       "<table border=\"1\" class=\"dataframe\">\n",
       "  <thead>\n",
       "    <tr style=\"text-align: right;\">\n",
       "      <th></th>\n",
       "      <th>Operadores_de_red</th>\n",
       "      <th>lunes</th>\n",
       "      <th>martes</th>\n",
       "      <th>miercoles</th>\n",
       "      <th>jueves</th>\n",
       "      <th>viernes</th>\n",
       "      <th>sabado</th>\n",
       "      <th>domingo</th>\n",
       "      <th>consumo_promedio_semanal</th>\n",
       "    </tr>\n",
       "  </thead>\n",
       "  <tbody>\n",
       "    <tr>\n",
       "      <th>0</th>\n",
       "      <td>MC-Antioquia</td>\n",
       "      <td>1221.495500</td>\n",
       "      <td>1237.340056</td>\n",
       "      <td>1233.500000</td>\n",
       "      <td>1230.833333</td>\n",
       "      <td>1239.180556</td>\n",
       "      <td>1152.194444</td>\n",
       "      <td>1003.123076</td>\n",
       "      <td>8317.666965</td>\n",
       "    </tr>\n",
       "    <tr>\n",
       "      <th>1</th>\n",
       "      <td>MC-Arauca</td>\n",
       "      <td>33.196388</td>\n",
       "      <td>35.152444</td>\n",
       "      <td>32.560723</td>\n",
       "      <td>35.411366</td>\n",
       "      <td>36.020322</td>\n",
       "      <td>31.387130</td>\n",
       "      <td>32.890679</td>\n",
       "      <td>236.619051</td>\n",
       "    </tr>\n",
       "    <tr>\n",
       "      <th>2</th>\n",
       "      <td>MC-Atlantico</td>\n",
       "      <td>669.784290</td>\n",
       "      <td>676.748833</td>\n",
       "      <td>677.298611</td>\n",
       "      <td>684.211111</td>\n",
       "      <td>683.352778</td>\n",
       "      <td>658.718056</td>\n",
       "      <td>620.343056</td>\n",
       "      <td>4670.456734</td>\n",
       "    </tr>\n",
       "    <tr>\n",
       "      <th>3</th>\n",
       "      <td>MC-BajoPutumayo</td>\n",
       "      <td>9.726974</td>\n",
       "      <td>9.786377</td>\n",
       "      <td>9.854946</td>\n",
       "      <td>9.772354</td>\n",
       "      <td>9.876954</td>\n",
       "      <td>10.089183</td>\n",
       "      <td>9.285535</td>\n",
       "      <td>68.392322</td>\n",
       "    </tr>\n",
       "    <tr>\n",
       "      <th>4</th>\n",
       "      <td>MC-Bolivar</td>\n",
       "      <td>404.792720</td>\n",
       "      <td>402.330997</td>\n",
       "      <td>409.959827</td>\n",
       "      <td>406.896734</td>\n",
       "      <td>405.944289</td>\n",
       "      <td>395.508970</td>\n",
       "      <td>368.078602</td>\n",
       "      <td>2793.512140</td>\n",
       "    </tr>\n",
       "  </tbody>\n",
       "</table>\n",
       "</div>"
      ],
      "text/plain": [
       "  Operadores_de_red        lunes       martes    miercoles       jueves  \\\n",
       "0      MC-Antioquia  1221.495500  1237.340056  1233.500000  1230.833333   \n",
       "1         MC-Arauca    33.196388    35.152444    32.560723    35.411366   \n",
       "2      MC-Atlantico   669.784290   676.748833   677.298611   684.211111   \n",
       "3   MC-BajoPutumayo     9.726974     9.786377     9.854946     9.772354   \n",
       "4        MC-Bolivar   404.792720   402.330997   409.959827   406.896734   \n",
       "\n",
       "       viernes       sabado      domingo  consumo_promedio_semanal  \n",
       "0  1239.180556  1152.194444  1003.123076               8317.666965  \n",
       "1    36.020322    31.387130    32.890679                236.619051  \n",
       "2   683.352778   658.718056   620.343056               4670.456734  \n",
       "3     9.876954    10.089183     9.285535                 68.392322  \n",
       "4   405.944289   395.508970   368.078602               2793.512140  "
      ]
     },
     "execution_count": 165,
     "metadata": {},
     "output_type": "execute_result"
    }
   ],
   "source": [
    "# Complementando lo anterior se incluira una comparativa para los consumos promedio semanales\n",
    "# reset index dataset \n",
    "dataset_promedio_semanal = dataset.reset_index()\n",
    "# promedio semanal por día\n",
    "consumo_semanal = dataset_promedio_semanal[['Operadores_de_red', 'lunes','martes','miercoles','jueves','viernes','sabado','domingo']].groupby('Operadores_de_red').mean()\n",
    "# promedio semanal total\n",
    "consumo_semanal['consumo_promedio_semanal'] = consumo_semanal.sum(axis=1)\n",
    "# reset index para gráficar\n",
    "consumo_semanal_2 = consumo_semanal.reset_index()\n",
    "consumo_semanal_2.head()"
   ]
  },
  {
   "cell_type": "code",
   "execution_count": 164,
   "metadata": {},
   "outputs": [
    {
     "data": {
      "application/vnd.plotly.v1+json": {
       "config": {
        "plotlyServerURL": "https://plot.ly"
       },
       "data": [
        {
         "domain": {
          "x": [
           0,
           1
          ],
          "y": [
           0,
           1
          ]
         },
         "hole": 0.3,
         "hoverinfo": "label+percent",
         "hoverlabel": {
          "namelength": 0
         },
         "hovertemplate": "Operadores_de_red=%{label}<br>consumo_promedio_semanal=%{value}",
         "insidetextfont": {
          "color": "white"
         },
         "labels": [
          "MC-Antioquia",
          "MC-Arauca",
          "MC-Atlantico",
          "MC-BajoPutumayo",
          "MC-Bolivar",
          "MC-Boyaca",
          "MC-Caldas",
          "MC-Cali",
          "MC-Caqueta",
          "MC-Cartago",
          "MC-Casanare",
          "MC-Cauca",
          "MC-Celsia",
          "MC-Cerromatoso",
          "MC-Cesar",
          "MC-Choco",
          "MC-CiraInfanta",
          "MC-Codensa",
          "MC-CordobaSucre",
          "MC-Drummond",
          "MC-DrummondLoma",
          "MC-Emec",
          "MC-GM",
          "MC-Guaviare",
          "MC-Huila",
          "MC-Intercor",
          "MC-Meta",
          "MC-Nariño",
          "MC-NorSantander",
          "MC-Oxy",
          "MC-PSTN",
          "MC-Pereira",
          "MC-Planeta",
          "MC-Putumayo",
          "MC-Quindio",
          "MC-Rubiales",
          "MC-SanFernando",
          "MC-Santander",
          "MC-Tolima",
          "MC-TubosCaribe",
          "MC-Tulua"
         ],
         "legendgroup": "",
         "name": "",
         "showlegend": true,
         "type": "pie",
         "values": [
          8317.666965277778,
          236.6190509861111,
          4670.456734444444,
          68.39232173611111,
          2793.5121396527775,
          1857.7011464722223,
          1407.2971844444446,
          3260.212279833333,
          255.02183429166666,
          160.54873088888888,
          552.8322082222222,
          848.6581162916666,
          2066.657972388889,
          872.4283613194443,
          1550.0017786805556,
          209.83458440277778,
          352.5416666666667,
          12802.976110861113,
          2843.9448097638888,
          39.383805083333336,
          343.875,
          6.16540151388889,
          2515.0145555555555,
          60.98580972222222,
          1017.7539242916665,
          154.47041486111112,
          1320.1261146666668,
          669.7256932083334,
          1617.8907249444444,
          625.4583333333333,
          1112.5867875143335,
          572.1111111111111,
          297.34454450000004,
          85.20239713888888,
          425.8749747916667,
          1308.9198749722225,
          580.1856469861111,
          2421.317440097222,
          1453.4060601111112,
          22.284793472222223,
          193.43511022222222
         ]
        }
       ],
       "layout": {
        "height": 1000,
        "legend": {
         "itemclick": false,
         "itemdoubleclick": false,
         "tracegroupgap": 0
        },
        "template": {
         "data": {
          "bar": [
           {
            "error_x": {
             "color": "#2a3f5f"
            },
            "error_y": {
             "color": "#2a3f5f"
            },
            "marker": {
             "line": {
              "color": "white",
              "width": 0.5
             }
            },
            "type": "bar"
           }
          ],
          "barpolar": [
           {
            "marker": {
             "line": {
              "color": "white",
              "width": 0.5
             }
            },
            "type": "barpolar"
           }
          ],
          "carpet": [
           {
            "aaxis": {
             "endlinecolor": "#2a3f5f",
             "gridcolor": "#C8D4E3",
             "linecolor": "#C8D4E3",
             "minorgridcolor": "#C8D4E3",
             "startlinecolor": "#2a3f5f"
            },
            "baxis": {
             "endlinecolor": "#2a3f5f",
             "gridcolor": "#C8D4E3",
             "linecolor": "#C8D4E3",
             "minorgridcolor": "#C8D4E3",
             "startlinecolor": "#2a3f5f"
            },
            "type": "carpet"
           }
          ],
          "choropleth": [
           {
            "colorbar": {
             "outlinewidth": 0,
             "ticks": ""
            },
            "type": "choropleth"
           }
          ],
          "contour": [
           {
            "colorbar": {
             "outlinewidth": 0,
             "ticks": ""
            },
            "colorscale": [
             [
              0,
              "#0d0887"
             ],
             [
              0.1111111111111111,
              "#46039f"
             ],
             [
              0.2222222222222222,
              "#7201a8"
             ],
             [
              0.3333333333333333,
              "#9c179e"
             ],
             [
              0.4444444444444444,
              "#bd3786"
             ],
             [
              0.5555555555555556,
              "#d8576b"
             ],
             [
              0.6666666666666666,
              "#ed7953"
             ],
             [
              0.7777777777777778,
              "#fb9f3a"
             ],
             [
              0.8888888888888888,
              "#fdca26"
             ],
             [
              1,
              "#f0f921"
             ]
            ],
            "type": "contour"
           }
          ],
          "contourcarpet": [
           {
            "colorbar": {
             "outlinewidth": 0,
             "ticks": ""
            },
            "type": "contourcarpet"
           }
          ],
          "heatmap": [
           {
            "colorbar": {
             "outlinewidth": 0,
             "ticks": ""
            },
            "colorscale": [
             [
              0,
              "#0d0887"
             ],
             [
              0.1111111111111111,
              "#46039f"
             ],
             [
              0.2222222222222222,
              "#7201a8"
             ],
             [
              0.3333333333333333,
              "#9c179e"
             ],
             [
              0.4444444444444444,
              "#bd3786"
             ],
             [
              0.5555555555555556,
              "#d8576b"
             ],
             [
              0.6666666666666666,
              "#ed7953"
             ],
             [
              0.7777777777777778,
              "#fb9f3a"
             ],
             [
              0.8888888888888888,
              "#fdca26"
             ],
             [
              1,
              "#f0f921"
             ]
            ],
            "type": "heatmap"
           }
          ],
          "heatmapgl": [
           {
            "colorbar": {
             "outlinewidth": 0,
             "ticks": ""
            },
            "colorscale": [
             [
              0,
              "#0d0887"
             ],
             [
              0.1111111111111111,
              "#46039f"
             ],
             [
              0.2222222222222222,
              "#7201a8"
             ],
             [
              0.3333333333333333,
              "#9c179e"
             ],
             [
              0.4444444444444444,
              "#bd3786"
             ],
             [
              0.5555555555555556,
              "#d8576b"
             ],
             [
              0.6666666666666666,
              "#ed7953"
             ],
             [
              0.7777777777777778,
              "#fb9f3a"
             ],
             [
              0.8888888888888888,
              "#fdca26"
             ],
             [
              1,
              "#f0f921"
             ]
            ],
            "type": "heatmapgl"
           }
          ],
          "histogram": [
           {
            "marker": {
             "colorbar": {
              "outlinewidth": 0,
              "ticks": ""
             }
            },
            "type": "histogram"
           }
          ],
          "histogram2d": [
           {
            "colorbar": {
             "outlinewidth": 0,
             "ticks": ""
            },
            "colorscale": [
             [
              0,
              "#0d0887"
             ],
             [
              0.1111111111111111,
              "#46039f"
             ],
             [
              0.2222222222222222,
              "#7201a8"
             ],
             [
              0.3333333333333333,
              "#9c179e"
             ],
             [
              0.4444444444444444,
              "#bd3786"
             ],
             [
              0.5555555555555556,
              "#d8576b"
             ],
             [
              0.6666666666666666,
              "#ed7953"
             ],
             [
              0.7777777777777778,
              "#fb9f3a"
             ],
             [
              0.8888888888888888,
              "#fdca26"
             ],
             [
              1,
              "#f0f921"
             ]
            ],
            "type": "histogram2d"
           }
          ],
          "histogram2dcontour": [
           {
            "colorbar": {
             "outlinewidth": 0,
             "ticks": ""
            },
            "colorscale": [
             [
              0,
              "#0d0887"
             ],
             [
              0.1111111111111111,
              "#46039f"
             ],
             [
              0.2222222222222222,
              "#7201a8"
             ],
             [
              0.3333333333333333,
              "#9c179e"
             ],
             [
              0.4444444444444444,
              "#bd3786"
             ],
             [
              0.5555555555555556,
              "#d8576b"
             ],
             [
              0.6666666666666666,
              "#ed7953"
             ],
             [
              0.7777777777777778,
              "#fb9f3a"
             ],
             [
              0.8888888888888888,
              "#fdca26"
             ],
             [
              1,
              "#f0f921"
             ]
            ],
            "type": "histogram2dcontour"
           }
          ],
          "mesh3d": [
           {
            "colorbar": {
             "outlinewidth": 0,
             "ticks": ""
            },
            "type": "mesh3d"
           }
          ],
          "parcoords": [
           {
            "line": {
             "colorbar": {
              "outlinewidth": 0,
              "ticks": ""
             }
            },
            "type": "parcoords"
           }
          ],
          "pie": [
           {
            "automargin": true,
            "type": "pie"
           }
          ],
          "scatter": [
           {
            "marker": {
             "colorbar": {
              "outlinewidth": 0,
              "ticks": ""
             }
            },
            "type": "scatter"
           }
          ],
          "scatter3d": [
           {
            "line": {
             "colorbar": {
              "outlinewidth": 0,
              "ticks": ""
             }
            },
            "marker": {
             "colorbar": {
              "outlinewidth": 0,
              "ticks": ""
             }
            },
            "type": "scatter3d"
           }
          ],
          "scattercarpet": [
           {
            "marker": {
             "colorbar": {
              "outlinewidth": 0,
              "ticks": ""
             }
            },
            "type": "scattercarpet"
           }
          ],
          "scattergeo": [
           {
            "marker": {
             "colorbar": {
              "outlinewidth": 0,
              "ticks": ""
             }
            },
            "type": "scattergeo"
           }
          ],
          "scattergl": [
           {
            "marker": {
             "colorbar": {
              "outlinewidth": 0,
              "ticks": ""
             }
            },
            "type": "scattergl"
           }
          ],
          "scattermapbox": [
           {
            "marker": {
             "colorbar": {
              "outlinewidth": 0,
              "ticks": ""
             }
            },
            "type": "scattermapbox"
           }
          ],
          "scatterpolar": [
           {
            "marker": {
             "colorbar": {
              "outlinewidth": 0,
              "ticks": ""
             }
            },
            "type": "scatterpolar"
           }
          ],
          "scatterpolargl": [
           {
            "marker": {
             "colorbar": {
              "outlinewidth": 0,
              "ticks": ""
             }
            },
            "type": "scatterpolargl"
           }
          ],
          "scatterternary": [
           {
            "marker": {
             "colorbar": {
              "outlinewidth": 0,
              "ticks": ""
             }
            },
            "type": "scatterternary"
           }
          ],
          "surface": [
           {
            "colorbar": {
             "outlinewidth": 0,
             "ticks": ""
            },
            "colorscale": [
             [
              0,
              "#0d0887"
             ],
             [
              0.1111111111111111,
              "#46039f"
             ],
             [
              0.2222222222222222,
              "#7201a8"
             ],
             [
              0.3333333333333333,
              "#9c179e"
             ],
             [
              0.4444444444444444,
              "#bd3786"
             ],
             [
              0.5555555555555556,
              "#d8576b"
             ],
             [
              0.6666666666666666,
              "#ed7953"
             ],
             [
              0.7777777777777778,
              "#fb9f3a"
             ],
             [
              0.8888888888888888,
              "#fdca26"
             ],
             [
              1,
              "#f0f921"
             ]
            ],
            "type": "surface"
           }
          ],
          "table": [
           {
            "cells": {
             "fill": {
              "color": "#EBF0F8"
             },
             "line": {
              "color": "white"
             }
            },
            "header": {
             "fill": {
              "color": "#C8D4E3"
             },
             "line": {
              "color": "white"
             }
            },
            "type": "table"
           }
          ]
         },
         "layout": {
          "annotationdefaults": {
           "arrowcolor": "#2a3f5f",
           "arrowhead": 0,
           "arrowwidth": 1
          },
          "coloraxis": {
           "colorbar": {
            "outlinewidth": 0,
            "ticks": ""
           }
          },
          "colorscale": {
           "diverging": [
            [
             0,
             "#8e0152"
            ],
            [
             0.1,
             "#c51b7d"
            ],
            [
             0.2,
             "#de77ae"
            ],
            [
             0.3,
             "#f1b6da"
            ],
            [
             0.4,
             "#fde0ef"
            ],
            [
             0.5,
             "#f7f7f7"
            ],
            [
             0.6,
             "#e6f5d0"
            ],
            [
             0.7,
             "#b8e186"
            ],
            [
             0.8,
             "#7fbc41"
            ],
            [
             0.9,
             "#4d9221"
            ],
            [
             1,
             "#276419"
            ]
           ],
           "sequential": [
            [
             0,
             "#0d0887"
            ],
            [
             0.1111111111111111,
             "#46039f"
            ],
            [
             0.2222222222222222,
             "#7201a8"
            ],
            [
             0.3333333333333333,
             "#9c179e"
            ],
            [
             0.4444444444444444,
             "#bd3786"
            ],
            [
             0.5555555555555556,
             "#d8576b"
            ],
            [
             0.6666666666666666,
             "#ed7953"
            ],
            [
             0.7777777777777778,
             "#fb9f3a"
            ],
            [
             0.8888888888888888,
             "#fdca26"
            ],
            [
             1,
             "#f0f921"
            ]
           ],
           "sequentialminus": [
            [
             0,
             "#0d0887"
            ],
            [
             0.1111111111111111,
             "#46039f"
            ],
            [
             0.2222222222222222,
             "#7201a8"
            ],
            [
             0.3333333333333333,
             "#9c179e"
            ],
            [
             0.4444444444444444,
             "#bd3786"
            ],
            [
             0.5555555555555556,
             "#d8576b"
            ],
            [
             0.6666666666666666,
             "#ed7953"
            ],
            [
             0.7777777777777778,
             "#fb9f3a"
            ],
            [
             0.8888888888888888,
             "#fdca26"
            ],
            [
             1,
             "#f0f921"
            ]
           ]
          },
          "colorway": [
           "#636efa",
           "#EF553B",
           "#00cc96",
           "#ab63fa",
           "#FFA15A",
           "#19d3f3",
           "#FF6692",
           "#B6E880",
           "#FF97FF",
           "#FECB52"
          ],
          "font": {
           "color": "#2a3f5f"
          },
          "geo": {
           "bgcolor": "white",
           "lakecolor": "white",
           "landcolor": "white",
           "showlakes": true,
           "showland": true,
           "subunitcolor": "#C8D4E3"
          },
          "hoverlabel": {
           "align": "left"
          },
          "hovermode": "closest",
          "mapbox": {
           "style": "light"
          },
          "paper_bgcolor": "white",
          "plot_bgcolor": "white",
          "polar": {
           "angularaxis": {
            "gridcolor": "#EBF0F8",
            "linecolor": "#EBF0F8",
            "ticks": ""
           },
           "bgcolor": "white",
           "radialaxis": {
            "gridcolor": "#EBF0F8",
            "linecolor": "#EBF0F8",
            "ticks": ""
           }
          },
          "scene": {
           "xaxis": {
            "backgroundcolor": "white",
            "gridcolor": "#DFE8F3",
            "gridwidth": 2,
            "linecolor": "#EBF0F8",
            "showbackground": true,
            "ticks": "",
            "zerolinecolor": "#EBF0F8"
           },
           "yaxis": {
            "backgroundcolor": "white",
            "gridcolor": "#DFE8F3",
            "gridwidth": 2,
            "linecolor": "#EBF0F8",
            "showbackground": true,
            "ticks": "",
            "zerolinecolor": "#EBF0F8"
           },
           "zaxis": {
            "backgroundcolor": "white",
            "gridcolor": "#DFE8F3",
            "gridwidth": 2,
            "linecolor": "#EBF0F8",
            "showbackground": true,
            "ticks": "",
            "zerolinecolor": "#EBF0F8"
           }
          },
          "shapedefaults": {
           "line": {
            "color": "#2a3f5f"
           }
          },
          "ternary": {
           "aaxis": {
            "gridcolor": "#DFE8F3",
            "linecolor": "#A2B1C6",
            "ticks": ""
           },
           "baxis": {
            "gridcolor": "#DFE8F3",
            "linecolor": "#A2B1C6",
            "ticks": ""
           },
           "bgcolor": "white",
           "caxis": {
            "gridcolor": "#DFE8F3",
            "linecolor": "#A2B1C6",
            "ticks": ""
           }
          },
          "title": {
           "x": 0.05
          },
          "xaxis": {
           "automargin": true,
           "gridcolor": "#EBF0F8",
           "linecolor": "#EBF0F8",
           "ticks": "",
           "title": {
            "standoff": 15
           },
           "zerolinecolor": "#EBF0F8",
           "zerolinewidth": 2
          },
          "yaxis": {
           "automargin": true,
           "gridcolor": "#EBF0F8",
           "linecolor": "#EBF0F8",
           "ticks": "",
           "title": {
            "standoff": 15
           },
           "zerolinecolor": "#EBF0F8",
           "zerolinewidth": 2
          }
         }
        },
        "title": {
         "font": {
          "family": "JetBrains Mono",
          "size": 25
         },
         "text": "Distribuidores de red, consumo promedio semanal"
        },
        "width": 1200
       }
      },
      "text/html": [
       "<div>\n",
       "        \n",
       "        \n",
       "            <div id=\"63db0301-9b3e-4c17-849c-8e6caba89f8f\" class=\"plotly-graph-div\" style=\"height:1000px; width:1200px;\"></div>\n",
       "            <script type=\"text/javascript\">\n",
       "                require([\"plotly\"], function(Plotly) {\n",
       "                    window.PLOTLYENV=window.PLOTLYENV || {};\n",
       "                    \n",
       "                if (document.getElementById(\"63db0301-9b3e-4c17-849c-8e6caba89f8f\")) {\n",
       "                    Plotly.newPlot(\n",
       "                        '63db0301-9b3e-4c17-849c-8e6caba89f8f',\n",
       "                        [{\"domain\": {\"x\": [0.0, 1.0], \"y\": [0.0, 1.0]}, \"hole\": 0.3, \"hoverinfo\": \"label+percent\", \"hoverlabel\": {\"namelength\": 0}, \"hovertemplate\": \"Operadores_de_red=%{label}<br>consumo_promedio_semanal=%{value}\", \"insidetextfont\": {\"color\": \"white\"}, \"labels\": [\"MC-Antioquia\", \"MC-Arauca\", \"MC-Atlantico\", \"MC-BajoPutumayo\", \"MC-Bolivar\", \"MC-Boyaca\", \"MC-Caldas\", \"MC-Cali\", \"MC-Caqueta\", \"MC-Cartago\", \"MC-Casanare\", \"MC-Cauca\", \"MC-Celsia\", \"MC-Cerromatoso\", \"MC-Cesar\", \"MC-Choco\", \"MC-CiraInfanta\", \"MC-Codensa\", \"MC-CordobaSucre\", \"MC-Drummond\", \"MC-DrummondLoma\", \"MC-Emec\", \"MC-GM\", \"MC-Guaviare\", \"MC-Huila\", \"MC-Intercor\", \"MC-Meta\", \"MC-Nari\\u00f1o\", \"MC-NorSantander\", \"MC-Oxy\", \"MC-PSTN\", \"MC-Pereira\", \"MC-Planeta\", \"MC-Putumayo\", \"MC-Quindio\", \"MC-Rubiales\", \"MC-SanFernando\", \"MC-Santander\", \"MC-Tolima\", \"MC-TubosCaribe\", \"MC-Tulua\"], \"legendgroup\": \"\", \"name\": \"\", \"showlegend\": true, \"type\": \"pie\", \"values\": [8317.666965277778, 236.6190509861111, 4670.456734444444, 68.39232173611111, 2793.5121396527775, 1857.7011464722223, 1407.2971844444446, 3260.212279833333, 255.02183429166666, 160.54873088888888, 552.8322082222222, 848.6581162916666, 2066.657972388889, 872.4283613194443, 1550.0017786805556, 209.83458440277778, 352.5416666666667, 12802.976110861113, 2843.9448097638888, 39.383805083333336, 343.875, 6.16540151388889, 2515.0145555555555, 60.98580972222222, 1017.7539242916665, 154.47041486111112, 1320.1261146666668, 669.7256932083334, 1617.8907249444444, 625.4583333333333, 1112.5867875143335, 572.1111111111111, 297.34454450000004, 85.20239713888888, 425.8749747916667, 1308.9198749722225, 580.1856469861111, 2421.317440097222, 1453.4060601111112, 22.284793472222223, 193.43511022222222]}],\n",
       "                        {\"height\": 1000, \"legend\": {\"itemclick\": false, \"itemdoubleclick\": false, \"tracegroupgap\": 0}, \"template\": {\"data\": {\"bar\": [{\"error_x\": {\"color\": \"#2a3f5f\"}, \"error_y\": {\"color\": \"#2a3f5f\"}, \"marker\": {\"line\": {\"color\": \"white\", \"width\": 0.5}}, \"type\": \"bar\"}], \"barpolar\": [{\"marker\": {\"line\": {\"color\": \"white\", \"width\": 0.5}}, \"type\": \"barpolar\"}], \"carpet\": [{\"aaxis\": {\"endlinecolor\": \"#2a3f5f\", \"gridcolor\": \"#C8D4E3\", \"linecolor\": \"#C8D4E3\", \"minorgridcolor\": \"#C8D4E3\", \"startlinecolor\": \"#2a3f5f\"}, \"baxis\": {\"endlinecolor\": \"#2a3f5f\", \"gridcolor\": \"#C8D4E3\", \"linecolor\": \"#C8D4E3\", \"minorgridcolor\": \"#C8D4E3\", \"startlinecolor\": \"#2a3f5f\"}, \"type\": \"carpet\"}], \"choropleth\": [{\"colorbar\": {\"outlinewidth\": 0, \"ticks\": \"\"}, \"type\": \"choropleth\"}], \"contour\": [{\"colorbar\": {\"outlinewidth\": 0, \"ticks\": \"\"}, \"colorscale\": [[0.0, \"#0d0887\"], [0.1111111111111111, \"#46039f\"], [0.2222222222222222, \"#7201a8\"], [0.3333333333333333, \"#9c179e\"], [0.4444444444444444, \"#bd3786\"], [0.5555555555555556, \"#d8576b\"], [0.6666666666666666, \"#ed7953\"], [0.7777777777777778, \"#fb9f3a\"], [0.8888888888888888, \"#fdca26\"], [1.0, \"#f0f921\"]], \"type\": \"contour\"}], \"contourcarpet\": [{\"colorbar\": {\"outlinewidth\": 0, \"ticks\": \"\"}, \"type\": \"contourcarpet\"}], \"heatmap\": [{\"colorbar\": {\"outlinewidth\": 0, \"ticks\": \"\"}, \"colorscale\": [[0.0, \"#0d0887\"], [0.1111111111111111, \"#46039f\"], [0.2222222222222222, \"#7201a8\"], [0.3333333333333333, \"#9c179e\"], [0.4444444444444444, \"#bd3786\"], [0.5555555555555556, \"#d8576b\"], [0.6666666666666666, \"#ed7953\"], [0.7777777777777778, \"#fb9f3a\"], [0.8888888888888888, \"#fdca26\"], [1.0, \"#f0f921\"]], \"type\": \"heatmap\"}], \"heatmapgl\": [{\"colorbar\": {\"outlinewidth\": 0, \"ticks\": \"\"}, \"colorscale\": [[0.0, \"#0d0887\"], [0.1111111111111111, \"#46039f\"], [0.2222222222222222, \"#7201a8\"], [0.3333333333333333, \"#9c179e\"], [0.4444444444444444, \"#bd3786\"], [0.5555555555555556, \"#d8576b\"], [0.6666666666666666, \"#ed7953\"], [0.7777777777777778, \"#fb9f3a\"], [0.8888888888888888, \"#fdca26\"], [1.0, \"#f0f921\"]], \"type\": \"heatmapgl\"}], \"histogram\": [{\"marker\": {\"colorbar\": {\"outlinewidth\": 0, \"ticks\": \"\"}}, \"type\": \"histogram\"}], \"histogram2d\": [{\"colorbar\": {\"outlinewidth\": 0, \"ticks\": \"\"}, \"colorscale\": [[0.0, \"#0d0887\"], [0.1111111111111111, \"#46039f\"], [0.2222222222222222, \"#7201a8\"], [0.3333333333333333, \"#9c179e\"], [0.4444444444444444, \"#bd3786\"], [0.5555555555555556, \"#d8576b\"], [0.6666666666666666, \"#ed7953\"], [0.7777777777777778, \"#fb9f3a\"], [0.8888888888888888, \"#fdca26\"], [1.0, \"#f0f921\"]], \"type\": \"histogram2d\"}], \"histogram2dcontour\": [{\"colorbar\": {\"outlinewidth\": 0, \"ticks\": \"\"}, \"colorscale\": [[0.0, \"#0d0887\"], [0.1111111111111111, \"#46039f\"], [0.2222222222222222, \"#7201a8\"], [0.3333333333333333, \"#9c179e\"], [0.4444444444444444, \"#bd3786\"], [0.5555555555555556, \"#d8576b\"], [0.6666666666666666, \"#ed7953\"], [0.7777777777777778, \"#fb9f3a\"], [0.8888888888888888, \"#fdca26\"], [1.0, \"#f0f921\"]], \"type\": \"histogram2dcontour\"}], \"mesh3d\": [{\"colorbar\": {\"outlinewidth\": 0, \"ticks\": \"\"}, \"type\": \"mesh3d\"}], \"parcoords\": [{\"line\": {\"colorbar\": {\"outlinewidth\": 0, \"ticks\": \"\"}}, \"type\": \"parcoords\"}], \"pie\": [{\"automargin\": true, \"type\": \"pie\"}], \"scatter\": [{\"marker\": {\"colorbar\": {\"outlinewidth\": 0, \"ticks\": \"\"}}, \"type\": \"scatter\"}], \"scatter3d\": [{\"line\": {\"colorbar\": {\"outlinewidth\": 0, \"ticks\": \"\"}}, \"marker\": {\"colorbar\": {\"outlinewidth\": 0, \"ticks\": \"\"}}, \"type\": \"scatter3d\"}], \"scattercarpet\": [{\"marker\": {\"colorbar\": {\"outlinewidth\": 0, \"ticks\": \"\"}}, \"type\": \"scattercarpet\"}], \"scattergeo\": [{\"marker\": {\"colorbar\": {\"outlinewidth\": 0, \"ticks\": \"\"}}, \"type\": \"scattergeo\"}], \"scattergl\": [{\"marker\": {\"colorbar\": {\"outlinewidth\": 0, \"ticks\": \"\"}}, \"type\": \"scattergl\"}], \"scattermapbox\": [{\"marker\": {\"colorbar\": {\"outlinewidth\": 0, \"ticks\": \"\"}}, \"type\": \"scattermapbox\"}], \"scatterpolar\": [{\"marker\": {\"colorbar\": {\"outlinewidth\": 0, \"ticks\": \"\"}}, \"type\": \"scatterpolar\"}], \"scatterpolargl\": [{\"marker\": {\"colorbar\": {\"outlinewidth\": 0, \"ticks\": \"\"}}, \"type\": \"scatterpolargl\"}], \"scatterternary\": [{\"marker\": {\"colorbar\": {\"outlinewidth\": 0, \"ticks\": \"\"}}, \"type\": \"scatterternary\"}], \"surface\": [{\"colorbar\": {\"outlinewidth\": 0, \"ticks\": \"\"}, \"colorscale\": [[0.0, \"#0d0887\"], [0.1111111111111111, \"#46039f\"], [0.2222222222222222, \"#7201a8\"], [0.3333333333333333, \"#9c179e\"], [0.4444444444444444, \"#bd3786\"], [0.5555555555555556, \"#d8576b\"], [0.6666666666666666, \"#ed7953\"], [0.7777777777777778, \"#fb9f3a\"], [0.8888888888888888, \"#fdca26\"], [1.0, \"#f0f921\"]], \"type\": \"surface\"}], \"table\": [{\"cells\": {\"fill\": {\"color\": \"#EBF0F8\"}, \"line\": {\"color\": \"white\"}}, \"header\": {\"fill\": {\"color\": \"#C8D4E3\"}, \"line\": {\"color\": \"white\"}}, \"type\": \"table\"}]}, \"layout\": {\"annotationdefaults\": {\"arrowcolor\": \"#2a3f5f\", \"arrowhead\": 0, \"arrowwidth\": 1}, \"coloraxis\": {\"colorbar\": {\"outlinewidth\": 0, \"ticks\": \"\"}}, \"colorscale\": {\"diverging\": [[0, \"#8e0152\"], [0.1, \"#c51b7d\"], [0.2, \"#de77ae\"], [0.3, \"#f1b6da\"], [0.4, \"#fde0ef\"], [0.5, \"#f7f7f7\"], [0.6, \"#e6f5d0\"], [0.7, \"#b8e186\"], [0.8, \"#7fbc41\"], [0.9, \"#4d9221\"], [1, \"#276419\"]], \"sequential\": [[0.0, \"#0d0887\"], [0.1111111111111111, \"#46039f\"], [0.2222222222222222, \"#7201a8\"], [0.3333333333333333, \"#9c179e\"], [0.4444444444444444, \"#bd3786\"], [0.5555555555555556, \"#d8576b\"], [0.6666666666666666, \"#ed7953\"], [0.7777777777777778, \"#fb9f3a\"], [0.8888888888888888, \"#fdca26\"], [1.0, \"#f0f921\"]], \"sequentialminus\": [[0.0, \"#0d0887\"], [0.1111111111111111, \"#46039f\"], [0.2222222222222222, \"#7201a8\"], [0.3333333333333333, \"#9c179e\"], [0.4444444444444444, \"#bd3786\"], [0.5555555555555556, \"#d8576b\"], [0.6666666666666666, \"#ed7953\"], [0.7777777777777778, \"#fb9f3a\"], [0.8888888888888888, \"#fdca26\"], [1.0, \"#f0f921\"]]}, \"colorway\": [\"#636efa\", \"#EF553B\", \"#00cc96\", \"#ab63fa\", \"#FFA15A\", \"#19d3f3\", \"#FF6692\", \"#B6E880\", \"#FF97FF\", \"#FECB52\"], \"font\": {\"color\": \"#2a3f5f\"}, \"geo\": {\"bgcolor\": \"white\", \"lakecolor\": \"white\", \"landcolor\": \"white\", \"showlakes\": true, \"showland\": true, \"subunitcolor\": \"#C8D4E3\"}, \"hoverlabel\": {\"align\": \"left\"}, \"hovermode\": \"closest\", \"mapbox\": {\"style\": \"light\"}, \"paper_bgcolor\": \"white\", \"plot_bgcolor\": \"white\", \"polar\": {\"angularaxis\": {\"gridcolor\": \"#EBF0F8\", \"linecolor\": \"#EBF0F8\", \"ticks\": \"\"}, \"bgcolor\": \"white\", \"radialaxis\": {\"gridcolor\": \"#EBF0F8\", \"linecolor\": \"#EBF0F8\", \"ticks\": \"\"}}, \"scene\": {\"xaxis\": {\"backgroundcolor\": \"white\", \"gridcolor\": \"#DFE8F3\", \"gridwidth\": 2, \"linecolor\": \"#EBF0F8\", \"showbackground\": true, \"ticks\": \"\", \"zerolinecolor\": \"#EBF0F8\"}, \"yaxis\": {\"backgroundcolor\": \"white\", \"gridcolor\": \"#DFE8F3\", \"gridwidth\": 2, \"linecolor\": \"#EBF0F8\", \"showbackground\": true, \"ticks\": \"\", \"zerolinecolor\": \"#EBF0F8\"}, \"zaxis\": {\"backgroundcolor\": \"white\", \"gridcolor\": \"#DFE8F3\", \"gridwidth\": 2, \"linecolor\": \"#EBF0F8\", \"showbackground\": true, \"ticks\": \"\", \"zerolinecolor\": \"#EBF0F8\"}}, \"shapedefaults\": {\"line\": {\"color\": \"#2a3f5f\"}}, \"ternary\": {\"aaxis\": {\"gridcolor\": \"#DFE8F3\", \"linecolor\": \"#A2B1C6\", \"ticks\": \"\"}, \"baxis\": {\"gridcolor\": \"#DFE8F3\", \"linecolor\": \"#A2B1C6\", \"ticks\": \"\"}, \"bgcolor\": \"white\", \"caxis\": {\"gridcolor\": \"#DFE8F3\", \"linecolor\": \"#A2B1C6\", \"ticks\": \"\"}}, \"title\": {\"x\": 0.05}, \"xaxis\": {\"automargin\": true, \"gridcolor\": \"#EBF0F8\", \"linecolor\": \"#EBF0F8\", \"ticks\": \"\", \"title\": {\"standoff\": 15}, \"zerolinecolor\": \"#EBF0F8\", \"zerolinewidth\": 2}, \"yaxis\": {\"automargin\": true, \"gridcolor\": \"#EBF0F8\", \"linecolor\": \"#EBF0F8\", \"ticks\": \"\", \"title\": {\"standoff\": 15}, \"zerolinecolor\": \"#EBF0F8\", \"zerolinewidth\": 2}}}, \"title\": {\"font\": {\"family\": \"JetBrains Mono\", \"size\": 25}, \"text\": \"Distribuidores de red, consumo promedio semanal\"}, \"width\": 1200},\n",
       "                        {\"responsive\": true}\n",
       "                    ).then(function(){\n",
       "                            \n",
       "var gd = document.getElementById('63db0301-9b3e-4c17-849c-8e6caba89f8f');\n",
       "var x = new MutationObserver(function (mutations, observer) {{\n",
       "        var display = window.getComputedStyle(gd).display;\n",
       "        if (!display || display === 'none') {{\n",
       "            console.log([gd, 'removed!']);\n",
       "            Plotly.purge(gd);\n",
       "            observer.disconnect();\n",
       "        }}\n",
       "}});\n",
       "\n",
       "// Listen for the removal of the full notebook cells\n",
       "var notebookContainer = gd.closest('#notebook-container');\n",
       "if (notebookContainer) {{\n",
       "    x.observe(notebookContainer, {childList: true});\n",
       "}}\n",
       "\n",
       "// Listen for the clearing of the current output cell\n",
       "var outputEl = gd.closest('.output');\n",
       "if (outputEl) {{\n",
       "    x.observe(outputEl, {childList: true});\n",
       "}}\n",
       "\n",
       "                        })\n",
       "                };\n",
       "                });\n",
       "            </script>\n",
       "        </div>"
      ]
     },
     "metadata": {},
     "output_type": "display_data"
    }
   ],
   "source": [
    "piechart = px.pie(data_frame = consumo_semanal_2,\n",
    "                  values='consumo_promedio_semanal',\n",
    "                  names='Operadores_de_red',\n",
    "                  hole=0.3,\n",
    "                  title='Distribuidores de red, consumo promedio semanal',\n",
    "                  width=1200,                   # figure width in pixels\n",
    "                  height=1000,                   # figure height in pixels\n",
    "                  template = 'plotly_white',\n",
    "                  )\n",
    "piechart.update_traces(hoverinfo='label+percent',insidetextfont=dict(color='white'))\n",
    "piechart.update_layout(legend={'itemclick':False,'itemdoubleclick':False})\n",
    "piechart.update_layout(title=dict(font=dict(family='JetBrains Mono',size=25)))\n",
    "piechart.show()"
   ]
  },
  {
   "attachments": {},
   "cell_type": "markdown",
   "metadata": {},
   "source": [
    "#### Observaciones\n",
    "Se puede evidenciar que los consumos en Codensa representan un 20% de las distribuciones de energía en Colombia en comparacións a las otras operadores, seguido de Antioquia y Atlantico. Las demas no logran ni el 5% sin embargo entre todas ellas superan el 50% de distribución de energía en Colombia"
   ]
  },
  {
   "attachments": {},
   "cell_type": "markdown",
   "metadata": {},
   "source": [
    "#### ANÁLISIS Y CONCLUSIÓNES **********************************************************************************************\n",
    "Según los análisis presentados se evidencia que la hora de más consumo en el País durante las primeras semanas se evidencia que la hora de más consumo en promedio son las 18:26, según dicho dato se puede concluir que el horario de la tarde/noche según el grafico de barras anterior es donde las personas tienden a consumir más, esto indica que a pesar de que las industrias tiendan a requerir mas energía que una vivienda familiar, si se tienen muchas viviendas conectandose a dichas horas se presentará un mayor consumo energético. Donde en la mayoria de las regiones se presentan horarios sobre las 20:00, indicando que al necesitar de mayor uso de luces, aparatos de entretenimiento/ trabajo y por el reciente aumento de vida virtual el consumo en horarios nocturnos es mayor que en el transcurso del día para la mayoria de las regiones.\n",
    "Sin embargo a pesar de que el consumo es mayor en horas nocturnas, revisando el gráfico en ciertas zonas no se presento dicho caso, donde para 3 regiones se presentó en horas de la madrugada, mañana y medio día. Lo cual puede suponerse como falta de recurso energético por ciertos horarios, tienen una zona industrial mucho mas grande que las zonas urbanas o son zonas con grandes zonas rurales donde la forma de vida de las personas no este tan adaptada a la digitalización.\n",
    "\n",
    "#### *RESPUESTAS A PREGUNTAS*\n",
    "1 -> **18:26 h**\n",
    "\n",
    "2 -> **Sector urbano** (Incluyendo al consumo de las personas en transporte, entretenimiento, etc.). Para definirse un sector mas preciso se necesita mas información\n",
    "\n",
    "3 -> **No**. Sin embargo, se pueden presentar ciertas excepciones las cuales necesitan mayor información para generarse una solución clara."
   ]
  },
  {
   "attachments": {},
   "cell_type": "markdown",
   "metadata": {},
   "source": [
    "### RECOMENDACIONES\n",
    "\n",
    "Se recomienda que las energías renovables entren a generar energía en franjas de la tarde-noche, esto con el fin de disminuir los picos de consumo por parte de las operadores y tambien en franjas del medio día. Esto hará mas prevesible los cambios en la energía tratandose de mantener en una región mas estable.\n",
    "\n",
    "Se recomienda que las energías renovables efectuen controles avanzados para ajuste de la frecuencia cuando se conecten a la red, generando documentación, etiquetas de seguridad e instalación de control para tener monitoreado en todo momento el consumo y su fase.\n",
    "\n",
    "Se recomienda incentivar en el eficiencia energética en empresas y zonas residenciales para tratar de usar mejores equipos que manejen de mejor forma la energía utilizada."
   ]
  }
 ],
 "metadata": {
  "kernelspec": {
   "display_name": "Python 3",
   "language": "python",
   "name": "python3"
  },
  "language_info": {
   "codemirror_mode": {
    "name": "ipython",
    "version": 3
   },
   "file_extension": ".py",
   "mimetype": "text/x-python",
   "name": "python",
   "nbconvert_exporter": "python",
   "pygments_lexer": "ipython3",
   "version": "3.10.4"
  },
  "orig_nbformat": 4
 },
 "nbformat": 4,
 "nbformat_minor": 2
}
